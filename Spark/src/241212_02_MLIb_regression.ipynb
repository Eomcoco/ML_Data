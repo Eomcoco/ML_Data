{
 "cells": [
  {
   "cell_type": "code",
   "execution_count": 2,
   "id": "3b07a115",
   "metadata": {},
   "outputs": [
    {
     "name": "stderr",
     "output_type": "stream",
     "text": [
      "24/12/13 10:24:27 WARN NativeCodeLoader: Unable to load native-hadoop library for your platform... using builtin-java classes where applicable\n",
      "Using Spark's default log4j profile: org/apache/spark/log4j-defaults.properties\n",
      "Setting default log level to \"WARN\".\n",
      "To adjust logging level use sc.setLogLevel(newLevel). For SparkR, use setLogLevel(newLevel).\n"
     ]
    }
   ],
   "source": [
    "from pyspark.sql import SparkSession\n",
    "\n",
    "spark = SparkSession.builder.appName(\"241212_01_MLlib_regression\").getOrCreate()"
   ]
  },
  {
   "cell_type": "code",
   "execution_count": null,
   "id": "651e0dcd",
   "metadata": {},
   "outputs": [],
   "source": [
    "#data load"
   ]
  },
  {
   "cell_type": "code",
   "execution_count": 3,
   "id": "97ec1fbd",
   "metadata": {},
   "outputs": [
    {
     "name": "stderr",
     "output_type": "stream",
     "text": [
      "\r",
      "[Stage 0:>                                                          (0 + 1) / 1]\r",
      "\r",
      "                                                                                \r"
     ]
    }
   ],
   "source": [
    "train_df = spark.read.format(\"csv\")\\\n",
    "    .option(\"header\", 'true')\\\n",
    "    .option('inferSchema', 'true')\\\n",
    "    .load('data/house_train.csv')"
   ]
  },
  {
   "cell_type": "code",
   "execution_count": 4,
   "id": "18611fdc",
   "metadata": {},
   "outputs": [],
   "source": [
    "test_df = spark.read.format(\"csv\")\\\n",
    "    .option(\"header\", 'true')\\\n",
    "    .option('inferSchema', 'true')\\\n",
    "    .load('data/house_test.csv')"
   ]
  },
  {
   "cell_type": "code",
   "execution_count": 5,
   "id": "675772e0",
   "metadata": {},
   "outputs": [
    {
     "name": "stdout",
     "output_type": "stream",
     "text": [
      "root\n",
      " |-- Id: integer (nullable = true)\n",
      " |-- MSSubClass: integer (nullable = true)\n",
      " |-- MSZoning: string (nullable = true)\n",
      " |-- LotFrontage: string (nullable = true)\n",
      " |-- LotArea: integer (nullable = true)\n",
      " |-- Street: string (nullable = true)\n",
      " |-- Alley: string (nullable = true)\n",
      " |-- LotShape: string (nullable = true)\n",
      " |-- LandContour: string (nullable = true)\n",
      " |-- Utilities: string (nullable = true)\n",
      " |-- LotConfig: string (nullable = true)\n",
      " |-- LandSlope: string (nullable = true)\n",
      " |-- Neighborhood: string (nullable = true)\n",
      " |-- Condition1: string (nullable = true)\n",
      " |-- Condition2: string (nullable = true)\n",
      " |-- BldgType: string (nullable = true)\n",
      " |-- HouseStyle: string (nullable = true)\n",
      " |-- OverallQual: integer (nullable = true)\n",
      " |-- OverallCond: integer (nullable = true)\n",
      " |-- YearBuilt: integer (nullable = true)\n",
      " |-- YearRemodAdd: integer (nullable = true)\n",
      " |-- RoofStyle: string (nullable = true)\n",
      " |-- RoofMatl: string (nullable = true)\n",
      " |-- Exterior1st: string (nullable = true)\n",
      " |-- Exterior2nd: string (nullable = true)\n",
      " |-- MasVnrType: string (nullable = true)\n",
      " |-- MasVnrArea: string (nullable = true)\n",
      " |-- ExterQual: string (nullable = true)\n",
      " |-- ExterCond: string (nullable = true)\n",
      " |-- Foundation: string (nullable = true)\n",
      " |-- BsmtQual: string (nullable = true)\n",
      " |-- BsmtCond: string (nullable = true)\n",
      " |-- BsmtExposure: string (nullable = true)\n",
      " |-- BsmtFinType1: string (nullable = true)\n",
      " |-- BsmtFinSF1: integer (nullable = true)\n",
      " |-- BsmtFinType2: string (nullable = true)\n",
      " |-- BsmtFinSF2: integer (nullable = true)\n",
      " |-- BsmtUnfSF: integer (nullable = true)\n",
      " |-- TotalBsmtSF: integer (nullable = true)\n",
      " |-- Heating: string (nullable = true)\n",
      " |-- HeatingQC: string (nullable = true)\n",
      " |-- CentralAir: string (nullable = true)\n",
      " |-- Electrical: string (nullable = true)\n",
      " |-- 1stFlrSF: integer (nullable = true)\n",
      " |-- 2ndFlrSF: integer (nullable = true)\n",
      " |-- LowQualFinSF: integer (nullable = true)\n",
      " |-- GrLivArea: integer (nullable = true)\n",
      " |-- BsmtFullBath: integer (nullable = true)\n",
      " |-- BsmtHalfBath: integer (nullable = true)\n",
      " |-- FullBath: integer (nullable = true)\n",
      " |-- HalfBath: integer (nullable = true)\n",
      " |-- BedroomAbvGr: integer (nullable = true)\n",
      " |-- KitchenAbvGr: integer (nullable = true)\n",
      " |-- KitchenQual: string (nullable = true)\n",
      " |-- TotRmsAbvGrd: integer (nullable = true)\n",
      " |-- Functional: string (nullable = true)\n",
      " |-- Fireplaces: integer (nullable = true)\n",
      " |-- FireplaceQu: string (nullable = true)\n",
      " |-- GarageType: string (nullable = true)\n",
      " |-- GarageYrBlt: string (nullable = true)\n",
      " |-- GarageFinish: string (nullable = true)\n",
      " |-- GarageCars: integer (nullable = true)\n",
      " |-- GarageArea: integer (nullable = true)\n",
      " |-- GarageQual: string (nullable = true)\n",
      " |-- GarageCond: string (nullable = true)\n",
      " |-- PavedDrive: string (nullable = true)\n",
      " |-- WoodDeckSF: integer (nullable = true)\n",
      " |-- OpenPorchSF: integer (nullable = true)\n",
      " |-- EnclosedPorch: integer (nullable = true)\n",
      " |-- 3SsnPorch: integer (nullable = true)\n",
      " |-- ScreenPorch: integer (nullable = true)\n",
      " |-- PoolArea: integer (nullable = true)\n",
      " |-- PoolQC: string (nullable = true)\n",
      " |-- Fence: string (nullable = true)\n",
      " |-- MiscFeature: string (nullable = true)\n",
      " |-- MiscVal: integer (nullable = true)\n",
      " |-- MoSold: integer (nullable = true)\n",
      " |-- YrSold: integer (nullable = true)\n",
      " |-- SaleType: string (nullable = true)\n",
      " |-- SaleCondition: string (nullable = true)\n",
      " |-- SalePrice: integer (nullable = true)\n",
      "\n"
     ]
    }
   ],
   "source": [
    "train_df.printSchema()"
   ]
  },
  {
   "cell_type": "code",
   "execution_count": 7,
   "id": "8f8982bb",
   "metadata": {},
   "outputs": [],
   "source": [
    "#전처리\n",
    "train_df = train_df.withColumn( \"GarageArea\", train_df[\"GarageArea\"].cast(\"integer\") )\n",
    "test_df = test_df.withColumn( \"GarageArea\",  test_df[\"GarageArea\"].cast(\"integer\") )"
   ]
  },
  {
   "cell_type": "code",
   "execution_count": 8,
   "id": "c426fce5",
   "metadata": {},
   "outputs": [],
   "source": [
    "train_df = train_df.withColumn( \"GarageCars\", train_df[\"GarageCars\"].cast(\"integer\") )\n",
    "test_df = test_df.withColumn( \"GarageCars\",  test_df[\"GarageCars\"].cast(\"integer\") )"
   ]
  },
  {
   "cell_type": "code",
   "execution_count": 9,
   "id": "6e3bf6a8",
   "metadata": {},
   "outputs": [
    {
     "name": "stdout",
     "output_type": "stream",
     "text": [
      "root\n",
      " |-- Id: integer (nullable = true)\n",
      " |-- MSSubClass: integer (nullable = true)\n",
      " |-- MSZoning: string (nullable = true)\n",
      " |-- LotFrontage: string (nullable = true)\n",
      " |-- LotArea: integer (nullable = true)\n",
      " |-- Street: string (nullable = true)\n",
      " |-- Alley: string (nullable = true)\n",
      " |-- LotShape: string (nullable = true)\n",
      " |-- LandContour: string (nullable = true)\n",
      " |-- Utilities: string (nullable = true)\n",
      " |-- LotConfig: string (nullable = true)\n",
      " |-- LandSlope: string (nullable = true)\n",
      " |-- Neighborhood: string (nullable = true)\n",
      " |-- Condition1: string (nullable = true)\n",
      " |-- Condition2: string (nullable = true)\n",
      " |-- BldgType: string (nullable = true)\n",
      " |-- HouseStyle: string (nullable = true)\n",
      " |-- OverallQual: integer (nullable = true)\n",
      " |-- OverallCond: integer (nullable = true)\n",
      " |-- YearBuilt: integer (nullable = true)\n",
      " |-- YearRemodAdd: integer (nullable = true)\n",
      " |-- RoofStyle: string (nullable = true)\n",
      " |-- RoofMatl: string (nullable = true)\n",
      " |-- Exterior1st: string (nullable = true)\n",
      " |-- Exterior2nd: string (nullable = true)\n",
      " |-- MasVnrType: string (nullable = true)\n",
      " |-- MasVnrArea: string (nullable = true)\n",
      " |-- ExterQual: string (nullable = true)\n",
      " |-- ExterCond: string (nullable = true)\n",
      " |-- Foundation: string (nullable = true)\n",
      " |-- BsmtQual: string (nullable = true)\n",
      " |-- BsmtCond: string (nullable = true)\n",
      " |-- BsmtExposure: string (nullable = true)\n",
      " |-- BsmtFinType1: string (nullable = true)\n",
      " |-- BsmtFinSF1: integer (nullable = true)\n",
      " |-- BsmtFinType2: string (nullable = true)\n",
      " |-- BsmtFinSF2: integer (nullable = true)\n",
      " |-- BsmtUnfSF: integer (nullable = true)\n",
      " |-- TotalBsmtSF: integer (nullable = true)\n",
      " |-- Heating: string (nullable = true)\n",
      " |-- HeatingQC: string (nullable = true)\n",
      " |-- CentralAir: string (nullable = true)\n",
      " |-- Electrical: string (nullable = true)\n",
      " |-- 1stFlrSF: integer (nullable = true)\n",
      " |-- 2ndFlrSF: integer (nullable = true)\n",
      " |-- LowQualFinSF: integer (nullable = true)\n",
      " |-- GrLivArea: integer (nullable = true)\n",
      " |-- BsmtFullBath: integer (nullable = true)\n",
      " |-- BsmtHalfBath: integer (nullable = true)\n",
      " |-- FullBath: integer (nullable = true)\n",
      " |-- HalfBath: integer (nullable = true)\n",
      " |-- BedroomAbvGr: integer (nullable = true)\n",
      " |-- KitchenAbvGr: integer (nullable = true)\n",
      " |-- KitchenQual: string (nullable = true)\n",
      " |-- TotRmsAbvGrd: integer (nullable = true)\n",
      " |-- Functional: string (nullable = true)\n",
      " |-- Fireplaces: integer (nullable = true)\n",
      " |-- FireplaceQu: string (nullable = true)\n",
      " |-- GarageType: string (nullable = true)\n",
      " |-- GarageYrBlt: string (nullable = true)\n",
      " |-- GarageFinish: string (nullable = true)\n",
      " |-- GarageCars: integer (nullable = true)\n",
      " |-- GarageArea: integer (nullable = true)\n",
      " |-- GarageQual: string (nullable = true)\n",
      " |-- GarageCond: string (nullable = true)\n",
      " |-- PavedDrive: string (nullable = true)\n",
      " |-- WoodDeckSF: integer (nullable = true)\n",
      " |-- OpenPorchSF: integer (nullable = true)\n",
      " |-- EnclosedPorch: integer (nullable = true)\n",
      " |-- 3SsnPorch: integer (nullable = true)\n",
      " |-- ScreenPorch: integer (nullable = true)\n",
      " |-- PoolArea: integer (nullable = true)\n",
      " |-- PoolQC: string (nullable = true)\n",
      " |-- Fence: string (nullable = true)\n",
      " |-- MiscFeature: string (nullable = true)\n",
      " |-- MiscVal: integer (nullable = true)\n",
      " |-- MoSold: integer (nullable = true)\n",
      " |-- YrSold: integer (nullable = true)\n",
      " |-- SaleType: string (nullable = true)\n",
      " |-- SaleCondition: string (nullable = true)\n",
      " |-- SalePrice: integer (nullable = true)\n",
      "\n"
     ]
    }
   ],
   "source": [
    "train_df.printSchema()"
   ]
  },
  {
   "cell_type": "code",
   "execution_count": 10,
   "id": "304d9c42",
   "metadata": {},
   "outputs": [],
   "source": [
    "# 결측치 0\n",
    "train_df = train_df.fillna(0)\n",
    "test_df = test_df.fillna(0)"
   ]
  },
  {
   "cell_type": "code",
   "execution_count": 11,
   "id": "3ea83723",
   "metadata": {},
   "outputs": [],
   "source": [
    "from pyspark.ml.feature import StringIndexer, VectorAssembler, OneHotEncoder"
   ]
  },
  {
   "cell_type": "code",
   "execution_count": 12,
   "id": "3bed8f17",
   "metadata": {},
   "outputs": [],
   "source": [
    "string_columns = ['Neighborhood']\n",
    "indexers = [StringIndexer(inputCol=col, outputCol=col+\"_index\")   for col in string_columns]"
   ]
  },
  {
   "cell_type": "code",
   "execution_count": 13,
   "id": "ef1e5d95",
   "metadata": {},
   "outputs": [],
   "source": [
    "# onehotencoding : 범주형변수 1,2,3,4, -> 1로 바꾸는 인코딩\n",
    "# 모두 1로 바꾼다.\n",
    "encoders = [OneHotEncoder(inputCol=col+\"_index\", outputCol=col+\"_encoded\")   for col in string_columns]"
   ]
  },
  {
   "cell_type": "code",
   "execution_count": 14,
   "id": "eae57101",
   "metadata": {},
   "outputs": [],
   "source": [
    "#features selection"
   ]
  },
  {
   "cell_type": "code",
   "execution_count": 15,
   "id": "d86b5a9e",
   "metadata": {},
   "outputs": [],
   "source": [
    "numeric_columns = [\"LotArea\", \"OverallQual\", \"OverallCond\", \"YearBuilt\", \"YearRemodAdd\", \n",
    "    \"1stFlrSF\", \"2ndFlrSF\", \"GrLivArea\", \"GarageCars\", \"GarageArea\"]"
   ]
  },
  {
   "cell_type": "code",
   "execution_count": 18,
   "id": "8ae09dcf",
   "metadata": {},
   "outputs": [],
   "source": [
    "assembler_inputs = [col+\"_encoded\" for col in string_columns] + numeric_columns"
   ]
  },
  {
   "cell_type": "code",
   "execution_count": 19,
   "id": "f861a5a0",
   "metadata": {},
   "outputs": [],
   "source": [
    "assembler = VectorAssembler(inputCols=assembler_inputs, outputCol=\"features\")"
   ]
  },
  {
   "cell_type": "code",
   "execution_count": 20,
   "id": "837a7f0d",
   "metadata": {},
   "outputs": [],
   "source": [
    "train_df = train_df.withColumnRenamed(\"SalePrice\", \"label\")"
   ]
  },
  {
   "cell_type": "code",
   "execution_count": null,
   "id": "c3599403",
   "metadata": {},
   "outputs": [],
   "source": []
  },
  {
   "cell_type": "code",
   "execution_count": 21,
   "id": "5572af70",
   "metadata": {},
   "outputs": [],
   "source": [
    "from pyspark.ml import Pipeline"
   ]
  },
  {
   "cell_type": "code",
   "execution_count": 22,
   "id": "796421f7",
   "metadata": {},
   "outputs": [],
   "source": [
    "pipeline = Pipeline(stages = indexers+encoders+[assembler])"
   ]
  },
  {
   "cell_type": "code",
   "execution_count": 23,
   "id": "1c29b782",
   "metadata": {},
   "outputs": [
    {
     "name": "stderr",
     "output_type": "stream",
     "text": [
      "\r",
      "[Stage 4:>                                                          (0 + 1) / 1]\r",
      "\r",
      "                                                                                \r"
     ]
    }
   ],
   "source": [
    "pipeline_model = pipeline.fit(train_df)"
   ]
  },
  {
   "cell_type": "code",
   "execution_count": 24,
   "id": "bf2a12a9",
   "metadata": {},
   "outputs": [],
   "source": [
    "train_transformed = pipeline_model.transform(train_df)"
   ]
  },
  {
   "cell_type": "code",
   "execution_count": 25,
   "id": "5d87a269",
   "metadata": {},
   "outputs": [],
   "source": [
    "# 예측 -> 회귀 모델 학습 -> 평가 -> 예측"
   ]
  },
  {
   "cell_type": "code",
   "execution_count": 26,
   "id": "4325e6e3",
   "metadata": {},
   "outputs": [],
   "source": [
    "from pyspark.ml.regression import LinearRegression"
   ]
  },
  {
   "cell_type": "code",
   "execution_count": 27,
   "id": "87f9531a",
   "metadata": {},
   "outputs": [
    {
     "name": "stderr",
     "output_type": "stream",
     "text": [
      "24/12/13 10:27:28 WARN Instrumentation: [49516d23] regParam is zero, which might cause numerical instability and overfitting.\n",
      "24/12/13 10:27:29 WARN BLAS: Failed to load implementation from: com.github.fommil.netlib.NativeSystemBLAS\n",
      "24/12/13 10:27:29 WARN BLAS: Failed to load implementation from: com.github.fommil.netlib.NativeRefBLAS\n",
      "24/12/13 10:27:29 WARN LAPACK: Failed to load implementation from: com.github.fommil.netlib.NativeSystemLAPACK\n",
      "24/12/13 10:27:29 WARN LAPACK: Failed to load implementation from: com.github.fommil.netlib.NativeRefLAPACK\n"
     ]
    }
   ],
   "source": [
    "lr = LinearRegression(featuresCol=\"features\",labelCol=\"label\")\n",
    "lr_model = lr.fit(train_transformed)\n"
   ]
  },
  {
   "cell_type": "code",
   "execution_count": 30,
   "id": "f5b4ee66",
   "metadata": {},
   "outputs": [],
   "source": [
    "# 평가 데이터 를 이용한 평가> FIT - 모델 맞춤 과정, 테스트 데이터에 의해 규칙이 변화\n",
    "\n",
    "test_transformed = pipeline_model.transform( test_df )\n",
    "predictions = lr_model.transform(test_transformed)"
   ]
  },
  {
   "cell_type": "code",
   "execution_count": 32,
   "id": "a8b298ac",
   "metadata": {},
   "outputs": [
    {
     "name": "stdout",
     "output_type": "stream",
     "text": [
      "+----+-------------------------------------------------------------------------------------------------------+------------------+\n",
      "|id  |features                                                                                               |prediction        |\n",
      "+----+-------------------------------------------------------------------------------------------------------+------------------+\n",
      "|1461|(34,[0,24,25,26,27,28,29,31,32,33],[1.0,11622.0,5.0,6.0,1961.0,1961.0,896.0,896.0,1.0,730.0])          |114113.60325331613|\n",
      "|1462|(34,[0,24,25,26,27,28,29,31,32,33],[1.0,14267.0,6.0,6.0,1958.0,1958.0,1329.0,1329.0,1.0,312.0])        |156145.8445868329 |\n",
      "|1463|(34,[5,24,25,26,27,28,29,30,31,32,33],[1.0,13830.0,5.0,5.0,1997.0,1998.0,928.0,701.0,1629.0,2.0,482.0])|168254.6697326172 |\n",
      "|1464|(34,[5,24,25,26,27,28,29,30,31,32,33],[1.0,9978.0,6.0,6.0,1998.0,1998.0,926.0,678.0,1604.0,2.0,470.0]) |186898.44701529457|\n",
      "|1465|(34,[18,24,25,26,27,28,29,31,32,33],[1.0,5005.0,8.0,5.0,1992.0,1992.0,1280.0,1280.0,2.0,506.0])        |263561.2240313499 |\n",
      "|1466|(34,[5,24,25,26,27,28,29,30,31,32,33],[1.0,10000.0,6.0,5.0,1993.0,1994.0,763.0,892.0,1655.0,2.0,440.0])|175809.50195952365|\n",
      "|1467|(34,[5,24,25,26,27,28,29,31,32,33],[1.0,7980.0,6.0,7.0,1992.0,2007.0,1187.0,1187.0,2.0,420.0])         |178614.1366187206 |\n",
      "|1468|(34,[5,24,25,26,27,28,29,30,31,32,33],[1.0,8402.0,6.0,5.0,1998.0,1998.0,789.0,676.0,1465.0,2.0,393.0]) |169044.90403965162|\n",
      "|1469|(34,[5,24,25,26,27,28,29,31,32,33],[1.0,10176.0,7.0,5.0,1990.0,1990.0,1341.0,1341.0,2.0,506.0])        |189982.47999848984|\n",
      "|1470|(34,[0,24,25,26,27,28,29,31,32,33],[1.0,8400.0,4.0,5.0,1970.0,1970.0,882.0,882.0,2.0,525.0])           |102005.8108274308 |\n",
      "+----+-------------------------------------------------------------------------------------------------------+------------------+\n",
      "only showing top 10 rows\n",
      "\n"
     ]
    }
   ],
   "source": [
    "predictions.select(\"id\", \"features\", \"prediction\").show(10, truncate=False)"
   ]
  },
  {
   "cell_type": "code",
   "execution_count": 33,
   "id": "1ca03b98",
   "metadata": {},
   "outputs": [],
   "source": [
    "# 결과 저장\n",
    "predictions.select(\"id\", \"prediction\") \\\n",
    ".withColumnRenamed('prediction', 'SalePrice') \\\n",
    ".write.csv('data/output/house_prediction.csv', header=True, mode='overwrite')"
   ]
  },
  {
   "cell_type": "code",
   "execution_count": null,
   "id": "d33e4288",
   "metadata": {},
   "outputs": [],
   "source": [
    "#예측 모델의 활용\n",
    "#1. 파이프 라인 저장 -> 로컬 data/output/ > 모델 저장소에 저장\n",
    "#2. 모델 저장 > 로컬 > 모델저장소에 저장"
   ]
  },
  {
   "cell_type": "code",
   "execution_count": 36,
   "id": "f0a55b60",
   "metadata": {},
   "outputs": [
    {
     "name": "stdout",
     "output_type": "stream",
     "text": [
      "model saved..\n"
     ]
    }
   ],
   "source": [
    "model_save_path = 'data/output/boston_housing_lr_model'\n",
    "pipeline_save_path = 'data/output/boston_housing_pipeline_model'\n",
    "\n",
    "pipeline_model.write().overwrite().save(pipeline_save_path)\n",
    "lr_model.write().overwrite().save(model_save_path)\n",
    "print('model saved..')"
   ]
  },
  {
   "cell_type": "code",
   "execution_count": 42,
   "id": "2ed4f1f9",
   "metadata": {},
   "outputs": [],
   "source": [
    "from pyspark.ml import PipelineModel\n",
    "from pyspark.ml.regression import LinearRegressionModel"
   ]
  },
  {
   "cell_type": "code",
   "execution_count": 43,
   "id": "9664bdd4",
   "metadata": {},
   "outputs": [
    {
     "data": {
      "text/plain": [
       "PipelineModel_baa9f0813080"
      ]
     },
     "execution_count": 43,
     "metadata": {},
     "output_type": "execute_result"
    }
   ],
   "source": [
    "loaded_pipeline = PipelineModel.load(pipeline_save_path)\n",
    "loaded_pipeline"
   ]
  },
  {
   "cell_type": "code",
   "execution_count": 44,
   "id": "dd4e4330",
   "metadata": {},
   "outputs": [
    {
     "data": {
      "text/plain": [
       "LinearRegressionModel: uid=LinearRegression_a47694ee88ed, numFeatures=34"
      ]
     },
     "execution_count": 44,
     "metadata": {},
     "output_type": "execute_result"
    }
   ],
   "source": [
    "loaded_model = LinearRegressionModel.load(model_save_path)\n",
    "loaded_model"
   ]
  },
  {
   "cell_type": "code",
   "execution_count": 46,
   "id": "dc62433f",
   "metadata": {},
   "outputs": [],
   "source": [
    "import pandas as pd"
   ]
  },
  {
   "cell_type": "code",
   "execution_count": 47,
   "id": "7e01d26e",
   "metadata": {},
   "outputs": [],
   "source": [
    "# 새로운 데이터 샘플 생성\n",
    "data = {\n",
    "    \"Id\": [1461],\n",
    "    \"MSSubClass\": [20],\n",
    "    \"MSZoning\": [\"RH\"],\n",
    "    \"LotFrontage\": [80],\n",
    "    \"LotArea\": [11622],\n",
    "    \"Street\": [\"Pave\"],\n",
    "    \"Alley\": [None],  # NA를 None으로 표현\n",
    "    \"LotShape\": [\"Reg\"],\n",
    "    \"LandContour\": [\"Lvl\"],\n",
    "    \"Utilities\": [\"AllPub\"],\n",
    "    \"LotConfig\": [\"Inside\"],\n",
    "    \"LandSlope\": [\"Gtl\"],\n",
    "    \"Neighborhood\": [\"NAmes\"],\n",
    "    \"Condition1\": [\"Feedr\"],\n",
    "    \"Condition2\": [\"Norm\"],\n",
    "    \"BldgType\": [\"1Fam\"],\n",
    "    \"HouseStyle\": [\"1Story\"],\n",
    "    \"OverallQual\": [5],\n",
    "    \"OverallCond\": [6],\n",
    "    \"YearBuilt\": [1961],\n",
    "    \"YearRemodAdd\": [1961],\n",
    "    \"RoofStyle\": [\"Gable\"],\n",
    "    \"RoofMatl\": [\"CompShg\"],\n",
    "    \"Exterior1st\": [\"VinylSd\"],\n",
    "    \"Exterior2nd\": [\"VinylSd\"],\n",
    "    \"MasVnrType\": [None],  # None은 NA를 의미\n",
    "    \"MasVnrArea\": [0],\n",
    "    \"ExterQual\": [\"TA\"],\n",
    "    \"ExterCond\": [\"TA\"],\n",
    "    \"Foundation\": [\"CBlock\"],\n",
    "    \"BsmtQual\": [\"TA\"],\n",
    "    \"BsmtCond\": [\"TA\"],\n",
    "    \"BsmtExposure\": [\"No\"],\n",
    "    \"BsmtFinType1\": [\"Rec\"],\n",
    "    \"BsmtFinSF1\": [468],\n",
    "    \"BsmtFinType2\": [\"LwQ\"],\n",
    "    \"BsmtFinSF2\": [144],\n",
    "    \"BsmtUnfSF\": [270],\n",
    "    \"TotalBsmtSF\": [882],\n",
    "    \"Heating\": [\"GasA\"],\n",
    "    \"HeatingQC\": [\"TA\"],\n",
    "    \"CentralAir\": [\"Y\"],\n",
    "    \"Electrical\": [\"SBrkr\"],\n",
    "    \"1stFlrSF\": [896],\n",
    "    \"2ndFlrSF\": [0],\n",
    "    \"LowQualFinSF\": [0],\n",
    "    \"GrLivArea\": [896],\n",
    "    \"BsmtFullBath\": [0],\n",
    "    \"BsmtHalfBath\": [0],\n",
    "    \"FullBath\": [1],\n",
    "    \"HalfBath\": [0],\n",
    "    \"BedroomAbvGr\": [2],\n",
    "    \"KitchenAbvGr\": [1],\n",
    "    \"KitchenQual\": [\"TA\"],\n",
    "    \"TotRmsAbvGrd\": [5],\n",
    "    \"Functional\": [\"Typ\"],\n",
    "    \"Fireplaces\": [0],\n",
    "    \"FireplaceQu\": [None],  # NA를 None으로 표현\n",
    "    \"GarageType\": [\"Attchd\"],\n",
    "    \"GarageYrBlt\": [1961],\n",
    "    \"GarageFinish\": [\"Unf\"],\n",
    "    \"GarageCars\": [1],\n",
    "    \"GarageArea\": [730],\n",
    "    \"GarageQual\": [\"TA\"],\n",
    "    \"GarageCond\": [\"TA\"],\n",
    "    \"PavedDrive\": [\"Y\"],\n",
    "    \"WoodDeckSF\": [140],\n",
    "    \"OpenPorchSF\": [0],\n",
    "    \"EnclosedPorch\": [0],\n",
    "    \"3SsnPorch\": [0],\n",
    "    \"ScreenPorch\": [120],\n",
    "    \"PoolArea\": [0],\n",
    "    \"PoolQC\": [None],  # NA를 None으로 표현\n",
    "    \"Fence\": [\"MnPrv\"],\n",
    "    \"MiscFeature\": [None],  # NA를 None으로 표현\n",
    "    \"MiscVal\": [0],\n",
    "    \"MoSold\": [6],\n",
    "    \"YrSold\": [2010],\n",
    "    \"SaleType\": [\"WD\"],\n",
    "    \"SaleCondition\":[\"Normal\"]\n",
    "}\n",
    "pd.DataFrame(data).to_csv('data/new_test_data.csv', index=False)"
   ]
  },
  {
   "cell_type": "code",
   "execution_count": 48,
   "id": "f3be90ab",
   "metadata": {},
   "outputs": [],
   "source": [
    "new_test_data = spark.read.csv('data/new_test_data.csv', header=True, inferSchema=True)"
   ]
  },
  {
   "cell_type": "code",
   "execution_count": 51,
   "id": "61021186",
   "metadata": {},
   "outputs": [],
   "source": [
    "# 필요한 특성만 선택 (파이프라인에서 사용된 특성들)\n",
    "# 수치형 컬럼 + 범주형 컬럼 정의\n",
    "selected_features = [\n",
    "    \"LotArea\", \"OverallQual\", \"OverallCond\", \"YearBuilt\", \"YearRemodAdd\", \n",
    "    \"1stFlrSF\", \"2ndFlrSF\", \"GrLivArea\", \"GarageCars\", \"GarageArea\", \"Neighborhood\"\n",
    "]"
   ]
  },
  {
   "cell_type": "code",
   "execution_count": 52,
   "id": "b4823880",
   "metadata": {},
   "outputs": [],
   "source": [
    "# 데이터 타입 변환 및 필요한 특성 선택\n",
    "new_test_data = new_test_data.withColumn(\"GarageCars\", new_test_data[\"GarageCars\"].cast(\"integer\"))\n",
    "new_test_data = new_test_data.withColumn(\"GarageArea\", new_test_data[\"GarageArea\"].cast(\"integer\"))"
   ]
  },
  {
   "cell_type": "code",
   "execution_count": null,
   "id": "77219d44",
   "metadata": {},
   "outputs": [],
   "source": []
  },
  {
   "cell_type": "code",
   "execution_count": 53,
   "id": "4e000daa",
   "metadata": {},
   "outputs": [],
   "source": [
    "#파이프 라인에 새로운 데이터를 넣어준다\n",
    "new_pipe_data = loaded_pipeline.transform(new_test_data)"
   ]
  },
  {
   "cell_type": "code",
   "execution_count": 54,
   "id": "3ab02f20",
   "metadata": {},
   "outputs": [],
   "source": [
    "#파이플라인이 변환한 데이터를 모델에 넣어준다\n",
    "new_pred = loaded_model.transform(new_pipe_data)"
   ]
  },
  {
   "cell_type": "code",
   "execution_count": 55,
   "id": "7cf55901",
   "metadata": {},
   "outputs": [
    {
     "name": "stdout",
     "output_type": "stream",
     "text": [
      "+------------------+\n",
      "|        prediction|\n",
      "+------------------+\n",
      "|114113.60325331613|\n",
      "+------------------+\n",
      "\n"
     ]
    }
   ],
   "source": [
    "#예측 수행\n",
    "new_pred.select(\"prediction\").show()"
   ]
  },
  {
   "cell_type": "code",
   "execution_count": null,
   "id": "209a8df8",
   "metadata": {},
   "outputs": [],
   "source": []
  },
  {
   "cell_type": "code",
   "execution_count": null,
   "id": "d5c6069e",
   "metadata": {},
   "outputs": [],
   "source": [
    "# log 를 남긴다 - csv 저장, 데이터베이스에 저장 \"외부저장\" , 하둡 분산파일시스템 hdfs , kafka (streaming)"
   ]
  },
  {
   "cell_type": "code",
   "execution_count": null,
   "id": "43e26b9c",
   "metadata": {},
   "outputs": [],
   "source": [
    "#오전에 회귀 모델을 만들었음"
   ]
  },
  {
   "cell_type": "code",
   "execution_count": 56,
   "id": "67958607",
   "metadata": {},
   "outputs": [],
   "source": [
    "spark.stop()"
   ]
  },
  {
   "cell_type": "code",
   "execution_count": null,
   "id": "9914b3b7",
   "metadata": {},
   "outputs": [],
   "source": []
  }
 ],
 "metadata": {
  "kernelspec": {
   "display_name": "Python (spark_start)",
   "language": "python",
   "name": "spark_start"
  },
  "language_info": {
   "codemirror_mode": {
    "name": "ipython",
    "version": 3
   },
   "file_extension": ".py",
   "mimetype": "text/x-python",
   "name": "python",
   "nbconvert_exporter": "python",
   "pygments_lexer": "ipython3",
   "version": "3.8.20"
  }
 },
 "nbformat": 4,
 "nbformat_minor": 5
}
