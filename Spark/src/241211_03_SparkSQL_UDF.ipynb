{
 "cells": [
  {
   "cell_type": "code",
   "execution_count": 1,
   "id": "0891db2c",
   "metadata": {},
   "outputs": [
    {
     "name": "stderr",
     "output_type": "stream",
     "text": [
      "24/12/11 16:10:35 WARN NativeCodeLoader: Unable to load native-hadoop library for your platform... using builtin-java classes where applicable\n",
      "Using Spark's default log4j profile: org/apache/spark/log4j-defaults.properties\n",
      "Setting default log level to \"WARN\".\n",
      "To adjust logging level use sc.setLogLevel(newLevel). For SparkR, use setLogLevel(newLevel).\n",
      "24/12/11 16:10:37 WARN Utils: Service 'SparkUI' could not bind on port 4040. Attempting port 4041.\n",
      "24/12/11 16:10:37 WARN Utils: Service 'SparkUI' could not bind on port 4041. Attempting port 4042.\n"
     ]
    }
   ],
   "source": [
    "from pyspark.sql import SparkSession\n",
    "\n",
    "spark = SparkSession.builder.appName(\"241211_03_SparkSQL_UDF\").getOrCreate()"
   ]
  },
  {
   "cell_type": "code",
   "execution_count": 2,
   "id": "42c5696a",
   "metadata": {},
   "outputs": [],
   "source": [
    "datas = [\n",
    "    (\"A\", \"2022-04-16\", 31200),\n",
    "    (\"B\", \"2022-04-17\", 41200),\n",
    "    (\"C\", \"2022-04-11\", 31500),\n",
    "    (\"D\", \"2022-04-12\", 21500),\n",
    "    (\"E\", \"2022-04-13\", 51000)\n",
    "]\n",
    "columns = [\"product\", \"date\", \"price\"]"
   ]
  },
  {
   "cell_type": "code",
   "execution_count": 3,
   "id": "0b27c9ec",
   "metadata": {},
   "outputs": [
    {
     "name": "stderr",
     "output_type": "stream",
     "text": [
      "\r",
      "[Stage 0:>                                                          (0 + 1) / 1]\r"
     ]
    },
    {
     "name": "stdout",
     "output_type": "stream",
     "text": [
      "+-------+----------+-----+\n",
      "|product|      date|price|\n",
      "+-------+----------+-----+\n",
      "|      A|2022-04-16|31200|\n",
      "|      B|2022-04-17|41200|\n",
      "|      C|2022-04-11|31500|\n",
      "|      D|2022-04-12|21500|\n",
      "|      E|2022-04-13|51000|\n",
      "+-------+----------+-----+\n",
      "\n"
     ]
    },
    {
     "name": "stderr",
     "output_type": "stream",
     "text": [
      "\r",
      "                                                                                \r"
     ]
    }
   ],
   "source": [
    "df = spark.createDataFrame(data=datas, schema=columns)\n",
    "df.show()"
   ]
  },
  {
   "cell_type": "code",
   "execution_count": null,
   "id": "2e19b68b",
   "metadata": {},
   "outputs": [],
   "source": [
    "#UDF"
   ]
  },
  {
   "cell_type": "code",
   "execution_count": 4,
   "id": "ac0be212",
   "metadata": {},
   "outputs": [],
   "source": [
    "from pyspark.sql.types import LongType\n",
    "\n",
    "def squared(n):\n",
    "    return n*n"
   ]
  },
  {
   "cell_type": "code",
   "execution_count": 8,
   "id": "8d3864b3",
   "metadata": {},
   "outputs": [
    {
     "data": {
      "text/plain": [
       "<function __main__.squared(n)>"
      ]
     },
     "execution_count": 8,
     "metadata": {},
     "output_type": "execute_result"
    }
   ],
   "source": [
    "spark.udf.register('squared', squared,LongType())"
   ]
  },
  {
   "cell_type": "code",
   "execution_count": 6,
   "id": "f56b31a8",
   "metadata": {},
   "outputs": [],
   "source": [
    "df.createOrReplaceTempView('product')"
   ]
  },
  {
   "cell_type": "code",
   "execution_count": 7,
   "id": "dbb4cfd7",
   "metadata": {},
   "outputs": [
    {
     "name": "stdout",
     "output_type": "stream",
     "text": [
      "+-------+----------+-----+\n",
      "|product|      date|price|\n",
      "+-------+----------+-----+\n",
      "|      A|2022-04-16|31200|\n",
      "|      B|2022-04-17|41200|\n",
      "|      C|2022-04-11|31500|\n",
      "|      D|2022-04-12|21500|\n",
      "|      E|2022-04-13|51000|\n",
      "+-------+----------+-----+\n",
      "\n"
     ]
    }
   ],
   "source": [
    "spark.sql(\"select * from product\").show()"
   ]
  },
  {
   "cell_type": "code",
   "execution_count": 10,
   "id": "6c293276",
   "metadata": {},
   "outputs": [
    {
     "name": "stdout",
     "output_type": "stream",
     "text": [
      "+-----+--------------+\n",
      "|price|squared(price)|\n",
      "+-----+--------------+\n",
      "|31200|     973440000|\n",
      "|41200|    1697440000|\n",
      "|31500|     992250000|\n",
      "|21500|     462250000|\n",
      "|51000|    2601000000|\n",
      "+-----+--------------+\n",
      "\n"
     ]
    }
   ],
   "source": [
    "spark.sql(\"select price, squared(price) from product\").show()"
   ]
  },
  {
   "cell_type": "code",
   "execution_count": 17,
   "id": "d766584f",
   "metadata": {},
   "outputs": [],
   "source": [
    "def read_number(n) :\n",
    "    units = [\"\", \"십\", \"백\", \"천\", \"만\"]\n",
    "    nums = '일이삼사오육칠팔구'\n",
    "    result = []\n",
    "    i=0\n",
    "    while n>0:\n",
    "        n,r = divmod(n,10)\n",
    "        if r>0:\n",
    "            result.append(nums[r-1]+units[i])\n",
    "        i += 1\n",
    "    return \"\".join(reversed(result))"
   ]
  },
  {
   "cell_type": "code",
   "execution_count": 18,
   "id": "c0f751a0",
   "metadata": {},
   "outputs": [
    {
     "data": {
      "text/plain": [
       "'일백이십삼'"
      ]
     },
     "execution_count": 18,
     "metadata": {},
     "output_type": "execute_result"
    }
   ],
   "source": [
    "read_number(123)"
   ]
  },
  {
   "cell_type": "code",
   "execution_count": 19,
   "id": "a2cde1ab",
   "metadata": {},
   "outputs": [
    {
     "data": {
      "text/plain": [
       "<function __main__.read_number(n)>"
      ]
     },
     "execution_count": 19,
     "metadata": {},
     "output_type": "execute_result"
    }
   ],
   "source": [
    "spark.udf.register('read_number', read_number)"
   ]
  },
  {
   "cell_type": "code",
   "execution_count": 21,
   "id": "249a16c3",
   "metadata": {},
   "outputs": [
    {
     "name": "stdout",
     "output_type": "stream",
     "text": [
      "+-----+------------------+\n",
      "|price|read_number(price)|\n",
      "+-----+------------------+\n",
      "|31200|      삼만일천이백|\n",
      "|41200|      사만일천이백|\n",
      "|31500|      삼만일천오백|\n",
      "|21500|      이만일천오백|\n",
      "|51000|          오만일천|\n",
      "+-----+------------------+\n",
      "\n"
     ]
    }
   ],
   "source": [
    "spark.sql('select price, read_number(price) from product').show()"
   ]
  },
  {
   "cell_type": "code",
   "execution_count": 22,
   "id": "73fde712",
   "metadata": {},
   "outputs": [],
   "source": [
    "spark.stop()"
   ]
  },
  {
   "cell_type": "code",
   "execution_count": null,
   "id": "538f0103",
   "metadata": {},
   "outputs": [],
   "source": []
  }
 ],
 "metadata": {
  "kernelspec": {
   "display_name": "Python (spark_start)",
   "language": "python",
   "name": "spark_start"
  },
  "language_info": {
   "codemirror_mode": {
    "name": "ipython",
    "version": 3
   },
   "file_extension": ".py",
   "mimetype": "text/x-python",
   "name": "python",
   "nbconvert_exporter": "python",
   "pygments_lexer": "ipython3",
   "version": "3.8.20"
  }
 },
 "nbformat": 4,
 "nbformat_minor": 5
}
