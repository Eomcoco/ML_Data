{
 "cells": [
  {
   "cell_type": "code",
   "execution_count": 49,
   "id": "bb74910b",
   "metadata": {},
   "outputs": [],
   "source": [
    "from pyspark.sql import SparkSession\n",
    "\n",
    "spark = SparkSession.builder\\\n",
    "     .appName(\"241211_01_SparkSQL_SQLtest\")\\\n",
    "     .getOrCreate()\n"
   ]
  },
  {
   "cell_type": "code",
   "execution_count": 50,
   "id": "91b1606c",
   "metadata": {},
   "outputs": [],
   "source": [
    "from pyspark.sql import Row\n",
    "\n",
    "user_data = [\n",
    "    Row(user_id=1, username='A', address='서울'),\n",
    "    Row(user_id=2, username='B', address='대전'),\n",
    "    Row(user_id=3, username='C', address='경기도'),\n",
    "    Row(user_id=4, username='D', address=None),\n",
    "    Row(user_id=5, username='E', address=None),\n",
    "    Row(user_id=6, username='F', address='서울'),\n",
    "    Row(user_id=7, username='G', address='경기도'),\n",
    "    Row(user_id=8, username='H', address='대구'),\n",
    "    Row(user_id=9, username='I', address='부산'),\n",
    "    Row(user_id=10, username='J', address='전주'),\n",
    "    Row(user_id=11, username='K', address='광주')\n",
    "]"
   ]
  },
  {
   "cell_type": "code",
   "execution_count": 51,
   "id": "2a2e7018",
   "metadata": {},
   "outputs": [],
   "source": [
    "user_df = spark.createDataFrame(user_data)\n",
    "user_df.createOrReplaceTempView('users')\n"
   ]
  },
  {
   "cell_type": "code",
   "execution_count": 52,
   "id": "024b44d6",
   "metadata": {},
   "outputs": [],
   "source": [
    "books_data = [\n",
    "    Row(book_id=1, title=\"Book A\", author_fname=\"John\", author_lname=\"Doe\", pages=300, released_year=2005, stock_quantity=55),\n",
    "    Row(book_id=2, title=\"Book B\", author_fname=\"Jane\", author_lname=\"Smith\", pages=250, released_year=2010, stock_quantity=40),\n",
    "    Row(book_id=3, title=\"Book C\", author_fname=\"Emily\", author_lname=\"Jones\", pages=180, released_year=2015, stock_quantity=20),\n",
    "    Row(book_id=4, title=\"Book D\", author_fname=\"Chris\", author_lname=\"Brown\", pages=320, released_year=2012, stock_quantity=75),\n",
    "    Row(book_id=5, title=\"Book E\", author_fname=\"Anna\", author_lname=\"Davis\", pages=270, released_year=2008, stock_quantity=35)\n",
    "]\n"
   ]
  },
  {
   "cell_type": "code",
   "execution_count": 53,
   "id": "d99a1299",
   "metadata": {},
   "outputs": [],
   "source": [
    "books_df = spark.createDataFrame(books_data)\n",
    "books_df.createOrReplaceTempView('books')"
   ]
  },
  {
   "cell_type": "code",
   "execution_count": 54,
   "id": "43d759dd",
   "metadata": {},
   "outputs": [
    {
     "name": "stdout",
     "output_type": "stream",
     "text": [
      "+-------+--------+-------+\n",
      "|user_id|username|address|\n",
      "+-------+--------+-------+\n",
      "|      1|       A|   서울|\n",
      "|      2|       B|   대전|\n",
      "|      3|       C| 경기도|\n",
      "|      4|       D|   null|\n",
      "|      5|       E|   null|\n",
      "|      6|       F|   서울|\n",
      "|      7|       G| 경기도|\n",
      "|      8|       H|   대구|\n",
      "|      9|       I|   부산|\n",
      "|     10|       J|   전주|\n",
      "|     11|       K|   광주|\n",
      "+-------+--------+-------+\n",
      "\n"
     ]
    }
   ],
   "source": [
    "query_users = '''\n",
    "select * from users;\n",
    "'''\n",
    "spark.sql(query_users).show()"
   ]
  },
  {
   "cell_type": "code",
   "execution_count": 55,
   "id": "7d87f967",
   "metadata": {},
   "outputs": [
    {
     "name": "stdout",
     "output_type": "stream",
     "text": [
      "+--------+--------+\n",
      "|username| address|\n",
      "+--------+--------+\n",
      "|       A|    서울|\n",
      "|       B|    대전|\n",
      "|       C|  경기도|\n",
      "|       D|주소없음|\n",
      "|       E|주소없음|\n",
      "|       F|    서울|\n",
      "|       G|  경기도|\n",
      "|       H|    대구|\n",
      "|       I|    부산|\n",
      "|       J|    전주|\n",
      "|       K|    광주|\n",
      "+--------+--------+\n",
      "\n"
     ]
    }
   ],
   "source": [
    "query_users = '''\n",
    "SELECT username,\n",
    "    IF(address IS NULL, '주소없음', address) AS address\n",
    "FROM users;\n",
    "'''\n",
    "\n",
    "spark.sql(query_users).show()"
   ]
  },
  {
   "cell_type": "code",
   "execution_count": 56,
   "id": "1dddec62",
   "metadata": {},
   "outputs": [],
   "source": [
    "# books table \n",
    "# stock_quantity >=50 '재고 많음', >=30 '재고중간', '재고없음'"
   ]
  },
  {
   "cell_type": "code",
   "execution_count": 57,
   "id": "6f16b747",
   "metadata": {},
   "outputs": [
    {
     "name": "stdout",
     "output_type": "stream",
     "text": [
      "+--------------+--------------+\n",
      "|stock_quantity|quantity_level|\n",
      "+--------------+--------------+\n",
      "|            55|     재고 많음|\n",
      "|            40|     재고 중간|\n",
      "|            20|     재고 없음|\n",
      "|            75|     재고 많음|\n",
      "|            35|     재고 중간|\n",
      "+--------------+--------------+\n",
      "\n"
     ]
    }
   ],
   "source": [
    "books_sql = '''\n",
    "SELECT stock_quantity, \n",
    "\t   IF(stock_quantity >= 50, '재고 많음',\n",
    "\t\t  IF(stock_quantity >= 30, '재고 중간', '재고 없음')) AS quantity_level\n",
    "FROM books;\n",
    "'''\n",
    "spark.sql(books_sql).show()"
   ]
  },
  {
   "cell_type": "code",
   "execution_count": 58,
   "id": "3ad9af7f",
   "metadata": {},
   "outputs": [
    {
     "name": "stdout",
     "output_type": "stream",
     "text": [
      "+--------------+--------------+\n",
      "|stock_quantity|quantity_level|\n",
      "+--------------+--------------+\n",
      "|            55|     재고 많음|\n",
      "|            40|     재고 중간|\n",
      "|            20|     재고 부족|\n",
      "|            75|     재고 많음|\n",
      "|            35|     재고 중간|\n",
      "+--------------+--------------+\n",
      "\n"
     ]
    }
   ],
   "source": [
    "books_sql_1= '''\n",
    "SELECT stock_quantity, \n",
    "\t   CASE \n",
    "\t\t   WHEN stock_quantity >= 50 THEN '재고 많음'\n",
    "\t\t   WHEN stock_quantity >= 30 THEN '재고 중간'\n",
    "\t\t   ELSE '재고 부족'\n",
    "\t   END AS quantity_level\n",
    "FROM books;\n",
    "'''\n",
    "spark.sql(books_sql_1).show()"
   ]
  },
  {
   "cell_type": "code",
   "execution_count": 59,
   "id": "76ed2b1f",
   "metadata": {},
   "outputs": [],
   "source": [
    "#실행계획 비교"
   ]
  },
  {
   "cell_type": "code",
   "execution_count": 60,
   "id": "dfd39d6e",
   "metadata": {},
   "outputs": [
    {
     "name": "stdout",
     "output_type": "stream",
     "text": [
      "== Physical Plan ==\n",
      "*(1) Project [stock_quantity#405L, if ((stock_quantity#405L >= 50)) 재고 많음 else if ((stock_quantity#405L >= 30)) 재고 중간 else 재고 없음 AS quantity_level#465]\n",
      "+- *(1) Scan ExistingRDD[book_id#399L,title#400,author_fname#401,author_lname#402,pages#403L,released_year#404L,stock_quantity#405L]\n",
      "\n",
      "\n"
     ]
    }
   ],
   "source": [
    "spark.sql(books_sql).explain()"
   ]
  },
  {
   "cell_type": "code",
   "execution_count": 61,
   "id": "4087ba64",
   "metadata": {},
   "outputs": [
    {
     "name": "stdout",
     "output_type": "stream",
     "text": [
      "== Physical Plan ==\n",
      "*(1) Project [stock_quantity#405L, CASE WHEN (stock_quantity#405L >= 50) THEN 재고 많음 WHEN (stock_quantity#405L >= 30) THEN 재고 중간 ELSE 재고 부족 END AS quantity_level#468]\n",
      "+- *(1) Scan ExistingRDD[book_id#399L,title#400,author_fname#401,author_lname#402,pages#403L,released_year#404L,stock_quantity#405L]\n",
      "\n",
      "\n"
     ]
    }
   ],
   "source": [
    "spark.sql(books_sql_1).explain()"
   ]
  },
  {
   "cell_type": "code",
   "execution_count": 62,
   "id": "c3d80665",
   "metadata": {},
   "outputs": [
    {
     "name": "stdout",
     "output_type": "stream",
     "text": [
      "== Physical Plan ==\n",
      "*(2) HashAggregate(keys=[author_lname#402], functions=[])\n",
      "+- Exchange hashpartitioning(author_lname#402, 200), ENSURE_REQUIREMENTS, [id=#514]\n",
      "   +- *(1) HashAggregate(keys=[author_lname#402], functions=[])\n",
      "      +- *(1) Project [author_lname#402]\n",
      "         +- *(1) Scan ExistingRDD[book_id#399L,title#400,author_fname#401,author_lname#402,pages#403L,released_year#404L,stock_quantity#405L]\n",
      "\n",
      "\n"
     ]
    }
   ],
   "source": [
    "books_sql_2 = '''\n",
    "select distinct author_lname from books;\n",
    "'''\n",
    "spark.sql(books_sql_2).explain()"
   ]
  },
  {
   "cell_type": "code",
   "execution_count": 63,
   "id": "87d468f3",
   "metadata": {},
   "outputs": [
    {
     "name": "stdout",
     "output_type": "stream",
     "text": [
      "+------------+\n",
      "|author_lname|\n",
      "+------------+\n",
      "|       Jones|\n",
      "|       Davis|\n",
      "|       Smith|\n",
      "|         Doe|\n",
      "|       Brown|\n",
      "+------------+\n",
      "\n"
     ]
    }
   ],
   "source": [
    "spark.sql(books_sql_2).show()"
   ]
  },
  {
   "cell_type": "code",
   "execution_count": 64,
   "id": "caad6bfc",
   "metadata": {},
   "outputs": [
    {
     "name": "stdout",
     "output_type": "stream",
     "text": [
      "== Physical Plan ==\n",
      "*(2) HashAggregate(keys=[author_lname#402], functions=[count(1)])\n",
      "+- Exchange hashpartitioning(author_lname#402, 200), ENSURE_REQUIREMENTS, [id=#561]\n",
      "   +- *(1) HashAggregate(keys=[author_lname#402], functions=[partial_count(1)])\n",
      "      +- *(1) Project [author_lname#402]\n",
      "         +- *(1) Scan ExistingRDD[book_id#399L,title#400,author_fname#401,author_lname#402,pages#403L,released_year#404L,stock_quantity#405L]\n",
      "\n",
      "\n",
      "+------------+--------+\n",
      "|author_lname|count(1)|\n",
      "+------------+--------+\n",
      "|       Jones|       1|\n",
      "|       Davis|       1|\n",
      "|       Smith|       1|\n",
      "|         Doe|       1|\n",
      "|       Brown|       1|\n",
      "+------------+--------+\n",
      "\n"
     ]
    }
   ],
   "source": [
    "books_sql_3 = '''\n",
    "select author_lname, count(*)\n",
    "from books\n",
    "group by author_lname;\n",
    "'''\n",
    "spark.sql(books_sql_3).explain()\n",
    "spark.sql(books_sql_3).show()"
   ]
  },
  {
   "cell_type": "markdown",
   "id": "f34741a1",
   "metadata": {},
   "source": [
    "데이터 변경"
   ]
  },
  {
   "cell_type": "code",
   "execution_count": 65,
   "id": "342209ad",
   "metadata": {},
   "outputs": [],
   "source": [
    "# books 테이블 데이터에 borrowed_by 추가\n",
    "books_data_with_user = [\n",
    "    Row(book_id=1, title=\"Book A\", author_fname=\"John\", author_lname=\"Doe\", pages=300, released_year=2005, stock_quantity=55, borrowed_by=1),\n",
    "    Row(book_id=2, title=\"Book B\", author_fname=\"Jane\", author_lname=\"Smith\", pages=250, released_year=2010, stock_quantity=40, borrowed_by=2),\n",
    "    Row(book_id=3, title=\"Book C\", author_fname=\"Emily\", author_lname=\"Jones\", pages=180, released_year=2015, stock_quantity=20, borrowed_by=3),\n",
    "    Row(book_id=4, title=\"Book D\", author_fname=\"Chris\", author_lname=\"Brown\", pages=320, released_year=2012, stock_quantity=75, borrowed_by=None),\n",
    "    Row(book_id=5, title=\"Book E\", author_fname=\"Anna\", author_lname=\"Davis\", pages=270, released_year=2008, stock_quantity=35, borrowed_by=6)\n",
    "]\n",
    "\n",
    "# DataFrame 생성\n",
    "books_df_with_user = spark.createDataFrame(books_data_with_user)\n",
    "\n",
    "# Temp View 등록\n",
    "books_df_with_user.createOrReplaceTempView(\"books\")"
   ]
  },
  {
   "cell_type": "code",
   "execution_count": 66,
   "id": "fd3b19df",
   "metadata": {},
   "outputs": [],
   "source": [
    "# borrowed_by 컬럼 추가 및 데이터 입력\n",
    "updated_books_df = books_df.withColumn(\n",
    "    \"borrowed_by\",\n",
    "    when(books_df.book_id == 1, 1)\n",
    "    .when(books_df.book_id == 2, 2)\n",
    "    .when(books_df.book_id == 3, 3)\n",
    "    .when(books_df.book_id == 4, lit(None))\n",
    "    .when(books_df.book_id == 5, 6)\n",
    "    .otherwise(None)\n",
    ")\n"
   ]
  },
  {
   "cell_type": "code",
   "execution_count": 67,
   "id": "287ea8f7",
   "metadata": {},
   "outputs": [
    {
     "name": "stdout",
     "output_type": "stream",
     "text": [
      "+-------+------+------------+------------+-----+-------------+--------------+-----------+\n",
      "|book_id| title|author_fname|author_lname|pages|released_year|stock_quantity|borrowed_by|\n",
      "+-------+------+------------+------------+-----+-------------+--------------+-----------+\n",
      "|      1|Book A|        John|         Doe|  300|         2005|            55|          1|\n",
      "|      2|Book B|        Jane|       Smith|  250|         2010|            40|          2|\n",
      "|      3|Book C|       Emily|       Jones|  180|         2015|            20|          3|\n",
      "|      4|Book D|       Chris|       Brown|  320|         2012|            75|       null|\n",
      "|      5|Book E|        Anna|       Davis|  270|         2008|            35|          6|\n",
      "+-------+------+------------+------------+-----+-------------+--------------+-----------+\n",
      "\n"
     ]
    }
   ],
   "source": [
    "books_sql = '''\n",
    "SELECT *\n",
    "FROM books;\n",
    "'''\n",
    "\n",
    "spark.sql(books_sql).show()"
   ]
  },
  {
   "cell_type": "code",
   "execution_count": 68,
   "id": "12eb50ab",
   "metadata": {},
   "outputs": [],
   "source": [
    "from pyspark.sql.functions import *"
   ]
  },
  {
   "cell_type": "code",
   "execution_count": 69,
   "id": "1680366b",
   "metadata": {},
   "outputs": [
    {
     "name": "stdout",
     "output_type": "stream",
     "text": [
      "+-------+------+------------+------------+-----+-------------+--------------+-----------+\n",
      "|book_id| title|author_fname|author_lname|pages|released_year|stock_quantity|borrowed_by|\n",
      "+-------+------+------------+------------+-----+-------------+--------------+-----------+\n",
      "|      1|Book A|        John|         Doe|  300|         2005|            55|          1|\n",
      "|      2|Book B|        Jane|       Smith|  250|         2010|            40|          2|\n",
      "|      3|Book C|       Emily|       Jones|  180|         2015|            50|          3|\n",
      "|      4|Book D|       Chris|       Brown|  320|         2012|            75|       null|\n",
      "|      5|Book E|        Anna|       Davis|  270|         2008|            35|          6|\n",
      "+-------+------+------------+------------+-----+-------------+--------------+-----------+\n",
      "\n"
     ]
    }
   ],
   "source": [
    "#book_id = 3, stock_quantity=50으로 바꾼다. > 전처리 과정\n",
    "\n",
    "updated_books_df= books_df_with_user.withColumn(\n",
    "    \"stock_quantity\",\n",
    "    when(books_df_with_user.book_id == 3, 50).otherwise(books_df_with_user.stock_quantity)\n",
    ")\n",
    "updated_books_df.show()"
   ]
  },
  {
   "cell_type": "markdown",
   "id": "21d7a32f",
   "metadata": {},
   "source": [
    "#데이터 저장"
   ]
  },
  {
   "cell_type": "code",
   "execution_count": 30,
   "id": "daf1e232",
   "metadata": {},
   "outputs": [],
   "source": [
    "# mode : overwrite, append, ignore, error\n",
    "\n",
    "updated_books_df.write.csv(\"data/output/sqltest_updated_books.csv\", header=True, mode=\"overwrite\")"
   ]
  },
  {
   "cell_type": "code",
   "execution_count": null,
   "id": "43c347a8",
   "metadata": {},
   "outputs": [],
   "source": []
  },
  {
   "cell_type": "code",
   "execution_count": 33,
   "id": "48d7798c",
   "metadata": {},
   "outputs": [],
   "source": [
    "\n",
    "user_df.write.csv(\"data/output/sqltest_users.csv\", header=True, mode=\"overwrite\")"
   ]
  },
  {
   "cell_type": "code",
   "execution_count": null,
   "id": "866aeb95",
   "metadata": {},
   "outputs": [],
   "source": []
  },
  {
   "cell_type": "code",
   "execution_count": null,
   "id": "8ec1148c",
   "metadata": {},
   "outputs": [],
   "source": [
    "#조인 실습"
   ]
  },
  {
   "cell_type": "code",
   "execution_count": null,
   "id": "8374020e",
   "metadata": {},
   "outputs": [],
   "source": [
    "book_id, title, author_fname, author_lname, username, address"
   ]
  },
  {
   "cell_type": "code",
   "execution_count": 34,
   "id": "81013913",
   "metadata": {},
   "outputs": [
    {
     "name": "stderr",
     "output_type": "stream",
     "text": [
      "\r",
      "[Stage 47:====================================================>  (95 + 2) / 100]\r",
      "\r",
      "                                                                                \r"
     ]
    },
    {
     "name": "stdout",
     "output_type": "stream",
     "text": [
      "+-------+------+------------+------------+--------+-------+\n",
      "|book_id| title|author_fname|author_lname|username|address|\n",
      "+-------+------+------------+------------+--------+-------+\n",
      "|      5|Book E|        Anna|       Davis|       F|   서울|\n",
      "|      1|Book A|        John|         Doe|       A|   서울|\n",
      "|      3|Book C|       Emily|       Jones|       C| 경기도|\n",
      "|      2|Book B|        Jane|       Smith|       B|   대전|\n",
      "+-------+------+------------+------------+--------+-------+\n",
      "\n"
     ]
    }
   ],
   "source": [
    "join_query = '''\n",
    "SELECT book_id, title, author_fname, author_lname, username, address\n",
    "FROM books b INNER JOIN users u ON b.borrowed_by = u.user_id;\n",
    "'''\n",
    "spark.sql(join_query).show()"
   ]
  },
  {
   "cell_type": "code",
   "execution_count": null,
   "id": "dddbc594",
   "metadata": {},
   "outputs": [],
   "source": [
    "# books LEFT JOIN users"
   ]
  },
  {
   "cell_type": "code",
   "execution_count": null,
   "id": "fe1546d2",
   "metadata": {},
   "outputs": [],
   "source": [
    "# 사용자의 책 대여 목록 > 전체 사용자 > 대여한 정보가 있으면 나오면, 없으면 NULL\n",
    "# books RIGHT JOIN users"
   ]
  },
  {
   "cell_type": "code",
   "execution_count": 35,
   "id": "9e71adc6",
   "metadata": {},
   "outputs": [
    {
     "name": "stdout",
     "output_type": "stream",
     "text": [
      "+-------+------+------------+------------+--------+-------+\n",
      "|book_id| title|author_fname|author_lname|username|address|\n",
      "+-------+------+------------+------------+--------+-------+\n",
      "|      5|Book E|        Anna|       Davis|       F|   서울|\n",
      "|      1|Book A|        John|         Doe|       A|   서울|\n",
      "+-------+------+------------+------------+--------+-------+\n",
      "\n"
     ]
    }
   ],
   "source": [
    "# 특정지역=서울에 거주하는 사용자가 대여한 책 목록\n",
    "join_query = '''\n",
    "SELECT book_id, title, author_fname, author_lname, username, address\n",
    "FROM books b LEFT JOIN users u ON b.borrowed_by = u.user_id\n",
    "WHERE u.address = '서울';\n",
    "'''\n",
    "\n",
    "spark.sql(join_query).show()"
   ]
  },
  {
   "cell_type": "code",
   "execution_count": 39,
   "id": "95f578a0",
   "metadata": {
    "scrolled": true
   },
   "outputs": [],
   "source": [
    "join_query = '''\n",
    "SELECT user_id, user_name, count(book_id)\n",
    "FROM users LEFT JOIN books ON u.user_id = b.borrowed_by\n",
    "GROUP BY u.user_id, u.username;\n",
    "'''\n",
    "#사용자별로 대여한 책수 "
   ]
  },
  {
   "cell_type": "code",
   "execution_count": null,
   "id": "dc15609e",
   "metadata": {},
   "outputs": [],
   "source": [
    "#book_category > 300 이상이면 Long, Short\n",
    "join_query = '''\n",
    "SELECT book_id,title, pages, CASE \n",
    "                        WHEN pages>=300 THEN 'Long' ELSE 'Short'\n",
    "                        END AS book_category\n",
    "FROM books;\n",
    "'''"
   ]
  },
  {
   "cell_type": "code",
   "execution_count": 40,
   "id": "f835a1d8",
   "metadata": {},
   "outputs": [
    {
     "name": "stdout",
     "output_type": "stream",
     "text": [
      "+-------+------+--------------+------------+\n",
      "|book_id| title|stock_quantity|stock_status|\n",
      "+-------+------+--------------+------------+\n",
      "|      1|Book A|            55|        충분|\n",
      "|      2|Book B|            40|        보통|\n",
      "|      3|Book C|            20|        부족|\n",
      "|      4|Book D|            75|        충분|\n",
      "|      5|Book E|            35|        보통|\n",
      "+-------+------+--------------+------------+\n",
      "\n"
     ]
    }
   ],
   "source": [
    "stock_status_query = '''\n",
    "SELECT book_id, title, stock_quantity,\n",
    "       CASE \n",
    "           WHEN stock_quantity > 50 THEN '충분'\n",
    "           WHEN stock_quantity >= 30 THEN '보통'\n",
    "           ELSE '부족'\n",
    "       END AS stock_status\n",
    "FROM books\n",
    "'''\n",
    "\n",
    "spark.sql(stock_status_query).show()\n"
   ]
  },
  {
   "cell_type": "code",
   "execution_count": null,
   "id": "c42c2bb8",
   "metadata": {},
   "outputs": [],
   "source": [
    "#책제목에 특정 키워드가 포함되어 있는지 확인 할때\n",
    "'''WHERE title LIKE '%A%'''"
   ]
  },
  {
   "cell_type": "code",
   "execution_count": null,
   "id": "b0b93944",
   "metadata": {},
   "outputs": [],
   "source": [
    "#대여가 많이 된 책의 작가를 조회\n",
    "'''\n",
    "SELECT author_fname, author_lname, count(book_id) as borrow_count\n",
    "FROM books \n",
    "GROUP BY author_fname, author_lname\n",
    "ORDER BY borrow_count DESC\n",
    "LIMIT 1\n",
    "'''"
   ]
  },
  {
   "cell_type": "code",
   "execution_count": null,
   "id": "d886627f",
   "metadata": {},
   "outputs": [],
   "source": [
    "#책의 발행 연도별 대여 현황: 발행 연도별로 대여된 책의 수를 확인합니다.\n",
    "borrowed_by_year_query = '''\n",
    "SELECT b.released_year, COUNT(b.borrowed_by) AS borrow_count\n",
    "FROM books AS b\n",
    "WHERE b.borrowed_by IS NOT NULL\n",
    "GROUP BY b.released_year\n",
    "ORDER BY b.released_year\n",
    "'''\n"
   ]
  },
  {
   "cell_type": "code",
   "execution_count": null,
   "id": "eb2d31d2",
   "metadata": {},
   "outputs": [],
   "source": [
    "# 사용자의 지역별 대여된 책 수: 사용자 지역별로 대여된 책의 수를 계산합니다.\n",
    "region_borrow_query = '''\n",
    "SELECT u.address AS user_region, COUNT(b.book_id) AS borrowed_count\n",
    "FROM users AS u\n",
    "JOIN books AS b ON u.user_id = b.borrowed_by\n",
    "GROUP BY u.address\n",
    "ORDER BY borrowed_count DESC\n",
    "'''"
   ]
  },
  {
   "cell_type": "code",
   "execution_count": null,
   "id": "a03a4553",
   "metadata": {},
   "outputs": [],
   "source": [
    "# 대여되지 않은 책 중 가장 페이지 수가 많은 책: 대여되지 않은 책 중에서 페이지 수가 가장 많은 책을 조회합니다.\n",
    "largest_unborrowed_query = '''\n",
    "SELECT *\n",
    "FROM books\n",
    "WHERE borrowed_by IS NULL\n",
    "ORDER BY pages DESC\n",
    "LIMIT 1\n",
    "'''"
   ]
  },
  {
   "cell_type": "code",
   "execution_count": null,
   "id": "11ab6009",
   "metadata": {},
   "outputs": [],
   "source": [
    "# 재고가 부족한 책과 대여 상태: 재고가 30개 미만인 책과 해당 책이 대여된 상태인지 확인합니다."
   ]
  },
  {
   "cell_type": "code",
   "execution_count": null,
   "id": "cb4b18ff",
   "metadata": {},
   "outputs": [],
   "source": [
    "low_stock_query = '''\n",
    "SELECT book_id, title, stock_quantity, \n",
    "       CASE \n",
    "           WHEN borrowed_by IS NULL THEN '미대여'\n",
    "           ELSE '대여됨'\n",
    "       END AS borrow_status\n",
    "FROM books\n",
    "WHERE stock_quantity < 30\n",
    "'''"
   ]
  },
  {
   "cell_type": "code",
   "execution_count": null,
   "id": "323a434f",
   "metadata": {},
   "outputs": [],
   "source": []
  },
  {
   "cell_type": "code",
   "execution_count": 70,
   "id": "684d9a4a",
   "metadata": {},
   "outputs": [],
   "source": [
    "user_df.write.csv(\"data/output/sqltest_users.csv\", header=True, mode=\"overwrite\")"
   ]
  },
  {
   "cell_type": "code",
   "execution_count": 71,
   "id": "b64c8a0f",
   "metadata": {},
   "outputs": [],
   "source": [
    "updated_books_df.write.csv(\"data/output/sqltest_updated_books.csv_02\", header=True, mode=\"overwrite\")"
   ]
  },
  {
   "cell_type": "code",
   "execution_count": null,
   "id": "e49f43e6",
   "metadata": {},
   "outputs": [],
   "source": [
    "spark.stop()"
   ]
  }
 ],
 "metadata": {
  "kernelspec": {
   "display_name": "Python (spark_start)",
   "language": "python",
   "name": "spark_start"
  },
  "language_info": {
   "codemirror_mode": {
    "name": "ipython",
    "version": 3
   },
   "file_extension": ".py",
   "mimetype": "text/x-python",
   "name": "python",
   "nbconvert_exporter": "python",
   "pygments_lexer": "ipython3",
   "version": "3.8.20"
  }
 },
 "nbformat": 4,
 "nbformat_minor": 5
}
