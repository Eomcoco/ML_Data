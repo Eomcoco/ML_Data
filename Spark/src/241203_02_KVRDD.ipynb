{
 "cells": [
  {
   "cell_type": "code",
   "execution_count": 5,
   "id": "0d2d4001",
   "metadata": {},
   "outputs": [
    {
     "name": "stderr",
     "output_type": "stream",
     "text": [
      "24/12/05 10:17:30 WARN NativeCodeLoader: Unable to load native-hadoop library for your platform... using builtin-java classes where applicable\n",
      "Using Spark's default log4j profile: org/apache/spark/log4j-defaults.properties\n",
      "Setting default log level to \"WARN\".\n",
      "To adjust logging level use sc.setLogLevel(newLevel). For SparkR, use setLogLevel(newLevel).\n"
     ]
    }
   ],
   "source": [
    "from pyspark import SparkConf, SparkContext\n",
    "# 스파크 환경 설정 객체 생성\n",
    "conf = SparkConf().setMaster(\"local\").setAppName(\"restaurant-review-average\")\n",
    "spark = SparkContext(conf=conf).getOrCreate()"
   ]
  },
  {
   "cell_type": "code",
   "execution_count": null,
   "id": "c40ad818",
   "metadata": {},
   "outputs": [],
   "source": [
    "spark.stop()"
   ]
  },
  {
   "cell_type": "code",
   "execution_count": 6,
   "id": "425571c3",
   "metadata": {},
   "outputs": [
    {
     "data": {
      "text/plain": [
       "file:////home/lab12/src/data/restaurant_reviews.csv MapPartitionsRDD[1] at textFile at NativeMethodAccessorImpl.java:0"
      ]
     },
     "execution_count": 6,
     "metadata": {},
     "output_type": "execute_result"
    }
   ],
   "source": [
    "import os\n",
    "directory = os.path.join(os.getcwd(),\"data\")\n",
    "filename = \"restaurant_reviews.csv\"\n",
    "filepath = os.path.join(directory, filename)\n",
    "lines = spark.textFile(\"file:///\"+filepath.replace(\"\\\\\",\"/\"))\n",
    "lines"
   ]
  },
  {
   "cell_type": "code",
   "execution_count": 7,
   "id": "a71060b0",
   "metadata": {},
   "outputs": [
    {
     "name": "stderr",
     "output_type": "stream",
     "text": [
      "                                                                                \r"
     ]
    },
    {
     "data": {
      "text/plain": [
       "['id,item,cateogry,reviews,',\n",
       " '0,짜장면,중식,125,',\n",
       " '1,짬뽕,중식,235,',\n",
       " '2,김밥,분식,32,',\n",
       " '3,떡볶이,분식,534,']"
      ]
     },
     "execution_count": 7,
     "metadata": {},
     "output_type": "execute_result"
    }
   ],
   "source": [
    "lines.take(5)"
   ]
  },
  {
   "cell_type": "code",
   "execution_count": 12,
   "id": "a0808eaf",
   "metadata": {},
   "outputs": [
    {
     "data": {
      "text/plain": [
       "['id,item,cateogry,reviews,',\n",
       " '0,짜장면,중식,125,',\n",
       " '1,짬뽕,중식,235,',\n",
       " '2,김밥,분식,32,',\n",
       " '3,떡볶이,분식,534,',\n",
       " '4,라멘,일식,223,',\n",
       " '5,돈가스,일식,52,',\n",
       " '6,우동,일식,12,',\n",
       " '7,쌀국수,아시안,312,',\n",
       " '8,햄버거,패스트푸드,12,',\n",
       " '9,치킨,패스트푸드,23']"
      ]
     },
     "execution_count": 12,
     "metadata": {},
     "output_type": "execute_result"
    }
   ],
   "source": [
    "lines.collect()"
   ]
  },
  {
   "cell_type": "code",
   "execution_count": 12,
   "id": "28ef6455",
   "metadata": {},
   "outputs": [],
   "source": [
    "header = lines.first()\n",
    "filtered_lines = lines.filter(lambda row : row != header)"
   ]
  },
  {
   "cell_type": "code",
   "execution_count": 13,
   "id": "6c8baab2",
   "metadata": {},
   "outputs": [
    {
     "data": {
      "text/plain": [
       "['0,짜장면,중식,125,',\n",
       " '1,짬뽕,중식,235,',\n",
       " '2,김밥,분식,32,',\n",
       " '3,떡볶이,분식,534,',\n",
       " '4,라멘,일식,223,']"
      ]
     },
     "execution_count": 13,
     "metadata": {},
     "output_type": "execute_result"
    }
   ],
   "source": [
    "filtered_lines.take(5)"
   ]
  },
  {
   "cell_type": "code",
   "execution_count": 14,
   "id": "d3029f2f",
   "metadata": {},
   "outputs": [],
   "source": [
    "def parse(row):\n",
    "    fields = row.split(\",\")\n",
    "    category = fields[2]\n",
    "    reviews = int(fields[3])\n",
    "    \n",
    "    return category, reviews"
   ]
  },
  {
   "cell_type": "code",
   "execution_count": 15,
   "id": "a40bfadb",
   "metadata": {},
   "outputs": [
    {
     "data": {
      "text/plain": [
       "('중식', 125)"
      ]
     },
     "execution_count": 15,
     "metadata": {},
     "output_type": "execute_result"
    }
   ],
   "source": [
    "parse('0,짜장면,중식,125,')"
   ]
  },
  {
   "cell_type": "code",
   "execution_count": null,
   "id": "7c186997",
   "metadata": {},
   "outputs": [],
   "source": [
    "#RDD 내 모든 row 에 대해 parse()를 적용한 다음,map() 추출"
   ]
  },
  {
   "cell_type": "code",
   "execution_count": 16,
   "id": "cf698e5a",
   "metadata": {},
   "outputs": [],
   "source": [
    "category_reviews = filtered_lines.map(parse)\n"
   ]
  },
  {
   "cell_type": "code",
   "execution_count": 17,
   "id": "d1bfd762",
   "metadata": {},
   "outputs": [
    {
     "data": {
      "text/plain": [
       "[('중식', 125), ('중식', 235), ('분식', 32), ('분식', 534), ('일식', 223)]"
      ]
     },
     "execution_count": 17,
     "metadata": {},
     "output_type": "execute_result"
    }
   ],
   "source": [
    "category_reviews.take(5)"
   ]
  },
  {
   "cell_type": "code",
   "execution_count": 18,
   "id": "0d44dda7",
   "metadata": {},
   "outputs": [
    {
     "data": {
      "text/plain": [
       "[('중식', (125, 1)), ('중식', (235, 1)), ('분식', (32, 1))]"
      ]
     },
     "execution_count": 18,
     "metadata": {},
     "output_type": "execute_result"
    }
   ],
   "source": [
    "category_review_count = category_reviews.mapValues(lambda x: (x,1))\n",
    "category_review_count.take(3)"
   ]
  },
  {
   "cell_type": "code",
   "execution_count": 20,
   "id": "174ec1d7",
   "metadata": {},
   "outputs": [
    {
     "data": {
      "text/plain": [
       "[('중식', (360, 2)), ('분식', (566, 2)), ('일식', (287, 3))]"
      ]
     },
     "execution_count": 20,
     "metadata": {},
     "output_type": "execute_result"
    }
   ],
   "source": [
    "reduced_rdd = category_review_count.reduceByKey(lambda x, y: (x[0] + y[0], x[1] + y[1]))\n",
    "reduced_rdd.take(3)\n",
    "#카테고리별 합계"
   ]
  },
  {
   "cell_type": "code",
   "execution_count": 22,
   "id": "03c90733",
   "metadata": {},
   "outputs": [
    {
     "data": {
      "text/plain": [
       "[('중식', (360, 2)),\n",
       " ('분식', (566, 2)),\n",
       " ('일식', (287, 3)),\n",
       " ('아시안', (312, 1)),\n",
       " ('패스트푸드', (35, 2))]"
      ]
     },
     "execution_count": 22,
     "metadata": {},
     "output_type": "execute_result"
    }
   ],
   "source": [
    "reduced_rdd.collect()"
   ]
  },
  {
   "cell_type": "code",
   "execution_count": 23,
   "id": "11da1e86",
   "metadata": {},
   "outputs": [],
   "source": [
    "#평균\n",
    "average = reduced_rdd.mapValues(lambda x: x[0]/x[1])"
   ]
  },
  {
   "cell_type": "code",
   "execution_count": 24,
   "id": "d0f28877",
   "metadata": {},
   "outputs": [
    {
     "data": {
      "text/plain": [
       "[('중식', 180.0),\n",
       " ('분식', 283.0),\n",
       " ('일식', 95.66666666666667),\n",
       " ('아시안', 312.0),\n",
       " ('패스트푸드', 17.5)]"
      ]
     },
     "execution_count": 24,
     "metadata": {},
     "output_type": "execute_result"
    }
   ],
   "source": [
    "average.collect()"
   ]
  },
  {
   "cell_type": "code",
   "execution_count": null,
   "id": "7c835fc9",
   "metadata": {},
   "outputs": [],
   "source": [
    "#데이터 추가 > 메뉴별 합계와 평균"
   ]
  },
  {
   "cell_type": "code",
   "execution_count": 1,
   "id": "2bbac4e9",
   "metadata": {},
   "outputs": [
    {
     "ename": "NameError",
     "evalue": "name 'spark' is not defined",
     "output_type": "error",
     "traceback": [
      "\u001b[0;31m---------------------------------------------------------------------------\u001b[0m",
      "\u001b[0;31mNameError\u001b[0m                                 Traceback (most recent call last)",
      "Cell \u001b[0;32mIn[1], line 1\u001b[0m\n\u001b[0;32m----> 1\u001b[0m \u001b[43mspark\u001b[49m\u001b[38;5;241m.\u001b[39mstop()\n",
      "\u001b[0;31mNameError\u001b[0m: name 'spark' is not defined"
     ]
    }
   ],
   "source": [
    "spark.stop()"
   ]
  },
  {
   "cell_type": "code",
   "execution_count": null,
   "id": "79a47c53",
   "metadata": {},
   "outputs": [],
   "source": []
  }
 ],
 "metadata": {
  "kernelspec": {
   "display_name": "Python (spark_start)",
   "language": "python",
   "name": "spark_start"
  },
  "language_info": {
   "codemirror_mode": {
    "name": "ipython",
    "version": 3
   },
   "file_extension": ".py",
   "mimetype": "text/x-python",
   "name": "python",
   "nbconvert_exporter": "python",
   "pygments_lexer": "ipython3",
   "version": "3.8.20"
  }
 },
 "nbformat": 4,
 "nbformat_minor": 5
}
