{
 "cells": [
  {
   "cell_type": "code",
   "execution_count": 1,
   "id": "f1669358",
   "metadata": {},
   "outputs": [
    {
     "name": "stderr",
     "output_type": "stream",
     "text": [
      "24/12/18 15:52:50 WARN NativeCodeLoader: Unable to load native-hadoop library for your platform... using builtin-java classes where applicable\n",
      "Using Spark's default log4j profile: org/apache/spark/log4j-defaults.properties\n",
      "Setting default log level to \"WARN\".\n",
      "To adjust logging level use sc.setLogLevel(newLevel). For SparkR, use setLogLevel(newLevel).\n",
      "                                                                                \r"
     ]
    },
    {
     "name": "stdout",
     "output_type": "stream",
     "text": [
      "+---+--------------------+--------------+------+----+--------+------------+------------+---------+---------+---------+---------+--------+--------+-------------+\n",
      "|bib|name                |country       |gender|div |div_rank|overall_time|overall_rank|swim_time|swim_rank|bike_time|bike_rank|run_time|run_rank|finish_status|\n",
      "+---+--------------------+--------------+------+----+--------+------------+------------+---------+---------+---------+---------+--------+--------+-------------+\n",
      "|8  |Gustav Iden         |Norway        |Male  |MPRO|1       |7:40:24     |1           |48:23:00 |10       |4:11:06  |6        |2:36:15 |1       |Finisher     |\n",
      "|15 |Sam Laidlow         |France        |Male  |MPRO|2       |7:42:24     |2           |48:16:00 |2        |4:04:36  |1        |2:44:40 |5       |Finisher     |\n",
      "|1  |Kristian Blummenfelt|Norway        |Male  |MPRO|3       |7:43:23     |3           |48:20:00 |5        |4:11:16  |8        |2:39:21 |2       |Finisher     |\n",
      "|23 |Max Neumann         |Australia     |Male  |MPRO|4       |7:44:44     |4           |48:25:00 |13       |4:11:30  |9        |2:40:14 |3       |Finisher     |\n",
      "|17 |Joe Skipper         |United Kingdom|Male  |MPRO|5       |7:54:05     |5           |52:55:00 |60       |4:11:11  |7        |2:45:26 |6       |Finisher     |\n",
      "|7  |Sebastian Kienle    |Germany       |Male  |MPRO|6       |7:55:40     |6           |52:58:00 |66       |4:09:11  |4        |2:48:45 |13      |Finisher     |\n",
      "|12 |Leon Chevalier      |France        |Male  |MPRO|7       |7:55:52     |7           |52:54:00 |59       |4:09:05  |3        |2:49:28 |15      |Finisher     |\n",
      "|32 |Magnus Ditlev       |Denmark       |Male  |MPRO|8       |7:56:38     |8           |49:49:00 |32       |4:13:38  |11       |2:48:11 |11      |Finisher     |\n",
      "|38 |Clement Mignon      |France        |Male  |MPRO|9       |7:56:58     |9           |49:50:00 |33       |4:15:14  |14       |2:46:00 |8       |Finisher     |\n",
      "|6  |Patrick Lange       |Germany       |Male  |MPRO|10      |7:58:20     |10          |49:42:00 |26       |4:21:52  |22       |2:41:59 |4       |Finisher     |\n",
      "|11 |Cameron Wurf        |Australia     |Male  |MPRO|11      |8:00:51     |11          |52:51:00 |56       |4:09:04  |2        |2:54:27 |19      |Finisher     |\n",
      "|5  |Florian Angert      |Germany       |Male  |MPRO|12      |8:01:53     |12          |48:15:00 |1        |4:17:58  |19       |2:50:29 |16      |Finisher     |\n",
      "|9  |Timothy O'Donnell   |United States |Male  |MPRO|13      |8:02:58     |13          |48:23:00 |11       |4:13:30  |10       |2:56:03 |21      |Finisher     |\n",
      "|21 |Denis Chevrot       |France        |Male  |MPRO|14      |8:03:24     |14          |48:26:00 |16       |4:22:59  |25       |2:47:03 |9       |Finisher     |\n",
      "|20 |Matthew Hanson      |United States |Male  |MPRO|15      |8:04:55     |15          |52:40:00 |51       |4:22:18  |24       |2:45:34 |7       |Finisher     |\n",
      "|44 |Mathias Petersen    |Denmark       |Male  |MPRO|16      |8:06:45     |16          |48:25:00 |14       |4:24:55  |31       |2:48:16 |12      |Finisher     |\n",
      "|33 |Bradley Weiss       |South Africa  |Male  |MPRO|17      |8:07:28     |17          |49:41:00 |25       |4:24:49  |30       |2:48:01 |10      |Finisher     |\n",
      "|47 |Luciano Taccone     |Argentina     |Male  |MPRO|18      |8:09:10     |18          |49:47:00 |30       |4:25:08  |33       |2:49:18 |14      |Finisher     |\n",
      "|52 |Henrik Goesch       |Finland       |Male  |MPRO|19      |8:10:25     |19          |49:47:00 |31       |4:21:57  |23       |2:53:49 |18      |Finisher     |\n",
      "|19 |Rudy Von Berg       |United States |Male  |MPRO|20      |8:12:47     |20          |49:43:00 |28       |4:15:24  |15       |3:02:17 |34      |Finisher     |\n",
      "+---+--------------------+--------------+------+----+--------+------------+------------+---------+---------+---------+---------+--------+--------+-------------+\n",
      "only showing top 20 rows\n",
      "\n",
      "root\n",
      " |-- bib: integer (nullable = true)\n",
      " |-- name: string (nullable = true)\n",
      " |-- country: string (nullable = true)\n",
      " |-- gender: string (nullable = true)\n",
      " |-- div: string (nullable = true)\n",
      " |-- div_rank: integer (nullable = true)\n",
      " |-- overall_time: string (nullable = true)\n",
      " |-- overall_rank: integer (nullable = true)\n",
      " |-- swim_time: string (nullable = true)\n",
      " |-- swim_rank: integer (nullable = true)\n",
      " |-- bike_time: string (nullable = true)\n",
      " |-- bike_rank: integer (nullable = true)\n",
      " |-- run_time: string (nullable = true)\n",
      " |-- run_rank: integer (nullable = true)\n",
      " |-- finish_status: string (nullable = true)\n",
      "\n"
     ]
    }
   ],
   "source": [
    "from pyspark.sql import SparkSession\n",
    "\n",
    "# Spark 세션 초기화\n",
    "spark = SparkSession.builder.appName(\"Ironman Data Analysis_03\").getOrCreate()\n",
    "\n",
    "# CSV 다시 불러오기\n",
    "file_path = \"file:///home/lab12/src/data/ironman_wc_2022.csv\"  # 정확한 경로 입력\n",
    "df = spark.read.csv(file_path, header=True, inferSchema=True)\n",
    "\n",
    "# 데이터 확인\n",
    "df.show(truncate=False)\n",
    "df.printSchema()"
   ]
  },
  {
   "cell_type": "code",
   "execution_count": 2,
   "id": "50fc4a26",
   "metadata": {},
   "outputs": [
    {
     "name": "stderr",
     "output_type": "stream",
     "text": [
      "\r",
      "[Stage 3:>                                                          (0 + 1) / 1]\r"
     ]
    },
    {
     "name": "stdout",
     "output_type": "stream",
     "text": [
      "+------+----+---------+---------+--------+------------+-------------+------------+------------+-----------+---------------+\n",
      "|gender|div |swim_time|bike_time|run_time|overall_time|finish_status|swim_seconds|bike_seconds|run_seconds|overall_seconds|\n",
      "+------+----+---------+---------+--------+------------+-------------+------------+------------+-----------+---------------+\n",
      "|Male  |MPRO|48:23:00 |4:11:06  |2:36:15 |7:40:24     |Finisher     |174180      |15066       |9375       |27624          |\n",
      "|Male  |MPRO|48:16:00 |4:04:36  |2:44:40 |7:42:24     |Finisher     |173760      |14676       |9880       |27744          |\n",
      "|Male  |MPRO|48:20:00 |4:11:16  |2:39:21 |7:43:23     |Finisher     |174000      |15076       |9561       |27803          |\n",
      "|Male  |MPRO|48:25:00 |4:11:30  |2:40:14 |7:44:44     |Finisher     |174300      |15090       |9614       |27884          |\n",
      "|Male  |MPRO|52:55:00 |4:11:11  |2:45:26 |7:54:05     |Finisher     |190500      |15071       |9926       |28445          |\n",
      "|Male  |MPRO|52:58:00 |4:09:11  |2:48:45 |7:55:40     |Finisher     |190680      |14951       |10125      |28540          |\n",
      "|Male  |MPRO|52:54:00 |4:09:05  |2:49:28 |7:55:52     |Finisher     |190440      |14945       |10168      |28552          |\n",
      "|Male  |MPRO|49:49:00 |4:13:38  |2:48:11 |7:56:38     |Finisher     |179340      |15218       |10091      |28598          |\n",
      "|Male  |MPRO|49:50:00 |4:15:14  |2:46:00 |7:56:58     |Finisher     |179400      |15314       |9960       |28618          |\n",
      "|Male  |MPRO|49:42:00 |4:21:52  |2:41:59 |7:58:20     |Finisher     |178920      |15712       |9719       |28700          |\n",
      "|Male  |MPRO|52:51:00 |4:09:04  |2:54:27 |8:00:51     |Finisher     |190260      |14944       |10467      |28851          |\n",
      "|Male  |MPRO|48:15:00 |4:17:58  |2:50:29 |8:01:53     |Finisher     |173700      |15478       |10229      |28913          |\n",
      "|Male  |MPRO|48:23:00 |4:13:30  |2:56:03 |8:02:58     |Finisher     |174180      |15210       |10563      |28978          |\n",
      "|Male  |MPRO|48:26:00 |4:22:59  |2:47:03 |8:03:24     |Finisher     |174360      |15779       |10023      |29004          |\n",
      "|Male  |MPRO|52:40:00 |4:22:18  |2:45:34 |8:04:55     |Finisher     |189600      |15738       |9934       |29095          |\n",
      "|Male  |MPRO|48:25:00 |4:24:55  |2:48:16 |8:06:45     |Finisher     |174300      |15895       |10096      |29205          |\n",
      "|Male  |MPRO|49:41:00 |4:24:49  |2:48:01 |8:07:28     |Finisher     |178860      |15889       |10081      |29248          |\n",
      "|Male  |MPRO|49:47:00 |4:25:08  |2:49:18 |8:09:10     |Finisher     |179220      |15908       |10158      |29350          |\n",
      "|Male  |MPRO|49:47:00 |4:21:57  |2:53:49 |8:10:25     |Finisher     |179220      |15717       |10429      |29425          |\n",
      "|Male  |MPRO|49:43:00 |4:15:24  |3:02:17 |8:12:47     |Finisher     |178980      |15324       |10937      |29567          |\n",
      "+------+----+---------+---------+--------+------------+-------------+------------+------------+-----------+---------------+\n",
      "only showing top 20 rows\n",
      "\n"
     ]
    },
    {
     "name": "stderr",
     "output_type": "stream",
     "text": [
      "\r",
      "                                                                                \r"
     ]
    }
   ],
   "source": [
    "from pyspark.sql.functions import udf\n",
    "from pyspark.sql.types import IntegerType\n",
    "\n",
    "# 1. 필요한 컬럼만 선택\n",
    "selected_columns = [\"gender\", \"div\", \"swim_time\", \"bike_time\", \"run_time\", \"overall_time\", \"finish_status\"]\n",
    "df_selected = df.select(selected_columns)\n",
    "\n",
    "# 2. 시간 데이터를 초 단위로 변환하는 UDF 정의\n",
    "def time_to_seconds(time_str):\n",
    "    if time_str is None or time_str.strip() == \"\":\n",
    "        return None  # 결측치는 그대로 처리\n",
    "    try:\n",
    "        h, m, s = map(int, time_str.split(':'))\n",
    "        return h * 3600 + m * 60 + s\n",
    "    except:\n",
    "        return None\n",
    "\n",
    "time_to_seconds_udf = udf(time_to_seconds, IntegerType())\n",
    "\n",
    "# 3. 시간 데이터를 변환\n",
    "df_transformed = df_selected.withColumn(\"swim_seconds\", time_to_seconds_udf(df_selected[\"swim_time\"])) \\\n",
    "                            .withColumn(\"bike_seconds\", time_to_seconds_udf(df_selected[\"bike_time\"])) \\\n",
    "                            .withColumn(\"run_seconds\", time_to_seconds_udf(df_selected[\"run_time\"])) \\\n",
    "                            .withColumn(\"overall_seconds\", time_to_seconds_udf(df_selected[\"overall_time\"]))\n",
    "\n",
    "# 4. 결과 확인\n",
    "df_transformed.show(truncate=False)\n"
   ]
  },
  {
   "cell_type": "code",
   "execution_count": 3,
   "id": "2815a14b",
   "metadata": {},
   "outputs": [
    {
     "name": "stdout",
     "output_type": "stream",
     "text": [
      "+------+----+---------+---------+--------+------------+-------------+------------+------------+-----------+---------------+--------------+---------+\n",
      "|gender|div |swim_time|bike_time|run_time|overall_time|finish_status|swim_seconds|bike_seconds|run_seconds|overall_seconds|gender_encoded|age_group|\n",
      "+------+----+---------+---------+--------+------------+-------------+------------+------------+-----------+---------------+--------------+---------+\n",
      "|Male  |MPRO|48:23:00 |4:11:06  |2:36:15 |7:40:24     |Finisher     |174180      |15066       |9375       |27624          |1             |null     |\n",
      "|Male  |MPRO|48:16:00 |4:04:36  |2:44:40 |7:42:24     |Finisher     |173760      |14676       |9880       |27744          |1             |null     |\n",
      "|Male  |MPRO|48:20:00 |4:11:16  |2:39:21 |7:43:23     |Finisher     |174000      |15076       |9561       |27803          |1             |null     |\n",
      "|Male  |MPRO|48:25:00 |4:11:30  |2:40:14 |7:44:44     |Finisher     |174300      |15090       |9614       |27884          |1             |null     |\n",
      "|Male  |MPRO|52:55:00 |4:11:11  |2:45:26 |7:54:05     |Finisher     |190500      |15071       |9926       |28445          |1             |null     |\n",
      "|Male  |MPRO|52:58:00 |4:09:11  |2:48:45 |7:55:40     |Finisher     |190680      |14951       |10125      |28540          |1             |null     |\n",
      "|Male  |MPRO|52:54:00 |4:09:05  |2:49:28 |7:55:52     |Finisher     |190440      |14945       |10168      |28552          |1             |null     |\n",
      "|Male  |MPRO|49:49:00 |4:13:38  |2:48:11 |7:56:38     |Finisher     |179340      |15218       |10091      |28598          |1             |null     |\n",
      "|Male  |MPRO|49:50:00 |4:15:14  |2:46:00 |7:56:58     |Finisher     |179400      |15314       |9960       |28618          |1             |null     |\n",
      "|Male  |MPRO|49:42:00 |4:21:52  |2:41:59 |7:58:20     |Finisher     |178920      |15712       |9719       |28700          |1             |null     |\n",
      "|Male  |MPRO|52:51:00 |4:09:04  |2:54:27 |8:00:51     |Finisher     |190260      |14944       |10467      |28851          |1             |null     |\n",
      "|Male  |MPRO|48:15:00 |4:17:58  |2:50:29 |8:01:53     |Finisher     |173700      |15478       |10229      |28913          |1             |null     |\n",
      "|Male  |MPRO|48:23:00 |4:13:30  |2:56:03 |8:02:58     |Finisher     |174180      |15210       |10563      |28978          |1             |null     |\n",
      "|Male  |MPRO|48:26:00 |4:22:59  |2:47:03 |8:03:24     |Finisher     |174360      |15779       |10023      |29004          |1             |null     |\n",
      "|Male  |MPRO|52:40:00 |4:22:18  |2:45:34 |8:04:55     |Finisher     |189600      |15738       |9934       |29095          |1             |null     |\n",
      "|Male  |MPRO|48:25:00 |4:24:55  |2:48:16 |8:06:45     |Finisher     |174300      |15895       |10096      |29205          |1             |null     |\n",
      "|Male  |MPRO|49:41:00 |4:24:49  |2:48:01 |8:07:28     |Finisher     |178860      |15889       |10081      |29248          |1             |null     |\n",
      "|Male  |MPRO|49:47:00 |4:25:08  |2:49:18 |8:09:10     |Finisher     |179220      |15908       |10158      |29350          |1             |null     |\n",
      "|Male  |MPRO|49:47:00 |4:21:57  |2:53:49 |8:10:25     |Finisher     |179220      |15717       |10429      |29425          |1             |null     |\n",
      "|Male  |MPRO|49:43:00 |4:15:24  |3:02:17 |8:12:47     |Finisher     |178980      |15324       |10937      |29567          |1             |null     |\n",
      "+------+----+---------+---------+--------+------------+-------------+------------+------------+-----------+---------------+--------------+---------+\n",
      "only showing top 20 rows\n",
      "\n",
      "+-----------------+-----------------+----------------+--------------------+------------------+\n",
      "|sum(swim_seconds)|sum(bike_seconds)|sum(run_seconds)|sum(overall_seconds)|sum(finish_status)|\n",
      "+-----------------+-----------------+----------------+--------------------+------------------+\n",
      "|              173|              211|             239|                 239|                 0|\n",
      "+-----------------+-----------------+----------------+--------------------+------------------+\n",
      "\n"
     ]
    }
   ],
   "source": [
    "from pyspark.sql.functions import when, col, regexp_extract\n",
    "\n",
    "# 1. 성별 인코딩 (Male -> 1, Female -> 0)\n",
    "df_prepared = df_transformed.withColumn(\n",
    "    \"gender_encoded\", when(col(\"gender\") == \"Male\", 1).otherwise(0)\n",
    ")\n",
    "\n",
    "# 2. 부문에서 나이대 추출\n",
    "# 정규식으로 나이대 정보 추출 (예: M30-34 -> 30, M25-29 -> 25)\n",
    "df_prepared = df_prepared.withColumn(\n",
    "    \"age_group\",\n",
    "    regexp_extract(col(\"div\"), r\"(\\d+)-\", 1).cast(\"int\")\n",
    ")\n",
    "\n",
    "# 3. 결측치 확인\n",
    "null_counts = df_prepared.select(\n",
    "    [\n",
    "        col(c).isNull().cast(\"int\").alias(c)\n",
    "        for c in [\"swim_seconds\", \"bike_seconds\", \"run_seconds\", \"overall_seconds\", \"finish_status\"]\n",
    "    ]\n",
    ").groupBy().sum()\n",
    "\n",
    "# 결과 출력\n",
    "df_prepared.show(truncate=False)\n",
    "null_counts.show()\n"
   ]
  },
  {
   "cell_type": "code",
   "execution_count": 11,
   "id": "035f9f86",
   "metadata": {},
   "outputs": [],
   "source": [
    "# 결측치 제거\n",
    "df_cleaned = df_prepared.dropna(subset=[\"swim_seconds\", \"bike_seconds\", \"run_seconds\", \"overall_seconds\", \"finish_status\"])\n"
   ]
  },
  {
   "cell_type": "code",
   "execution_count": 13,
   "id": "46ce6080",
   "metadata": {},
   "outputs": [],
   "source": [
    "# 모든 입력 컬럼을 double로 변환\n",
    "df_cleaned = df_cleaned.withColumn(\"gender_encoded\", col(\"gender_encoded\").cast(\"double\")) \\\n",
    "                       .withColumn(\"age_group\", col(\"age_group\").cast(\"double\")) \\\n",
    "                       .withColumn(\"swim_seconds\", col(\"swim_seconds\").cast(\"double\")) \\\n",
    "                       .withColumn(\"bike_seconds\", col(\"bike_seconds\").cast(\"double\")) \\\n",
    "                       .withColumn(\"run_seconds\", col(\"run_seconds\").cast(\"double\")) \\\n",
    "                       .withColumn(\"overall_seconds\", col(\"overall_seconds\").cast(\"double\"))\n"
   ]
  },
  {
   "cell_type": "code",
   "execution_count": 14,
   "id": "57c533f3",
   "metadata": {},
   "outputs": [
    {
     "name": "stdout",
     "output_type": "stream",
     "text": [
      "+--------------+---------+------------+------------+-----------+---------------+\n",
      "|gender_encoded|age_group|swim_seconds|bike_seconds|run_seconds|overall_seconds|\n",
      "+--------------+---------+------------+------------+-----------+---------------+\n",
      "|         false|     true|       false|       false|      false|          false|\n",
      "|         false|     true|       false|       false|      false|          false|\n",
      "|         false|     true|       false|       false|      false|          false|\n",
      "|         false|     true|       false|       false|      false|          false|\n",
      "|         false|     true|       false|       false|      false|          false|\n",
      "|         false|     true|       false|       false|      false|          false|\n",
      "|         false|     true|       false|       false|      false|          false|\n",
      "|         false|     true|       false|       false|      false|          false|\n",
      "|         false|     true|       false|       false|      false|          false|\n",
      "|         false|     true|       false|       false|      false|          false|\n",
      "|         false|     true|       false|       false|      false|          false|\n",
      "|         false|     true|       false|       false|      false|          false|\n",
      "|         false|     true|       false|       false|      false|          false|\n",
      "|         false|     true|       false|       false|      false|          false|\n",
      "|         false|     true|       false|       false|      false|          false|\n",
      "|         false|     true|       false|       false|      false|          false|\n",
      "|         false|     true|       false|       false|      false|          false|\n",
      "|         false|     true|       false|       false|      false|          false|\n",
      "|         false|     true|       false|       false|      false|          false|\n",
      "|         false|     true|       false|       false|      false|          false|\n",
      "+--------------+---------+------------+------------+-----------+---------------+\n",
      "only showing top 20 rows\n",
      "\n"
     ]
    }
   ],
   "source": [
    "# null 값 확인\n",
    "df_cleaned.select([col(c).isNull().alias(c) for c in features]).show()\n"
   ]
  },
  {
   "cell_type": "code",
   "execution_count": 20,
   "id": "370f856c",
   "metadata": {},
   "outputs": [],
   "source": [
    "df_cleaned = df_cleaned.dropna()\n"
   ]
  },
  {
   "cell_type": "code",
   "execution_count": 23,
   "id": "3ff67eb7",
   "metadata": {},
   "outputs": [
    {
     "name": "stderr",
     "output_type": "stream",
     "text": [
      "\r",
      "[Stage 38:=======================================>               (71 + 2) / 100]\r",
      "\r",
      "                                                                                \r"
     ]
    },
    {
     "name": "stdout",
     "output_type": "stream",
     "text": [
      "+---------------------+-----+\n",
      "|finish_status_encoded|count|\n",
      "+---------------------+-----+\n",
      "|                    1| 2376|\n",
      "+---------------------+-----+\n",
      "\n"
     ]
    }
   ],
   "source": [
    "from pyspark.sql.functions import when, col\n",
    "from pyspark.ml.feature import VectorAssembler\n",
    "\n",
    "# 1. 결측치 제거\n",
    "df_cleaned = df_prepared.dropna(subset=[\"swim_seconds\", \"bike_seconds\", \"run_seconds\", \"overall_seconds\", \"finish_status\"])\n",
    "\n",
    "# 2. 데이터 타입 변환 및 `finish_status_encoded` 생성\n",
    "df_cleaned = df_cleaned.withColumn(\"gender_encoded\", col(\"gender_encoded\").cast(\"double\")) \\\n",
    "                       .withColumn(\"age_group\", col(\"age_group\").cast(\"double\")) \\\n",
    "                       .withColumn(\"swim_seconds\", col(\"swim_seconds\").cast(\"double\")) \\\n",
    "                       .withColumn(\"bike_seconds\", col(\"bike_seconds\").cast(\"double\")) \\\n",
    "                       .withColumn(\"run_seconds\", col(\"run_seconds\").cast(\"double\")) \\\n",
    "                       .withColumn(\"overall_seconds\", col(\"overall_seconds\").cast(\"double\")) \\\n",
    "                       .withColumn(\"finish_status_encoded\", when(col(\"finish_status\") == \"Finisher\", 1).otherwise(0))\n",
    "\n",
    "# 3. 데이터 불균형 확인\n",
    "df_cleaned.groupBy(\"finish_status_encoded\").count().show()\n",
    "\n"
   ]
  },
  {
   "cell_type": "code",
   "execution_count": null,
   "id": "87697a88",
   "metadata": {},
   "outputs": [],
   "source": []
  },
  {
   "cell_type": "code",
   "execution_count": 17,
   "id": "0b362028",
   "metadata": {},
   "outputs": [
    {
     "name": "stderr",
     "output_type": "stream",
     "text": [
      "24/12/18 16:38:15 WARN Instrumentation: [00857140] All labels are the same value and fitIntercept=true, so the coefficients will be zeros. Training is not needed.\n"
     ]
    },
    {
     "name": "stdout",
     "output_type": "stream",
     "text": [
      "ROC-AUC: 1.00\n",
      "+--------------------+---------------------+----------+-----------+\n",
      "|            features|finish_status_encoded|prediction|probability|\n",
      "+--------------------+---------------------+----------+-----------+\n",
      "|[1.0,18.0,3717.0,...|                    1|       1.0|  [0.0,1.0]|\n",
      "|[1.0,18.0,3776.0,...|                    1|       1.0|  [0.0,1.0]|\n",
      "|[1.0,18.0,3855.0,...|                    1|       1.0|  [0.0,1.0]|\n",
      "|[1.0,18.0,3943.0,...|                    1|       1.0|  [0.0,1.0]|\n",
      "|[1.0,18.0,4134.0,...|                    1|       1.0|  [0.0,1.0]|\n",
      "|[1.0,18.0,4212.0,...|                    1|       1.0|  [0.0,1.0]|\n",
      "|[1.0,18.0,4340.0,...|                    1|       1.0|  [0.0,1.0]|\n",
      "|[1.0,18.0,4702.0,...|                    1|       1.0|  [0.0,1.0]|\n",
      "|[1.0,18.0,193380....|                    1|       1.0|  [0.0,1.0]|\n",
      "|[1.0,18.0,193620....|                    1|       1.0|  [0.0,1.0]|\n",
      "|[1.0,18.0,193740....|                    1|       1.0|  [0.0,1.0]|\n",
      "|[1.0,18.0,201420....|                    1|       1.0|  [0.0,1.0]|\n",
      "|[1.0,18.0,201660....|                    1|       1.0|  [0.0,1.0]|\n",
      "|[1.0,18.0,208980....|                    1|       1.0|  [0.0,1.0]|\n",
      "|[1.0,18.0,214020....|                    1|       1.0|  [0.0,1.0]|\n",
      "|[1.0,30.0,3607.0,...|                    1|       1.0|  [0.0,1.0]|\n",
      "|[1.0,30.0,3668.0,...|                    1|       1.0|  [0.0,1.0]|\n",
      "|[1.0,30.0,3743.0,...|                    1|       1.0|  [0.0,1.0]|\n",
      "|[1.0,30.0,3755.0,...|                    1|       1.0|  [0.0,1.0]|\n",
      "|[1.0,30.0,3762.0,...|                    1|       1.0|  [0.0,1.0]|\n",
      "+--------------------+---------------------+----------+-----------+\n",
      "only showing top 20 rows\n",
      "\n"
     ]
    }
   ],
   "source": [
    "from pyspark.ml.classification import LogisticRegression\n",
    "from pyspark.ml.evaluation import BinaryClassificationEvaluator\n",
    "\n",
    "# 1. 모델 생성\n",
    "lr = LogisticRegression(featuresCol=\"features\", labelCol=\"finish_status_encoded\")\n",
    "\n",
    "# 2. 모델 학습\n",
    "lr_model = lr.fit(train_data)\n",
    "\n",
    "# 3. 테스트 데이터로 예측\n",
    "predictions = lr_model.transform(test_data)\n",
    "\n",
    "# 4. 평가\n",
    "evaluator = BinaryClassificationEvaluator(labelCol=\"finish_status_encoded\", metricName=\"areaUnderROC\")\n",
    "roc_auc = evaluator.evaluate(predictions)\n",
    "\n",
    "# 결과 출력\n",
    "print(f\"ROC-AUC: {roc_auc:.2f}\")\n",
    "predictions.select(\"features\", \"finish_status_encoded\", \"prediction\", \"probability\").show()\n"
   ]
  },
  {
   "cell_type": "code",
   "execution_count": 24,
   "id": "ddbdd956",
   "metadata": {},
   "outputs": [],
   "source": [
    "spark.stop()"
   ]
  },
  {
   "cell_type": "code",
   "execution_count": null,
   "id": "7afdf91e",
   "metadata": {},
   "outputs": [],
   "source": []
  }
 ],
 "metadata": {
  "kernelspec": {
   "display_name": "Python (spark_start)",
   "language": "python",
   "name": "spark_start"
  },
  "language_info": {
   "codemirror_mode": {
    "name": "ipython",
    "version": 3
   },
   "file_extension": ".py",
   "mimetype": "text/x-python",
   "name": "python",
   "nbconvert_exporter": "python",
   "pygments_lexer": "ipython3",
   "version": "3.8.20"
  }
 },
 "nbformat": 4,
 "nbformat_minor": 5
}
