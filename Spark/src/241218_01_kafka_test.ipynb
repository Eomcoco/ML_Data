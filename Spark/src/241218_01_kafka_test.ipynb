{
 "cells": [
  {
   "cell_type": "code",
   "execution_count": 3,
   "id": "7c670460",
   "metadata": {},
   "outputs": [
    {
     "name": "stdout",
     "output_type": "stream",
     "text": [
      "Collecting kafka-python\n",
      "  Downloading kafka_python-2.0.2-py2.py3-none-any.whl.metadata (7.8 kB)\n",
      "Downloading kafka_python-2.0.2-py2.py3-none-any.whl (246 kB)\n",
      "Installing collected packages: kafka-python\n",
      "Successfully installed kafka-python-2.0.2\n"
     ]
    }
   ],
   "source": [
    "!pip install kafka-python"
   ]
  },
  {
   "cell_type": "code",
   "execution_count": 4,
   "id": "09372be5",
   "metadata": {},
   "outputs": [
    {
     "name": "stdout",
     "output_type": "stream",
     "text": [
      "Name: kafka-python\r\n",
      "Version: 2.0.2\r\n",
      "Summary: Pure Python client for Apache Kafka\r\n",
      "Home-page: https://github.com/dpkp/kafka-python\r\n",
      "Author: Dana Powers\r\n",
      "Author-email: dana.powers@gmail.com\r\n",
      "License: Apache License 2.0\r\n",
      "Location: /home/ubuntu/anaconda3/envs/spark_start/lib/python3.8/site-packages\r\n",
      "Requires: \r\n",
      "Required-by: \r\n"
     ]
    }
   ],
   "source": [
    "!pip show kafka-python"
   ]
  },
  {
   "cell_type": "code",
   "execution_count": 5,
   "id": "58079d2b",
   "metadata": {},
   "outputs": [],
   "source": [
    "topic = 'kafka-test'\n",
    "kafka_server ='localhost:9092'"
   ]
  },
  {
   "cell_type": "code",
   "execution_count": 6,
   "id": "29191075",
   "metadata": {},
   "outputs": [
    {
     "name": "stdout",
     "output_type": "stream",
     "text": [
      "Sent: Message 0\n",
      "Sent: Message 1\n",
      "Sent: Message 2\n",
      "Sent: Message 3\n",
      "Sent: Message 4\n"
     ]
    }
   ],
   "source": [
    "from kafka import KafkaProducer\n",
    "\n",
    "# Kafka Producer 생성\n",
    "producer = KafkaProducer(\n",
    "    bootstrap_servers=kafka_server,  # Kafka 서버 주소\n",
    "    value_serializer=lambda v: v.encode('utf-8')  # 메시지 직렬화\n",
    ")\n",
    "\n",
    "# 메시지 전송\n",
    "for i in range(5):\n",
    "    message = f\"Message {i}\"\n",
    "    producer.send(topic, value=message)\n",
    "    print(f\"Sent: {message}\")\n",
    "\n",
    "# Producer 종료\n",
    "producer.close()"
   ]
  },
  {
   "cell_type": "code",
   "execution_count": 7,
   "id": "311209e5",
   "metadata": {},
   "outputs": [
    {
     "name": "stdout",
     "output_type": "stream",
     "text": [
      "Kafka Consumer 시작. 메시지 대기 중...\n",
      "Received message: Key=None, Value=Hello\n",
      "Received message: Key=None, Value=hello2\n",
      "Received message: Key=None, Value=Message 0\n",
      "Received message: Key=None, Value=Message 1\n",
      "Received message: Key=None, Value=Message 2\n",
      "Received message: Key=None, Value=Message 3\n",
      "Received message: Key=None, Value=Message 4\n",
      "Received message: Key=None, Value=world\n",
      "Consumer 종료.\n"
     ]
    }
   ],
   "source": [
    "from kafka import KafkaConsumer\n",
    "\n",
    "# Kafka Consumer 생성\n",
    "consumer = KafkaConsumer(\n",
    "    topic,  # 구독할 토픽 이름\n",
    "    bootstrap_servers= kafka_server,  # Kafka 서버 주소\n",
    "    group_id='test-group',  # 컨슈머 그룹 ID\n",
    "    auto_offset_reset='earliest',  # 메시지를 처음부터 읽기\n",
    "    enable_auto_commit=True,  # 자동 커밋 활성화\n",
    "    value_deserializer=lambda x: x.decode('utf-8')  # 메시지 디코딩\n",
    ")\n",
    "\n",
    "print(\"Kafka Consumer 시작. 메시지 대기 중...\")\n",
    "\n",
    "try:\n",
    "    for message in consumer:\n",
    "        print(f\"Received message: Key={message.key}, Value={message.value}\")\n",
    "except KeyboardInterrupt:\n",
    "    print(\"Consumer 종료.\")\n",
    "finally:\n",
    "    consumer.close()"
   ]
  },
  {
   "cell_type": "code",
   "execution_count": null,
   "id": "0289492d",
   "metadata": {},
   "outputs": [],
   "source": []
  }
 ],
 "metadata": {
  "kernelspec": {
   "display_name": "Python (spark_start)",
   "language": "python",
   "name": "spark_start"
  },
  "language_info": {
   "codemirror_mode": {
    "name": "ipython",
    "version": 3
   },
   "file_extension": ".py",
   "mimetype": "text/x-python",
   "name": "python",
   "nbconvert_exporter": "python",
   "pygments_lexer": "ipython3",
   "version": "3.8.20"
  }
 },
 "nbformat": 4,
 "nbformat_minor": 5
}
