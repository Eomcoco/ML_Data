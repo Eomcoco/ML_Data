{
 "cells": [
  {
   "cell_type": "code",
   "execution_count": 1,
   "id": "41330d9c",
   "metadata": {},
   "outputs": [
    {
     "name": "stderr",
     "output_type": "stream",
     "text": [
      "24/12/13 10:16:08 WARN NativeCodeLoader: Unable to load native-hadoop library for your platform... using builtin-java classes where applicable\n",
      "Using Spark's default log4j profile: org/apache/spark/log4j-defaults.properties\n",
      "Setting default log level to \"WARN\".\n",
      "To adjust logging level use sc.setLogLevel(newLevel). For SparkR, use setLogLevel(newLevel).\n"
     ]
    }
   ],
   "source": [
    "from pyspark.sql import SparkSession\n",
    "\n",
    "spark = SparkSession.builder.appName(\"241212_01_MLlib_classification\").getOrCreate()"
   ]
  },
  {
   "cell_type": "code",
   "execution_count": 2,
   "id": "1d7e0136",
   "metadata": {},
   "outputs": [
    {
     "name": "stderr",
     "output_type": "stream",
     "text": [
      "\r",
      "[Stage 0:>                                                          (0 + 1) / 1]\r",
      "\r",
      "                                                                                \r"
     ]
    }
   ],
   "source": [
    "df = spark.read.format(\"csv\")\\\n",
    "    .option(\"header\", 'true')\\\n",
    "    .option('inferSchema', 'true')\\\n",
    "    .load('data/titanic.csv')"
   ]
  },
  {
   "cell_type": "code",
   "execution_count": 3,
   "id": "21dec6db",
   "metadata": {},
   "outputs": [
    {
     "name": "stdout",
     "output_type": "stream",
     "text": [
      "+--------+------+------+----+-----+-----+-------+-----------+\n",
      "|survived|pclass|   sex| age|sibsp|parch|   fare|embark_town|\n",
      "+--------+------+------+----+-----+-----+-------+-----------+\n",
      "|       0|     3|  male|22.0|    1|    0|   7.25|Southampton|\n",
      "|       1|     1|female|38.0|    1|    0|71.2833|  Cherbourg|\n",
      "|       1|     3|female|26.0|    0|    0|  7.925|Southampton|\n",
      "|       1|     1|female|35.0|    1|    0|   53.1|Southampton|\n",
      "|       0|     3|  male|35.0|    0|    0|   8.05|Southampton|\n",
      "|       0|     3|  male|null|    0|    0| 8.4583| Queenstown|\n",
      "|       0|     1|  male|54.0|    0|    0|51.8625|Southampton|\n",
      "|       0|     3|  male| 2.0|    3|    1| 21.075|Southampton|\n",
      "|       1|     3|female|27.0|    0|    2|11.1333|Southampton|\n",
      "|       1|     2|female|14.0|    1|    0|30.0708|  Cherbourg|\n",
      "+--------+------+------+----+-----+-----+-------+-----------+\n",
      "only showing top 10 rows\n",
      "\n"
     ]
    }
   ],
   "source": [
    "df.show(10)"
   ]
  },
  {
   "cell_type": "code",
   "execution_count": 4,
   "id": "4867d909",
   "metadata": {},
   "outputs": [
    {
     "name": "stdout",
     "output_type": "stream",
     "text": [
      "+--------+------+---+---+-----+-----+----+-----------+\n",
      "|survived|pclass|sex|age|sibsp|parch|fare|embark_town|\n",
      "+--------+------+---+---+-----+-----+----+-----------+\n",
      "|       0|     0|  0|177|    0|    0|   0|          2|\n",
      "+--------+------+---+---+-----+-----+----+-----------+\n",
      "\n"
     ]
    }
   ],
   "source": [
    "from pyspark.sql.functions import col, isnan, when, sum\n",
    "\n",
    "null_counts = df.select(\n",
    "    [\n",
    "        sum(when(col(c).isNull() | isnan(col(c)), 1).otherwise(0)).alias(c) \n",
    "        for c in df.columns\n",
    "    ]\n",
    ")\n",
    "\n",
    "null_counts.show()\n"
   ]
  },
  {
   "cell_type": "code",
   "execution_count": 5,
   "id": "357390d6",
   "metadata": {},
   "outputs": [
    {
     "name": "stdout",
     "output_type": "stream",
     "text": [
      "+--------+------+------+----+-----+-----+-------+\n",
      "|survived|pclass|   sex| age|sibsp|parch|   fare|\n",
      "+--------+------+------+----+-----+-----+-------+\n",
      "|       0|     3|  male|22.0|    1|    0|   7.25|\n",
      "|       1|     1|female|38.0|    1|    0|71.2833|\n",
      "|       1|     3|female|26.0|    0|    0|  7.925|\n",
      "|       1|     1|female|35.0|    1|    0|   53.1|\n",
      "|       0|     3|  male|35.0|    0|    0|   8.05|\n",
      "+--------+------+------+----+-----+-----+-------+\n",
      "only showing top 5 rows\n",
      "\n"
     ]
    }
   ],
   "source": [
    "data = df.select(\"survived\",\"pclass\", \"sex\",\"age\",\"sibsp\",\"parch\",\"fare\")\n",
    "data.show(5)"
   ]
  },
  {
   "cell_type": "code",
   "execution_count": 6,
   "id": "89b27bfb",
   "metadata": {},
   "outputs": [
    {
     "data": {
      "text/plain": [
       "29.69911764705882"
      ]
     },
     "execution_count": 6,
     "metadata": {},
     "output_type": "execute_result"
    }
   ],
   "source": [
    "mean_age = data.select(\"age\").agg({\"age\":\"mean\"}).collect()[0][0]\n",
    "mean_age"
   ]
  },
  {
   "cell_type": "code",
   "execution_count": 9,
   "id": "28672c90",
   "metadata": {},
   "outputs": [
    {
     "name": "stdout",
     "output_type": "stream",
     "text": [
      "+--------+------+------+-----------------+-----+-----+-------+\n",
      "|survived|pclass|   sex|              age|sibsp|parch|   fare|\n",
      "+--------+------+------+-----------------+-----+-----+-------+\n",
      "|       0|     3|  male|             22.0|    1|    0|   7.25|\n",
      "|       1|     1|female|             38.0|    1|    0|71.2833|\n",
      "|       1|     3|female|             26.0|    0|    0|  7.925|\n",
      "|       1|     1|female|             35.0|    1|    0|   53.1|\n",
      "|       0|     3|  male|             35.0|    0|    0|   8.05|\n",
      "|       0|     3|  male|29.69911764705882|    0|    0| 8.4583|\n",
      "|       0|     1|  male|             54.0|    0|    0|51.8625|\n",
      "|       0|     3|  male|              2.0|    3|    1| 21.075|\n",
      "|       1|     3|female|             27.0|    0|    2|11.1333|\n",
      "|       1|     2|female|             14.0|    1|    0|30.0708|\n",
      "+--------+------+------+-----------------+-----+-----+-------+\n",
      "only showing top 10 rows\n",
      "\n"
     ]
    }
   ],
   "source": [
    "data = data.fillna({\"age\":mean_age})\n",
    "data.show(10)"
   ]
  },
  {
   "cell_type": "code",
   "execution_count": 10,
   "id": "bb26edf4",
   "metadata": {},
   "outputs": [
    {
     "name": "stdout",
     "output_type": "stream",
     "text": [
      "+--------+------+------+----+-----+-----+-------+--------+\n",
      "|survived|pclass|   sex| age|sibsp|parch|   fare|SexIndex|\n",
      "+--------+------+------+----+-----+-----+-------+--------+\n",
      "|       0|     3|  male|22.0|    1|    0|   7.25|     0.0|\n",
      "|       1|     1|female|38.0|    1|    0|71.2833|     1.0|\n",
      "|       1|     3|female|26.0|    0|    0|  7.925|     1.0|\n",
      "|       1|     1|female|35.0|    1|    0|   53.1|     1.0|\n",
      "|       0|     3|  male|35.0|    0|    0|   8.05|     0.0|\n",
      "+--------+------+------+----+-----+-----+-------+--------+\n",
      "only showing top 5 rows\n",
      "\n"
     ]
    }
   ],
   "source": [
    "from pyspark.ml.feature import StringIndexer, VectorAssembler\n",
    "indexer = StringIndexer(inputCol=\"sex\", outputCol=\"SexIndex\")\n",
    "data = indexer.fit(data).transform(data)\n",
    "data.show(5)"
   ]
  },
  {
   "cell_type": "code",
   "execution_count": 11,
   "id": "424b24b0",
   "metadata": {},
   "outputs": [
    {
     "data": {
      "text/plain": [
       "DataFrame[survived: int, pclass: int, sex: string, age: double, sibsp: int, parch: int, fare: double, SexIndex: double, features: vector]"
      ]
     },
     "execution_count": 11,
     "metadata": {},
     "output_type": "execute_result"
    }
   ],
   "source": [
    "#target 을 제외한 학습을 위한 피처를 \"features\" 라는 이름으로 어셈블한다.\n",
    "assembler = VectorAssembler(\n",
    "    inputCols=[\"pclass\", \"SexIndex\", \"age\", \"sibsp\", \"parch\", \"fare\"],\n",
    "    outputCol=\"features\"\n",
    ")\n",
    "data = assembler.transform(data)\n",
    "data"
   ]
  },
  {
   "cell_type": "code",
   "execution_count": 12,
   "id": "cbb05d7c",
   "metadata": {},
   "outputs": [
    {
     "name": "stdout",
     "output_type": "stream",
     "text": [
      "+--------+--------------------+\n",
      "|survived|            features|\n",
      "+--------+--------------------+\n",
      "|       0|[3.0,0.0,22.0,1.0...|\n",
      "|       1|[1.0,1.0,38.0,1.0...|\n",
      "|       1|[3.0,1.0,26.0,0.0...|\n",
      "|       1|[1.0,1.0,35.0,1.0...|\n",
      "|       0|[3.0,0.0,35.0,0.0...|\n",
      "+--------+--------------------+\n",
      "only showing top 5 rows\n",
      "\n"
     ]
    }
   ],
   "source": [
    "#지도학습, 분류모델을 학습시키기 위한 데이터\n",
    "data.select(\"survived\", \"features\").show(5)"
   ]
  },
  {
   "cell_type": "code",
   "execution_count": 13,
   "id": "d85aa927",
   "metadata": {},
   "outputs": [],
   "source": [
    "#dataset 분할\n"
   ]
  },
  {
   "cell_type": "code",
   "execution_count": 14,
   "id": "ccee8648",
   "metadata": {},
   "outputs": [],
   "source": [
    "train_data, test_data = data.randomSplit([0.8,0.2], seed = 42)"
   ]
  },
  {
   "cell_type": "code",
   "execution_count": 15,
   "id": "a2bec4ce",
   "metadata": {},
   "outputs": [
    {
     "name": "stdout",
     "output_type": "stream",
     "text": [
      "+--------+------+------+----+-----+-----+------+--------+--------------------+\n",
      "|survived|pclass|   sex| age|sibsp|parch|  fare|SexIndex|            features|\n",
      "+--------+------+------+----+-----+-----+------+--------+--------------------+\n",
      "|       0|     1|female| 2.0|    1|    2|151.55|     1.0|[1.0,1.0,2.0,1.0,...|\n",
      "|       0|     1|female|25.0|    1|    2|151.55|     1.0|[1.0,1.0,25.0,1.0...|\n",
      "|       0|     1|  male|18.0|    1|    0| 108.9|     0.0|[1.0,0.0,18.0,1.0...|\n",
      "|       0|     1|  male|19.0|    1|    0|  53.1|     0.0|[1.0,0.0,19.0,1.0...|\n",
      "|       0|     1|  male|19.0|    3|    2| 263.0|     0.0|[1.0,0.0,19.0,3.0...|\n",
      "+--------+------+------+----+-----+-----+------+--------+--------------------+\n",
      "only showing top 5 rows\n",
      "\n",
      "+--------+------+------+-----------------+-----+-----+-------+--------+--------------------+\n",
      "|survived|pclass|   sex|              age|sibsp|parch|   fare|SexIndex|            features|\n",
      "+--------+------+------+-----------------+-----+-----+-------+--------+--------------------+\n",
      "|       0|     1|female|             50.0|    0|    0|28.7125|     1.0|[1.0,1.0,50.0,0.0...|\n",
      "|       0|     1|  male|             21.0|    0|    1|77.2875|     0.0|[1.0,0.0,21.0,0.0...|\n",
      "|       0|     1|  male|             24.0|    0|    0|   79.2|     0.0|[1.0,0.0,24.0,0.0...|\n",
      "|       0|     1|  male|             29.0|    0|    0|   30.0|     0.0|[1.0,0.0,29.0,0.0...|\n",
      "|       0|     1|  male|29.69911764705882|    0|    0|  26.55|     0.0|[1.0,0.0,29.69911...|\n",
      "+--------+------+------+-----------------+-----+-----+-------+--------+--------------------+\n",
      "only showing top 5 rows\n",
      "\n"
     ]
    },
    {
     "data": {
      "text/plain": [
       "(None, None)"
      ]
     },
     "execution_count": 15,
     "metadata": {},
     "output_type": "execute_result"
    }
   ],
   "source": [
    "train_data.show(5), test_data.show(5)"
   ]
  },
  {
   "cell_type": "code",
   "execution_count": null,
   "id": "8511e627",
   "metadata": {},
   "outputs": [],
   "source": [
    "#분류 예측 모델 생성 - 로지스틱 회귀"
   ]
  },
  {
   "cell_type": "code",
   "execution_count": 16,
   "id": "9ae95dda",
   "metadata": {},
   "outputs": [],
   "source": [
    "from pyspark.ml.classification import LogisticRegression\n"
   ]
  },
  {
   "cell_type": "code",
   "execution_count": 17,
   "id": "42dc1c46",
   "metadata": {},
   "outputs": [],
   "source": [
    "lr = LogisticRegression(featuresCol=\"features\", labelCol=\"survived\")"
   ]
  },
  {
   "cell_type": "code",
   "execution_count": 18,
   "id": "2704d7bf",
   "metadata": {},
   "outputs": [
    {
     "name": "stderr",
     "output_type": "stream",
     "text": [
      "24/12/13 10:17:07 WARN BLAS: Failed to load implementation from: com.github.fommil.netlib.NativeSystemBLAS\n",
      "24/12/13 10:17:07 WARN BLAS: Failed to load implementation from: com.github.fommil.netlib.NativeRefBLAS\n"
     ]
    }
   ],
   "source": [
    "#모델 학습\n",
    "lr_model = lr.fit( train_data )"
   ]
  },
  {
   "cell_type": "code",
   "execution_count": 19,
   "id": "c1ccb8c6",
   "metadata": {},
   "outputs": [
    {
     "name": "stdout",
     "output_type": "stream",
     "text": [
      "+--------+------+------+-----------------+-----+-----+-------+--------+--------------------+--------------------+--------------------+----------+\n",
      "|survived|pclass|   sex|              age|sibsp|parch|   fare|SexIndex|            features|       rawPrediction|         probability|prediction|\n",
      "+--------+------+------+-----------------+-----+-----+-------+--------+--------------------+--------------------+--------------------+----------+\n",
      "|       0|     1|female|             50.0|    0|    0|28.7125|     1.0|[1.0,1.0,50.0,0.0...|[-1.9520246347246...|[0.12433276014445...|       1.0|\n",
      "|       0|     1|  male|             21.0|    0|    1|77.2875|     0.0|[1.0,0.0,21.0,0.0...|[-0.5063684917057...|[0.37604522093222...|       1.0|\n",
      "|       0|     1|  male|             24.0|    0|    0|   79.2|     0.0|[1.0,0.0,24.0,0.0...|[-0.5000163743656...|[0.37753682076914...|       1.0|\n",
      "|       0|     1|  male|             29.0|    0|    0|   30.0|     0.0|[1.0,0.0,29.0,0.0...|[-0.1615623337462...|[0.45969704539401...|       1.0|\n",
      "|       0|     1|  male|29.69911764705882|    0|    0|  26.55|     0.0|[1.0,0.0,29.69911...|[-0.1231865060676...|[0.46924225915865...|       1.0|\n",
      "+--------+------+------+-----------------+-----+-----+-------+--------+--------------------+--------------------+--------------------+----------+\n",
      "only showing top 5 rows\n",
      "\n"
     ]
    }
   ],
   "source": [
    "predictions = lr_model.transform( test_data )\n",
    "predictions.show(5)"
   ]
  },
  {
   "cell_type": "code",
   "execution_count": 20,
   "id": "5739ea23",
   "metadata": {},
   "outputs": [
    {
     "data": {
      "text/plain": [
       "[Row(features=DenseVector([3.0, 0.0, 29.6991, 0.0, 0.0, 56.4958]), survived=1, prediction=0.0),\n",
       " Row(features=DenseVector([3.0, 0.0, 29.6991, 2.0, 0.0, 23.25]), survived=1, prediction=0.0),\n",
       " Row(features=DenseVector([3.0, 0.0, 31.0, 0.0, 0.0, 7.925]), survived=1, prediction=0.0),\n",
       " Row(features=DenseVector([3.0, 0.0, 32.0, 0.0, 0.0, 56.4958]), survived=1, prediction=0.0),\n",
       " Row(features=DenseVector([3.0, 0.0, 39.0, 0.0, 0.0, 7.925]), survived=1, prediction=0.0)]"
      ]
     },
     "execution_count": 20,
     "metadata": {},
     "output_type": "execute_result"
    }
   ],
   "source": [
    "predictions.select(\"features\", \"survived\",\"prediction\").tail(5)"
   ]
  },
  {
   "cell_type": "code",
   "execution_count": 21,
   "id": "327905b2",
   "metadata": {},
   "outputs": [],
   "source": [
    "from pyspark.sql.types import IntegerType\n",
    "from pyspark.sql.functions import expr"
   ]
  },
  {
   "cell_type": "code",
   "execution_count": 22,
   "id": "1ba21457",
   "metadata": {},
   "outputs": [],
   "source": [
    "predictions = predictions.withColumn(\"survived\", col(\"survived\").cast(IntegerType()))\n",
    "predictions = predictions.withColumn(\"prediction\", col(\"prediction\").cast(IntegerType()))"
   ]
  },
  {
   "cell_type": "code",
   "execution_count": 23,
   "id": "40365e39",
   "metadata": {},
   "outputs": [
    {
     "data": {
      "text/plain": [
       "28"
      ]
     },
     "execution_count": 23,
     "metadata": {},
     "output_type": "execute_result"
    }
   ],
   "source": [
    "compare = predictions.withColumn(\"correct\", expr(\"case when survived=prediction then 1 else 0 end\"))\n",
    "compare.where('correct=0').count()"
   ]
  },
  {
   "cell_type": "code",
   "execution_count": 24,
   "id": "0eb0a39f",
   "metadata": {},
   "outputs": [],
   "source": [
    "#정확도 계산 > 모델의 점수"
   ]
  },
  {
   "cell_type": "code",
   "execution_count": 25,
   "id": "44f58753",
   "metadata": {},
   "outputs": [
    {
     "data": {
      "text/plain": [
       "0.8068965517241379"
      ]
     },
     "execution_count": 25,
     "metadata": {},
     "output_type": "execute_result"
    }
   ],
   "source": [
    "accu = compare.selectExpr(\"avg(correct) as accuracy\").collect()[0]['accuracy']\n",
    "accu"
   ]
  },
  {
   "cell_type": "code",
   "execution_count": 26,
   "id": "5aa4f95f",
   "metadata": {},
   "outputs": [],
   "source": [
    "#평가기 evaluator"
   ]
  },
  {
   "cell_type": "code",
   "execution_count": 27,
   "id": "c816134a",
   "metadata": {},
   "outputs": [],
   "source": [
    "from pyspark.ml.evaluation import BinaryClassificationEvaluator"
   ]
  },
  {
   "cell_type": "code",
   "execution_count": 28,
   "id": "dc3d9c3a",
   "metadata": {},
   "outputs": [
    {
     "data": {
      "text/plain": [
       "BinaryClassificationEvaluator_7a553b927567"
      ]
     },
     "execution_count": 28,
     "metadata": {},
     "output_type": "execute_result"
    }
   ],
   "source": [
    "evaluator = BinaryClassificationEvaluator(labelCol=\"survived\", rawPredictionCol='rawPrediction', metricName=\"areaUnderROC\")\n",
    "evaluator"
   ]
  },
  {
   "cell_type": "code",
   "execution_count": null,
   "id": "5d7b42ca",
   "metadata": {},
   "outputs": [],
   "source": [
    "auc = evaluator.evaluate(predictions)\n",
    "auc"
   ]
  },
  {
   "cell_type": "code",
   "execution_count": 29,
   "id": "55299a63",
   "metadata": {},
   "outputs": [],
   "source": [
    "spark.stop()"
   ]
  },
  {
   "cell_type": "code",
   "execution_count": null,
   "id": "ebf4d552",
   "metadata": {},
   "outputs": [],
   "source": []
  }
 ],
 "metadata": {
  "kernelspec": {
   "display_name": "Python (spark_start)",
   "language": "python",
   "name": "spark_start"
  },
  "language_info": {
   "codemirror_mode": {
    "name": "ipython",
    "version": 3
   },
   "file_extension": ".py",
   "mimetype": "text/x-python",
   "name": "python",
   "nbconvert_exporter": "python",
   "pygments_lexer": "ipython3",
   "version": "3.8.20"
  }
 },
 "nbformat": 4,
 "nbformat_minor": 5
}
