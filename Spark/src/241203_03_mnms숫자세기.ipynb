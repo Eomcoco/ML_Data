{
 "cells": [
  {
   "cell_type": "markdown",
   "id": "ca027e5d",
   "metadata": {},
   "source": [
    "1. 데이터 RDD 생성 map()\n",
    "2. collect()\n",
    "3. blue mnm만 꺼내기\n",
    "4. 전체 합계 구하기\n",
    "5. 도시별 합계 구하기"
   ]
  },
  {
   "cell_type": "code",
   "execution_count": 2,
   "id": "f669e51c",
   "metadata": {},
   "outputs": [
    {
     "name": "stderr",
     "output_type": "stream",
     "text": [
      "24/12/03 15:33:32 WARN NativeCodeLoader: Unable to load native-hadoop library for your platform... using builtin-java classes where applicable\n",
      "Using Spark's default log4j profile: org/apache/spark/log4j-defaults.properties\n",
      "Setting default log level to \"WARN\".\n",
      "To adjust logging level use sc.setLogLevel(newLevel). For SparkR, use setLogLevel(newLevel).\n",
      "----------------------------------------\n",
      "Exception happened during processing of request from ('127.0.0.1', 50748)\n",
      "Traceback (most recent call last):\n",
      "  File \"/home/ubuntu/anaconda3/envs/spark_start/lib/python3.8/socketserver.py\", line 316, in _handle_request_noblock\n",
      "    self.process_request(request, client_address)\n",
      "  File \"/home/ubuntu/anaconda3/envs/spark_start/lib/python3.8/socketserver.py\", line 347, in process_request\n",
      "    self.finish_request(request, client_address)\n",
      "  File \"/home/ubuntu/anaconda3/envs/spark_start/lib/python3.8/socketserver.py\", line 360, in finish_request\n",
      "    self.RequestHandlerClass(request, client_address, self)\n",
      "  File \"/home/ubuntu/anaconda3/envs/spark_start/lib/python3.8/socketserver.py\", line 747, in __init__\n",
      "    self.handle()\n",
      "  File \"/opt/spark/python/pyspark/accumulators.py\", line 262, in handle\n",
      "    poll(accum_updates)\n",
      "  File \"/opt/spark/python/pyspark/accumulators.py\", line 235, in poll\n",
      "    if func():\n",
      "  File \"/opt/spark/python/pyspark/accumulators.py\", line 239, in accum_updates\n",
      "    num_updates = read_int(self.rfile)\n",
      "  File \"/opt/spark/python/pyspark/serializers.py\", line 564, in read_int\n",
      "    raise EOFError\n",
      "EOFError\n",
      "----------------------------------------\n"
     ]
    }
   ],
   "source": [
    "from pyspark import SparkConf, SparkContext\n",
    "# 스파크 환경 설정 객체 생성\n",
    "conf = SparkConf().setMaster(\"local\").setAppName(\"mnm-data\")\n",
    "spark = SparkContext(conf=conf).getOrCreate()"
   ]
  },
  {
   "cell_type": "code",
   "execution_count": 3,
   "id": "0d0a7431",
   "metadata": {},
   "outputs": [
    {
     "data": {
      "text/plain": [
       "file:////home/lab12/src/data/mnm_dataset.csv MapPartitionsRDD[1] at textFile at NativeMethodAccessorImpl.java:0"
      ]
     },
     "execution_count": 3,
     "metadata": {},
     "output_type": "execute_result"
    }
   ],
   "source": [
    "import os\n",
    "directory = os.path.join(os.getcwd(),\"data\")\n",
    "filename = \"mnm_dataset.csv\"\n",
    "filepath = os.path.join(directory, filename)\n",
    "lines = spark.textFile(\"file:///\"+filepath.replace(\"\\\\\",\"/\"))\n",
    "lines"
   ]
  },
  {
   "cell_type": "code",
   "execution_count": 4,
   "id": "3968fed1",
   "metadata": {},
   "outputs": [
    {
     "name": "stderr",
     "output_type": "stream",
     "text": [
      "                                                                                \r"
     ]
    },
    {
     "data": {
      "text/plain": [
       "['State,Color,Count', 'TX,Red,20', 'NV,Blue,66', 'CO,Blue,79', 'OR,Blue,71']"
      ]
     },
     "execution_count": 4,
     "metadata": {},
     "output_type": "execute_result"
    }
   ],
   "source": [
    "lines.take(5)"
   ]
  },
  {
   "cell_type": "code",
   "execution_count": 5,
   "id": "8e5b3347",
   "metadata": {},
   "outputs": [],
   "source": [
    "#데이터 변환"
   ]
  },
  {
   "cell_type": "code",
   "execution_count": 14,
   "id": "2f13a92a",
   "metadata": {},
   "outputs": [
    {
     "data": {
      "text/plain": [
       "PythonRDD[17] at RDD at PythonRDD.scala:53"
      ]
     },
     "execution_count": 14,
     "metadata": {},
     "output_type": "execute_result"
    }
   ],
   "source": [
    "data_rdd = lines.map(lambda line: line.split(\",\"))\n",
    "data_rdd"
   ]
  },
  {
   "cell_type": "code",
   "execution_count": 7,
   "id": "62080623",
   "metadata": {},
   "outputs": [],
   "source": [
    "# 튜플 변환\n",
    "structured_rdd = data_rdd.map(lambda fields: (fields[0], fields[1], int(fields[2])))"
   ]
  },
  {
   "cell_type": "code",
   "execution_count": 16,
   "id": "50c64a7d",
   "metadata": {},
   "outputs": [
    {
     "data": {
      "text/plain": [
       "[['State', 'Color', 'Count'],\n",
       " ['TX', 'Red', '20'],\n",
       " ['NV', 'Blue', '66'],\n",
       " ['CO', 'Blue', '79'],\n",
       " ['OR', 'Blue', '71'],\n",
       " ['WA', 'Yellow', '93'],\n",
       " ['WY', 'Blue', '16'],\n",
       " ['CA', 'Yellow', '53'],\n",
       " ['WA', 'Green', '60'],\n",
       " ['OR', 'Green', '71']]"
      ]
     },
     "execution_count": 16,
     "metadata": {},
     "output_type": "execute_result"
    }
   ],
   "source": [
    "sample_data = structured_rdd.take(10)\n",
    "sample_data"
   ]
  },
  {
   "cell_type": "code",
   "execution_count": 15,
   "id": "7fe70402",
   "metadata": {},
   "outputs": [
    {
     "data": {
      "text/plain": [
       "[['NV', 'Blue', '66'],\n",
       " ['CO', 'Blue', '79'],\n",
       " ['OR', 'Blue', '71'],\n",
       " ['WY', 'Blue', '16'],\n",
       " ['AZ', 'Blue', '75'],\n",
       " ['CO', 'Blue', '52'],\n",
       " ['CO', 'Blue', '95'],\n",
       " ['CO', 'Blue', '98'],\n",
       " ['CA', 'Blue', '13'],\n",
       " ['NV', 'Blue', '50']]"
      ]
     },
     "execution_count": 15,
     "metadata": {},
     "output_type": "execute_result"
    }
   ],
   "source": [
    "# 'Blue' M&M만 필터링\n",
    "blue_mnm_rdd = structured_rdd.filter(lambda row: row[1] == \"Blue\")\n",
    "\n",
    "# 결과 확인 (일부 데이터만 출력)\n",
    "blue_mnm_rdd.take(10)\n"
   ]
  },
  {
   "cell_type": "code",
   "execution_count": 13,
   "id": "6334c5f1",
   "metadata": {},
   "outputs": [
    {
     "data": {
      "text/plain": [
       "PythonRDD[16] at RDD at PythonRDD.scala:53"
      ]
     },
     "execution_count": 13,
     "metadata": {},
     "output_type": "execute_result"
    }
   ],
   "source": [
    "# 도시(State)별 Count 합계 계산\n",
    "state_totals = structured_rdd.map(lambda row: (row[0], row[2])).reduceByKey(lambda x, y: x + y)\n",
    "\n",
    "state_totals\n"
   ]
  },
  {
   "cell_type": "code",
   "execution_count": null,
   "id": "939f6e21",
   "metadata": {},
   "outputs": [],
   "source": []
  },
  {
   "cell_type": "code",
   "execution_count": null,
   "id": "5ecffb24",
   "metadata": {},
   "outputs": [],
   "source": []
  },
  {
   "cell_type": "code",
   "execution_count": null,
   "id": "1dc010dc",
   "metadata": {},
   "outputs": [],
   "source": [
    "spark.stop()"
   ]
  }
 ],
 "metadata": {
  "kernelspec": {
   "display_name": "Python (spark_start)",
   "language": "python",
   "name": "spark_start"
  },
  "language_info": {
   "codemirror_mode": {
    "name": "ipython",
    "version": 3
   },
   "file_extension": ".py",
   "mimetype": "text/x-python",
   "name": "python",
   "nbconvert_exporter": "python",
   "pygments_lexer": "ipython3",
   "version": "3.8.20"
  }
 },
 "nbformat": 4,
 "nbformat_minor": 5
}
