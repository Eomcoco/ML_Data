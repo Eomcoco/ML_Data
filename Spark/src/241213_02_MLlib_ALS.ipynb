{
 "cells": [
  {
   "cell_type": "markdown",
   "id": "08511b81",
   "metadata": {},
   "source": [
    "잠재요인기반 추천시스템 ALS 모델 만들기"
   ]
  },
  {
   "cell_type": "code",
   "execution_count": 1,
   "id": "98e9f22c",
   "metadata": {},
   "outputs": [
    {
     "name": "stderr",
     "output_type": "stream",
     "text": [
      "24/12/13 14:43:46 WARN NativeCodeLoader: Unable to load native-hadoop library for your platform... using builtin-java classes where applicable\n",
      "Using Spark's default log4j profile: org/apache/spark/log4j-defaults.properties\n",
      "Setting default log level to \"WARN\".\n",
      "To adjust logging level use sc.setLogLevel(newLevel). For SparkR, use setLogLevel(newLevel).\n"
     ]
    }
   ],
   "source": [
    "from pyspark.sql import SparkSession\n",
    "\n",
    "MAX_MEMORY = '5g'\n",
    "spark = SparkSession.builder.appName(\"241212_01_MLlib_als\")\\\n",
    "            .config(\"spark.executor.memory\", MAX_MEMORY) \\\n",
    "            .config(\"spark.driver.memory\", MAX_MEMORY) \\\n",
    "            .getOrCreate()"
   ]
  },
  {
   "cell_type": "markdown",
   "id": "8bc04557",
   "metadata": {},
   "source": [
    "Data 적재재"
   ]
  },
  {
   "cell_type": "code",
   "execution_count": 2,
   "id": "b16290e2",
   "metadata": {},
   "outputs": [
    {
     "name": "stderr",
     "output_type": "stream",
     "text": [
      "                                                                                \r"
     ]
    }
   ],
   "source": [
    "rating_df = spark.read.format(\"csv\")\\\n",
    "    .option(\"header\", 'true')\\\n",
    "    .option('inferSchema', 'true')\\\n",
    "    .load('data/ratings.csv')"
   ]
  },
  {
   "cell_type": "code",
   "execution_count": 3,
   "id": "928a6f4f",
   "metadata": {},
   "outputs": [
    {
     "name": "stdout",
     "output_type": "stream",
     "text": [
      "root\n",
      " |-- userId: integer (nullable = true)\n",
      " |-- movieId: integer (nullable = true)\n",
      " |-- rating: double (nullable = true)\n",
      " |-- timestamp: integer (nullable = true)\n",
      "\n"
     ]
    }
   ],
   "source": [
    "rating_df.printSchema()"
   ]
  },
  {
   "cell_type": "code",
   "execution_count": 4,
   "id": "d8e5181a",
   "metadata": {},
   "outputs": [
    {
     "name": "stdout",
     "output_type": "stream",
     "text": [
      "+------+-------+------+----------+\n",
      "|userId|movieId|rating| timestamp|\n",
      "+------+-------+------+----------+\n",
      "|     1|    296|   5.0|1147880044|\n",
      "|     1|    306|   3.5|1147868817|\n",
      "|     1|    307|   5.0|1147868828|\n",
      "|     1|    665|   5.0|1147878820|\n",
      "|     1|    899|   3.5|1147868510|\n",
      "|     1|   1088|   4.0|1147868495|\n",
      "|     1|   1175|   3.5|1147868826|\n",
      "|     1|   1217|   3.5|1147878326|\n",
      "|     1|   1237|   5.0|1147868839|\n",
      "|     1|   1250|   4.0|1147868414|\n",
      "|     1|   1260|   3.5|1147877857|\n",
      "|     1|   1653|   4.0|1147868097|\n",
      "|     1|   2011|   2.5|1147868079|\n",
      "|     1|   2012|   2.5|1147868068|\n",
      "|     1|   2068|   2.5|1147869044|\n",
      "|     1|   2161|   3.5|1147868609|\n",
      "|     1|   2351|   4.5|1147877957|\n",
      "|     1|   2573|   4.0|1147878923|\n",
      "|     1|   2632|   5.0|1147878248|\n",
      "|     1|   2692|   5.0|1147869100|\n",
      "+------+-------+------+----------+\n",
      "only showing top 20 rows\n",
      "\n"
     ]
    }
   ],
   "source": [
    "rating_df.show()"
   ]
  },
  {
   "cell_type": "code",
   "execution_count": 5,
   "id": "a559dbac",
   "metadata": {},
   "outputs": [],
   "source": [
    "# 전처리 - timestamp 제거"
   ]
  },
  {
   "cell_type": "code",
   "execution_count": 7,
   "id": "cee58568",
   "metadata": {},
   "outputs": [],
   "source": [
    "rating_df = rating_df.select(['userId','movieId', 'rating'])\n"
   ]
  },
  {
   "cell_type": "code",
   "execution_count": 54,
   "id": "9831deb1",
   "metadata": {},
   "outputs": [
    {
     "name": "stdout",
     "output_type": "stream",
     "text": [
      "+------+-------+------+\n",
      "|userId|movieId|rating|\n",
      "+------+-------+------+\n",
      "|     1|    296|   5.0|\n",
      "|     1|    306|   3.5|\n",
      "|     1|    307|   5.0|\n",
      "|     1|    665|   5.0|\n",
      "|     1|    899|   3.5|\n",
      "+------+-------+------+\n",
      "only showing top 5 rows\n",
      "\n"
     ]
    }
   ],
   "source": [
    "rating_df.show(5)"
   ]
  },
  {
   "cell_type": "markdown",
   "id": "6fda48cc",
   "metadata": {},
   "source": [
    "데이터 세트 분할"
   ]
  },
  {
   "cell_type": "code",
   "execution_count": 8,
   "id": "f1dd7549",
   "metadata": {},
   "outputs": [],
   "source": [
    "train_ratio = 0.8\n",
    "test_ratio = 0.2\n",
    "\n",
    "train_df, test_df = rating_df.randomSplit([train_ratio, test_ratio], seed=42)"
   ]
  },
  {
   "cell_type": "markdown",
   "id": "cc75b750",
   "metadata": {},
   "source": [
    "ALS모델 객체 생성"
   ]
  },
  {
   "cell_type": "code",
   "execution_count": 22,
   "id": "8d45ca1a",
   "metadata": {},
   "outputs": [],
   "source": [
    "from pyspark.ml.recommendation import ALS\n",
    "\n",
    "als = ALS(\n",
    "    maxIter=5,\n",
    "    regParam=0.1,\n",
    "    userCol=\"userId\",\n",
    "    itemCol=\"movieId\",\n",
    "    ratingCol=\"rating\",\n",
    "    coldStartStrategy=\"drop\"\n",
    ")"
   ]
  },
  {
   "cell_type": "markdown",
   "id": "4986fdfc",
   "metadata": {},
   "source": [
    "모델의 학습"
   ]
  },
  {
   "cell_type": "code",
   "execution_count": 23,
   "id": "d0e5cd85",
   "metadata": {},
   "outputs": [
    {
     "name": "stderr",
     "output_type": "stream",
     "text": [
      "                                                                                \r"
     ]
    }
   ],
   "source": [
    "als_model = als.fit(train_df)"
   ]
  },
  {
   "cell_type": "markdown",
   "id": "528eef71",
   "metadata": {},
   "source": [
    "예측 확인"
   ]
  },
  {
   "cell_type": "code",
   "execution_count": 55,
   "id": "3c873c26",
   "metadata": {},
   "outputs": [
    {
     "name": "stderr",
     "output_type": "stream",
     "text": [
      "[Stage 387:==================================================>  (192 + 2) / 200]\r"
     ]
    },
    {
     "name": "stdout",
     "output_type": "stream",
     "text": [
      "+------+-------+------+----------+\n",
      "|userId|movieId|rating|prediction|\n",
      "+------+-------+------+----------+\n",
      "| 26480|    148|   2.0|  2.020703|\n",
      "|151614|    148|   1.0|  2.744473|\n",
      "| 28229|    148|   1.0| 2.2856345|\n",
      "|  6491|    148|   4.0| 2.4144835|\n",
      "| 14831|    148|   3.0| 2.7400835|\n",
      "+------+-------+------+----------+\n",
      "only showing top 5 rows\n",
      "\n"
     ]
    },
    {
     "name": "stderr",
     "output_type": "stream",
     "text": [
      "\r",
      "[Stage 387:====================================================>(198 + 2) / 200]\r",
      "\r",
      "                                                                                \r"
     ]
    }
   ],
   "source": [
    "# userid, movieid > rating\n",
    "predictions = als_model.transform(test_df)\n",
    "predictions.show(5)"
   ]
  },
  {
   "cell_type": "code",
   "execution_count": 56,
   "id": "15e078ba",
   "metadata": {},
   "outputs": [
    {
     "name": "stderr",
     "output_type": "stream",
     "text": [
      "[Stage 406:====================================================>(198 + 2) / 200]\r"
     ]
    },
    {
     "name": "stdout",
     "output_type": "stream",
     "text": [
      "+-------+------------------+------------------+\n",
      "|summary|            rating|        prediction|\n",
      "+-------+------------------+------------------+\n",
      "|  count|           4998109|           4998109|\n",
      "|   mean|3.5341648211353536|3.3784115385483697|\n",
      "| stddev|1.0609230261741123|0.6329935917588668|\n",
      "|    min|               0.5|        -1.9028906|\n",
      "|    max|               5.0|         6.5752754|\n",
      "+-------+------------------+------------------+\n",
      "\n"
     ]
    },
    {
     "name": "stderr",
     "output_type": "stream",
     "text": [
      "\r",
      "                                                                                \r"
     ]
    }
   ],
   "source": [
    "predictions.select(\"rating\", \"prediction\").describe().show()"
   ]
  },
  {
   "cell_type": "markdown",
   "id": "c364aa54",
   "metadata": {},
   "source": [
    "ALS 모델의 하이퍼파라미터 조정\n",
    "coldStartStrategy = 'drop' > 예측에 충분하지 않은컬럼의 데이터의 경우 'drop' \n",
    "학습한 모델의 속성을 변경 > 다시 예측을 한 경우에도 조정이 안됨 > 학슥부터 다시 실행"
   ]
  },
  {
   "cell_type": "code",
   "execution_count": 57,
   "id": "79c50e5b",
   "metadata": {},
   "outputs": [
    {
     "data": {
      "text/plain": [
       "ALS_f346f2d0c882"
      ]
     },
     "execution_count": 57,
     "metadata": {},
     "output_type": "execute_result"
    }
   ],
   "source": [
    "als.setColdStartStrategy('drop')"
   ]
  },
  {
   "cell_type": "code",
   "execution_count": 58,
   "id": "9afdd1fc",
   "metadata": {},
   "outputs": [
    {
     "name": "stderr",
     "output_type": "stream",
     "text": [
      "[Stage 423:====================================================>(198 + 2) / 200]\r"
     ]
    },
    {
     "name": "stdout",
     "output_type": "stream",
     "text": [
      "+------+-------+------+----------+\n",
      "|userId|movieId|rating|prediction|\n",
      "+------+-------+------+----------+\n",
      "| 26480|    148|   2.0|  2.020703|\n",
      "|151614|    148|   1.0|  2.744473|\n",
      "| 28229|    148|   1.0| 2.2856345|\n",
      "|  6491|    148|   4.0| 2.4144835|\n",
      "| 14831|    148|   3.0| 2.7400835|\n",
      "+------+-------+------+----------+\n",
      "only showing top 5 rows\n",
      "\n"
     ]
    },
    {
     "name": "stderr",
     "output_type": "stream",
     "text": [
      "\r",
      "                                                                                \r"
     ]
    }
   ],
   "source": [
    "# userid, movieid > rating\n",
    "predictions = als_model.transform(test_df)\n",
    "predictions.show(5)"
   ]
  },
  {
   "cell_type": "code",
   "execution_count": 59,
   "id": "c37e35b9",
   "metadata": {},
   "outputs": [
    {
     "name": "stderr",
     "output_type": "stream",
     "text": [
      "[Stage 443:==================================================>  (190 + 2) / 200]\r"
     ]
    },
    {
     "name": "stdout",
     "output_type": "stream",
     "text": [
      "+-------+------------------+------------------+\n",
      "|summary|            rating|        prediction|\n",
      "+-------+------------------+------------------+\n",
      "|  count|           4998109|           4998109|\n",
      "|   mean|3.5341648211353536|3.3784115385483697|\n",
      "| stddev|1.0609230261741123|0.6329935917588668|\n",
      "|    min|               0.5|        -1.9028906|\n",
      "|    max|               5.0|         6.5752754|\n",
      "+-------+------------------+------------------+\n",
      "\n"
     ]
    },
    {
     "name": "stderr",
     "output_type": "stream",
     "text": [
      "\r",
      "[Stage 443:===================================================> (196 + 2) / 200]\r",
      "\r",
      "                                                                                \r"
     ]
    }
   ],
   "source": [
    "predictions.select(\"rating\", \"prediction\").describe().show()"
   ]
  },
  {
   "cell_type": "markdown",
   "id": "ff72337c",
   "metadata": {},
   "source": [
    "평가 RMSE 측정"
   ]
  },
  {
   "cell_type": "code",
   "execution_count": 31,
   "id": "6fd31e80",
   "metadata": {},
   "outputs": [],
   "source": [
    "from pyspark.ml.evaluation import RegressionEvaluator\n",
    "\n",
    "evaluator = RegressionEvaluator(metricName='rmse', labelCol='rating', predictionCol='prediction')"
   ]
  },
  {
   "cell_type": "code",
   "execution_count": 32,
   "id": "b3da7faf",
   "metadata": {},
   "outputs": [
    {
     "name": "stderr",
     "output_type": "stream",
     "text": [
      "                                                                                \r"
     ]
    },
    {
     "data": {
      "text/plain": [
       "0.8199798867876938"
      ]
     },
     "execution_count": 32,
     "metadata": {},
     "output_type": "execute_result"
    }
   ],
   "source": [
    "rmse = evaluator.evaluate(predictions)\n",
    "rmse"
   ]
  },
  {
   "cell_type": "code",
   "execution_count": null,
   "id": "eb675adf",
   "metadata": {},
   "outputs": [],
   "source": [
    "# 활용\n",
    "\n",
    "1. 사용자id > 추천목록\n",
    "2. 영화id > 사용자목록"
   ]
  },
  {
   "cell_type": "code",
   "execution_count": null,
   "id": "e4a8b273",
   "metadata": {},
   "outputs": [],
   "source": [
    "als_model.getRecommentForAllUsers(3)  #user별로 추천할 영화 3개를 골라준다."
   ]
  },
  {
   "cell_type": "code",
   "execution_count": null,
   "id": "25478275",
   "metadata": {},
   "outputs": [],
   "source": [
    "als_model.recommandForAllItems(3) #item별로 추천할 유저 3명을 골라준다"
   ]
  },
  {
   "cell_type": "code",
   "execution_count": 60,
   "id": "8c639d78",
   "metadata": {},
   "outputs": [],
   "source": [
    "from pyspark.sql.types import IntegerType"
   ]
  },
  {
   "cell_type": "code",
   "execution_count": 61,
   "id": "1cfd341b",
   "metadata": {},
   "outputs": [
    {
     "name": "stdout",
     "output_type": "stream",
     "text": [
      "+------+\n",
      "|userId|\n",
      "+------+\n",
      "|    65|\n",
      "|    78|\n",
      "|    81|\n",
      "+------+\n",
      "\n"
     ]
    }
   ],
   "source": [
    "user_list = [65, 78, 81]\n",
    "user_df = spark.createDataFrame(user_list, IntegerType()).toDF(\"userId\")\n",
    "user_df.show()"
   ]
  },
  {
   "cell_type": "code",
   "execution_count": 62,
   "id": "230696bb",
   "metadata": {},
   "outputs": [
    {
     "name": "stderr",
     "output_type": "stream",
     "text": [
      "                                                                                \r"
     ]
    },
    {
     "name": "stdout",
     "output_type": "stream",
     "text": [
      "+------+--------------------+\n",
      "|userId|     recommendations|\n",
      "+------+--------------------+\n",
      "|    65|[{205277, 7.68428...|\n",
      "|    78|[{177209, 6.95740...|\n",
      "|    81|[{179707, 5.03770...|\n",
      "+------+--------------------+\n",
      "\n"
     ]
    }
   ],
   "source": [
    "user_recommend_movies = als_model.recommendForUserSubset(user_df,3)\n",
    "user_recommend_movies.show()"
   ]
  },
  {
   "cell_type": "code",
   "execution_count": 36,
   "id": "6d92c555",
   "metadata": {},
   "outputs": [],
   "source": [
    "# movie- list Load"
   ]
  },
  {
   "cell_type": "code",
   "execution_count": 40,
   "id": "6d76d0d7",
   "metadata": {},
   "outputs": [],
   "source": [
    "movie_file = 'data/movies.csv'\n",
    "movies_df = spark.read.csv(movie_file, inferSchema=True, header=True)"
   ]
  },
  {
   "cell_type": "code",
   "execution_count": 41,
   "id": "34d345fa",
   "metadata": {},
   "outputs": [
    {
     "name": "stdout",
     "output_type": "stream",
     "text": [
      "+-------+--------------------+--------------------+\n",
      "|movieId|               title|              genres|\n",
      "+-------+--------------------+--------------------+\n",
      "|      1|    Toy Story (1995)|Adventure|Animati...|\n",
      "|      2|      Jumanji (1995)|Adventure|Childre...|\n",
      "|      3|Grumpier Old Men ...|      Comedy|Romance|\n",
      "+-------+--------------------+--------------------+\n",
      "only showing top 3 rows\n",
      "\n"
     ]
    }
   ],
   "source": [
    "movies_df.show(3)"
   ]
  },
  {
   "cell_type": "code",
   "execution_count": 42,
   "id": "0a7670e3",
   "metadata": {},
   "outputs": [
    {
     "name": "stderr",
     "output_type": "stream",
     "text": [
      "                                                                                \r"
     ]
    },
    {
     "data": {
      "text/plain": [
       "[Row(movieId=205277, rating=7.6842803955078125),\n",
       " Row(movieId=194434, rating=7.081778049468994),\n",
       " Row(movieId=203086, rating=6.9282331466674805)]"
      ]
     },
     "execution_count": 42,
     "metadata": {},
     "output_type": "execute_result"
    }
   ],
   "source": [
    "#65번 사용자의 추천영화목록\n",
    "\n",
    "movies_list = user_recommend_movies.collect()[0].recommendations\n",
    "movies_list"
   ]
  },
  {
   "cell_type": "code",
   "execution_count": 63,
   "id": "a71e2706",
   "metadata": {},
   "outputs": [
    {
     "name": "stdout",
     "output_type": "stream",
     "text": [
      "+-------+------------------+\n",
      "|movieId|            rating|\n",
      "+-------+------------------+\n",
      "| 205277|7.6842803955078125|\n",
      "| 194434| 7.081778049468994|\n",
      "| 203086|6.9282331466674805|\n",
      "+-------+------------------+\n",
      "\n"
     ]
    }
   ],
   "source": [
    "rec_df = spark.createDataFrame(movies_list)\n",
    "rec_df.show()"
   ]
  },
  {
   "cell_type": "code",
   "execution_count": 44,
   "id": "f0ae44b5",
   "metadata": {},
   "outputs": [],
   "source": [
    "#영화 정보와 추천 영화 목록을 조인"
   ]
  },
  {
   "cell_type": "code",
   "execution_count": 64,
   "id": "6094e13a",
   "metadata": {},
   "outputs": [],
   "source": [
    "rec_df.createOrReplaceTempView('recommend')\n",
    "movies_df.createOrReplaceTempView('movies')"
   ]
  },
  {
   "cell_type": "code",
   "execution_count": 65,
   "id": "cd7ec75b",
   "metadata": {},
   "outputs": [],
   "source": [
    "query = '''\n",
    "select *\n",
    "from movies join recommend on movies.movieId = recommend.movieId\n",
    "order by rating desc\n",
    "'''"
   ]
  },
  {
   "cell_type": "code",
   "execution_count": 66,
   "id": "6a8325f5",
   "metadata": {},
   "outputs": [],
   "source": [
    "recommend_movies = spark.sql(query)"
   ]
  },
  {
   "cell_type": "code",
   "execution_count": 67,
   "id": "6a526dad",
   "metadata": {},
   "outputs": [
    {
     "name": "stdout",
     "output_type": "stream",
     "text": [
      "+-------+--------------------+--------------------+-------+------------------+\n",
      "|movieId|               title|              genres|movieId|            rating|\n",
      "+-------+--------------------+--------------------+-------+------------------+\n",
      "| 205277|   Inside Out (1991)|Comedy|Drama|Romance| 205277|7.6842803955078125|\n",
      "| 194434|   Adrenaline (1990)|  (no genres listed)| 194434| 7.081778049468994|\n",
      "| 203086|Truth and Justice...|               Drama| 203086|6.9282331466674805|\n",
      "+-------+--------------------+--------------------+-------+------------------+\n",
      "\n"
     ]
    }
   ],
   "source": [
    "recommend_movies.show()"
   ]
  },
  {
   "cell_type": "code",
   "execution_count": null,
   "id": "98066b78",
   "metadata": {},
   "outputs": [],
   "source": [
    "#ALS 추천모델 > 튜닝"
   ]
  },
  {
   "cell_type": "code",
   "execution_count": null,
   "id": "3a17566c",
   "metadata": {},
   "outputs": [],
   "source": []
  },
  {
   "cell_type": "code",
   "execution_count": null,
   "id": "29f4323b",
   "metadata": {},
   "outputs": [],
   "source": []
  },
  {
   "cell_type": "code",
   "execution_count": null,
   "id": "60ae6615",
   "metadata": {},
   "outputs": [],
   "source": []
  },
  {
   "cell_type": "code",
   "execution_count": 68,
   "id": "3f7fc356",
   "metadata": {},
   "outputs": [],
   "source": [
    "spark.stop()"
   ]
  },
  {
   "cell_type": "code",
   "execution_count": null,
   "id": "c7ccddc2",
   "metadata": {},
   "outputs": [],
   "source": []
  }
 ],
 "metadata": {
  "kernelspec": {
   "display_name": "Python (spark_start)",
   "language": "python",
   "name": "spark_start"
  },
  "language_info": {
   "codemirror_mode": {
    "name": "ipython",
    "version": 3
   },
   "file_extension": ".py",
   "mimetype": "text/x-python",
   "name": "python",
   "nbconvert_exporter": "python",
   "pygments_lexer": "ipython3",
   "version": "3.8.20"
  }
 },
 "nbformat": 4,
 "nbformat_minor": 5
}
