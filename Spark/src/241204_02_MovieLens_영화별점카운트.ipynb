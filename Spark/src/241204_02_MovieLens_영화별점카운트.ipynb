{
 "cells": [
  {
   "cell_type": "code",
   "execution_count": 1,
   "id": "e07d9e49",
   "metadata": {},
   "outputs": [
    {
     "name": "stderr",
     "output_type": "stream",
     "text": [
      "24/12/04 14:42:16 WARN NativeCodeLoader: Unable to load native-hadoop library for your platform... using builtin-java classes where applicable\n",
      "Using Spark's default log4j profile: org/apache/spark/log4j-defaults.properties\n",
      "Setting default log level to \"WARN\".\n",
      "To adjust logging level use sc.setLogLevel(newLevel). For SparkR, use setLogLevel(newLevel).\n"
     ]
    }
   ],
   "source": [
    "from pyspark import SparkConf, SparkContext\n",
    "# 스파크 환경 설정 객체 생성\n",
    "conf = SparkConf().setMaster(\"local\").setAppName(\"241204_02_MovieLens\")\n",
    "spark = SparkContext(conf=conf).getOrCreate()"
   ]
  },
  {
   "cell_type": "code",
   "execution_count": 2,
   "id": "f7c8ad56",
   "metadata": {},
   "outputs": [
    {
     "data": {
      "text/plain": [
       "file:////home/lab12/src/data/u.data MapPartitionsRDD[1] at textFile at NativeMethodAccessorImpl.java:0"
      ]
     },
     "execution_count": 2,
     "metadata": {},
     "output_type": "execute_result"
    }
   ],
   "source": [
    "import os\n",
    "directory = os.path.join(os.getcwd(),\"data\")\n",
    "filename = \"u.data\"\n",
    "filepath = os.path.join(directory, filename)\n",
    "lines = spark.textFile(\"file:///\"+filepath.replace(\"\\\\\",\"/\"))\n",
    "lines"
   ]
  },
  {
   "cell_type": "code",
   "execution_count": 3,
   "id": "58e1c2d1",
   "metadata": {},
   "outputs": [
    {
     "name": "stderr",
     "output_type": "stream",
     "text": [
      "                                                                                \r"
     ]
    },
    {
     "data": {
      "text/plain": [
       "['196\\t242\\t3\\t881250949',\n",
       " '186\\t302\\t3\\t891717742',\n",
       " '22\\t377\\t1\\t878887116',\n",
       " '244\\t51\\t2\\t880606923',\n",
       " '166\\t346\\t1\\t886397596',\n",
       " '298\\t474\\t4\\t884182806',\n",
       " '115\\t265\\t2\\t881171488',\n",
       " '253\\t465\\t5\\t891628467',\n",
       " '305\\t451\\t3\\t886324817',\n",
       " '6\\t86\\t3\\t883603013']"
      ]
     },
     "execution_count": 3,
     "metadata": {},
     "output_type": "execute_result"
    }
   ],
   "source": [
    "lines.take(10)"
   ]
  },
  {
   "cell_type": "code",
   "execution_count": 4,
   "id": "c8cc1879",
   "metadata": {},
   "outputs": [
    {
     "name": "stdout",
     "output_type": "stream",
     "text": [
      "['3', '3', '1', '2', '1', '4', '2', '5', '3', '3']\n"
     ]
    }
   ],
   "source": [
    "# 각 줄을 탭(\\t)으로 분리\n",
    "split_lines = lines.map(lambda line: line.split(\"\\t\"))\n",
    "\n",
    "# 별점만 추출\n",
    "ratings = split_lines.map(lambda fields: fields[2])  # 세 번째 필드\n",
    "\n",
    "# 추출된 별점 확인\n",
    "print(ratings.take(10))\n"
   ]
  },
  {
   "cell_type": "code",
   "execution_count": 5,
   "id": "31773429",
   "metadata": {},
   "outputs": [
    {
     "name": "stderr",
     "output_type": "stream",
     "text": [
      "\r",
      "[Stage 2:>                                                          (0 + 1) / 1]\r"
     ]
    },
    {
     "name": "stdout",
     "output_type": "stream",
     "text": [
      "[('3', 27145), ('1', 6110), ('2', 11370), ('4', 34174), ('5', 21201)]\n"
     ]
    },
    {
     "name": "stderr",
     "output_type": "stream",
     "text": [
      "\r",
      "                                                                                \r"
     ]
    }
   ],
   "source": [
    "# 각 별점에 1을 할당하고, 키(별점)별로 합산\n",
    "rating_counts = ratings.map(lambda rating: (rating, 1)).reduceByKey(lambda a, b: a + b)\n",
    "\n",
    "# 별점별 카운트 확인\n",
    "print(rating_counts.collect())\n"
   ]
  },
  {
   "cell_type": "code",
   "execution_count": 6,
   "id": "f222d4fc",
   "metadata": {},
   "outputs": [
    {
     "name": "stdout",
     "output_type": "stream",
     "text": [
      "[('1', 6110), ('2', 11370), ('3', 27145), ('4', 34174), ('5', 21201)]\n"
     ]
    }
   ],
   "source": [
    "# 별점 기준으로 정렬\n",
    "sorted_counts = rating_counts.sortByKey()\n",
    "\n",
    "# 정렬된 결과 확인\n",
    "print(sorted_counts.collect())\n"
   ]
  },
  {
   "cell_type": "code",
   "execution_count": null,
   "id": "a1175bb2",
   "metadata": {},
   "outputs": [],
   "source": [
    "#가장 많이 평가된 영화 찾기"
   ]
  },
  {
   "cell_type": "code",
   "execution_count": 8,
   "id": "cdaad5a7",
   "metadata": {},
   "outputs": [
    {
     "name": "stdout",
     "output_type": "stream",
     "text": [
      "[('50', 583), ('258', 509), ('100', 508), ('181', 507), ('294', 485), ('286', 481), ('288', 478), ('1', 452), ('300', 431), ('121', 429)]\n"
     ]
    }
   ],
   "source": [
    "# 영화 ID만 추출\n",
    "movie_ids = split_lines.map(lambda fields: fields[1])\n",
    "\n",
    "# 영화별 평가 횟수 카운트\n",
    "movie_counts = movie_ids.map(lambda movie_id: (movie_id, 1)).reduceByKey(lambda a, b: a + b)\n",
    "\n",
    "# 평가 횟수가 많은 영화 상위 10개\n",
    "top_movies = movie_counts.takeOrdered(10, key=lambda x: -x[1])\n",
    "print(top_movies)\n"
   ]
  },
  {
   "cell_type": "code",
   "execution_count": 9,
   "id": "2d0ced62",
   "metadata": {},
   "outputs": [
    {
     "name": "stdout",
     "output_type": "stream",
     "text": [
      "[('1306', 5.0), ('1189', 5.0), ('1500', 5.0), ('814', 5.0), ('1175', 5.0), ('1536', 5.0), ('1357', 5.0), ('1293', 5.0), ('1617', 5.0), ('247', 5.0)]\n"
     ]
    }
   ],
   "source": [
    "# 1. 영화 ID와 별점 추출\n",
    "movie_ratings = split_lines.map(lambda fields: (fields[1], float(fields[2])))\n",
    "\n",
    "# 2. 3점 이상인 데이터만 필터링\n",
    "filtered_ratings = movie_ratings.filter(lambda x: x[1] >= 3)\n",
    "\n",
    "# 3. 영화별 총합과 평가 개수 계산\n",
    "rating_totals_and_counts = filtered_ratings.mapValues(lambda rating: (rating, 1)) \\\n",
    "                                           .reduceByKey(lambda a, b: (a[0] + b[0], a[1] + b[1]))\n",
    "\n",
    "# 4. 평균 평점 계산\n",
    "average_ratings = rating_totals_and_counts.mapValues(lambda x: x[0] / x[1])\n",
    "\n",
    "# 5. 결과 확인 (평균 평점 상위 10개 영화)\n",
    "top_rated_movies = average_ratings.takeOrdered(10, key=lambda x: -x[1])\n",
    "print(top_rated_movies)\n"
   ]
  },
  {
   "cell_type": "code",
   "execution_count": 10,
   "id": "e802c991",
   "metadata": {},
   "outputs": [],
   "source": [
    "spark.stop()"
   ]
  },
  {
   "cell_type": "code",
   "execution_count": null,
   "id": "2d0f46fe",
   "metadata": {},
   "outputs": [],
   "source": []
  }
 ],
 "metadata": {
  "kernelspec": {
   "display_name": "Python (spark_start)",
   "language": "python",
   "name": "spark_start"
  },
  "language_info": {
   "codemirror_mode": {
    "name": "ipython",
    "version": 3
   },
   "file_extension": ".py",
   "mimetype": "text/x-python",
   "name": "python",
   "nbconvert_exporter": "python",
   "pygments_lexer": "ipython3",
   "version": "3.8.20"
  }
 },
 "nbformat": 4,
 "nbformat_minor": 5
}
