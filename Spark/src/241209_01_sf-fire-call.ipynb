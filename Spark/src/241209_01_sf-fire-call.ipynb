{
 "cells": [
  {
   "cell_type": "code",
   "execution_count": 28,
   "id": "618d5883",
   "metadata": {},
   "outputs": [],
   "source": [
    "from pyspark.sql import SparkSession\n",
    "\n",
    "\n",
    "spark = SparkSession.builder.appName(\"24120901_sf_fire_calls_App\").getOrCreate()\n"
   ]
  },
  {
   "cell_type": "code",
   "execution_count": 29,
   "id": "0000306f",
   "metadata": {},
   "outputs": [],
   "source": [
    "df = spark.read.format('csv').load('data/sf-fire-calls.csv', inferSchema=True, header=True)"
   ]
  },
  {
   "cell_type": "code",
   "execution_count": 30,
   "id": "b5ed87c9",
   "metadata": {},
   "outputs": [
    {
     "data": {
      "text/plain": [
       "StructType(List(StructField(CallNumber,IntegerType,true),StructField(UnitID,StringType,true),StructField(IncidentNumber,IntegerType,true),StructField(CallType,StringType,true),StructField(CallDate,StringType,true),StructField(WatchDate,StringType,true),StructField(CallFinalDisposition,StringType,true),StructField(AvailableDtTm,StringType,true),StructField(Address,StringType,true),StructField(City,StringType,true),StructField(Zipcode,IntegerType,true),StructField(Battalion,StringType,true),StructField(StationArea,StringType,true),StructField(Box,StringType,true),StructField(OriginalPriority,StringType,true),StructField(Priority,StringType,true),StructField(FinalPriority,IntegerType,true),StructField(ALSUnit,BooleanType,true),StructField(CallTypeGroup,StringType,true),StructField(NumAlarms,IntegerType,true),StructField(UnitType,StringType,true),StructField(UnitSequenceInCallDispatch,IntegerType,true),StructField(FirePreventionDistrict,StringType,true),StructField(SupervisorDistrict,StringType,true),StructField(Neighborhood,StringType,true),StructField(Location,StringType,true),StructField(RowID,StringType,true),StructField(Delay,DoubleType,true)))"
      ]
     },
     "execution_count": 30,
     "metadata": {},
     "output_type": "execute_result"
    }
   ],
   "source": [
    "df.schema"
   ]
  },
  {
   "cell_type": "code",
   "execution_count": 31,
   "id": "423f9082",
   "metadata": {},
   "outputs": [],
   "source": [
    "#호출 유형별 빈도수 계산"
   ]
  },
  {
   "cell_type": "code",
   "execution_count": 32,
   "id": "3cc29aeb",
   "metadata": {},
   "outputs": [
    {
     "name": "stdout",
     "output_type": "stream",
     "text": [
      "+--------------------+------+\n",
      "|            CallType| count|\n",
      "+--------------------+------+\n",
      "|    Medical Incident|113794|\n",
      "|      Structure Fire| 23319|\n",
      "|              Alarms| 19406|\n",
      "|   Traffic Collision|  7013|\n",
      "|Citizen Assist / ...|  2524|\n",
      "|               Other|  2166|\n",
      "|        Outside Fire|  2094|\n",
      "|        Vehicle Fire|   854|\n",
      "|Gas Leak (Natural...|   764|\n",
      "|        Water Rescue|   755|\n",
      "|Odor (Strange / U...|   490|\n",
      "|   Electrical Hazard|   482|\n",
      "|Elevator / Escala...|   453|\n",
      "|Smoke Investigati...|   391|\n",
      "|          Fuel Spill|   193|\n",
      "|              HazMat|   124|\n",
      "|Industrial Accidents|    94|\n",
      "|           Explosion|    89|\n",
      "|Train / Rail Inci...|    57|\n",
      "|  Aircraft Emergency|    36|\n",
      "+--------------------+------+\n",
      "only showing top 20 rows\n",
      "\n"
     ]
    },
    {
     "name": "stderr",
     "output_type": "stream",
     "text": [
      "\r",
      "[Stage 39:=========================================>            (152 + 3) / 200]\r",
      "\r",
      "                                                                                \r"
     ]
    }
   ],
   "source": [
    "from pyspark.sql.functions import count\n",
    "\n",
    "call_type_counts = df.groupBy(\"CallType\").agg(count(\"*\").alias(\"count\"))\n",
    "call_type_counts.orderBy(\"count\", ascending=False).show()\n"
   ]
  },
  {
   "cell_type": "code",
   "execution_count": 33,
   "id": "d6dcc7e1",
   "metadata": {},
   "outputs": [
    {
     "name": "stdout",
     "output_type": "stream",
     "text": [
      "+--------------------+------+\n",
      "|            CallType| count|\n",
      "+--------------------+------+\n",
      "|    Medical Incident|113794|\n",
      "|      Structure Fire| 23319|\n",
      "|              Alarms| 19406|\n",
      "|   Traffic Collision|  7013|\n",
      "|Citizen Assist / ...|  2524|\n",
      "|               Other|  2166|\n",
      "|        Outside Fire|  2094|\n",
      "|        Vehicle Fire|   854|\n",
      "|Gas Leak (Natural...|   764|\n",
      "|        Water Rescue|   755|\n",
      "+--------------------+------+\n",
      "only showing top 10 rows\n",
      "\n"
     ]
    },
    {
     "name": "stderr",
     "output_type": "stream",
     "text": [
      "\r",
      "[Stage 41:====================================================> (194 + 2) / 200]\r",
      "\r",
      "                                                                                \r"
     ]
    }
   ],
   "source": [
    "from pyspark.sql.functions import count\n",
    "\n",
    "# 가장 흔한 형태의 신고(CallType)를 계산\n",
    "most_common_call = df.groupBy(\"CallType\").agg(count(\"*\").alias(\"count\")) \\\n",
    "                     .orderBy(\"count\", ascending=False)\n",
    "\n",
    "\n",
    "most_common_call.show(10)  \n"
   ]
  },
  {
   "cell_type": "code",
   "execution_count": 15,
   "id": "5426f782",
   "metadata": {},
   "outputs": [
    {
     "name": "stderr",
     "output_type": "stream",
     "text": [
      "                                                                                \r"
     ]
    },
    {
     "name": "stdout",
     "output_type": "stream",
     "text": [
      "+-------------------------------+\n",
      "|CallType                       |\n",
      "+-------------------------------+\n",
      "|Elevator / Escalator Rescue    |\n",
      "|Alarms                         |\n",
      "|Odor (Strange / Unknown)       |\n",
      "|Citizen Assist / Service Call  |\n",
      "|HazMat                         |\n",
      "|Explosion                      |\n",
      "|Vehicle Fire                   |\n",
      "|Suspicious Package             |\n",
      "|Other                          |\n",
      "|Outside Fire                   |\n",
      "|Traffic Collision              |\n",
      "|Assist Police                  |\n",
      "|Gas Leak (Natural and LP Gases)|\n",
      "|Water Rescue                   |\n",
      "|Electrical Hazard              |\n",
      "|Structure Fire                 |\n",
      "|Medical Incident               |\n",
      "|Fuel Spill                     |\n",
      "|Smoke Investigation (Outside)  |\n",
      "|Train / Rail Incident          |\n",
      "+-------------------------------+\n",
      "\n"
     ]
    }
   ],
   "source": [
    "#2018년에 왔던 신고 전화들의 모든 유형은 어떤 것이 있었는가?\n",
    "\n",
    "from pyspark.sql.functions import year\n",
    "from pyspark.sql.functions import to_date\n",
    "\n",
    "# CallDate를 날짜 형식으로 변환\n",
    "df = df.withColumn(\"CallDate\", to_date(\"CallDate\", \"MM/dd/yyyy\"))\n",
    "\n",
    "# 2018년에 발생한 모든 신고 유형(CallType)을 추출\n",
    "calls_2018 = df.filter(year(df[\"CallDate\"]) == 2018).select(\"CallType\").distinct()\n",
    "\n",
    "# 결과 확인\n",
    "calls_2018.show(truncate=False)  # 신고 유형 출력\n",
    "\n"
   ]
  },
  {
   "cell_type": "code",
   "execution_count": 34,
   "id": "620cd017",
   "metadata": {},
   "outputs": [
    {
     "name": "stderr",
     "output_type": "stream",
     "text": [
      "\r",
      "[Stage 42:>                                                         (0 + 2) / 2]\r"
     ]
    },
    {
     "name": "stdout",
     "output_type": "stream",
     "text": [
      "+-----+----------+\n",
      "|Month|TotalCalls|\n",
      "+-----+----------+\n",
      "|   10|      1068|\n",
      "|    5|      1047|\n",
      "|    3|      1029|\n",
      "|    8|      1021|\n",
      "|    1|      1007|\n",
      "+-----+----------+\n",
      "only showing top 5 rows\n",
      "\n"
     ]
    },
    {
     "name": "stderr",
     "output_type": "stream",
     "text": [
      "\r",
      "                                                                                \r"
     ]
    }
   ],
   "source": [
    "#2018년도에 신고 전화가 가장 많았던 달은 언제인가?\n",
    "from pyspark.sql.functions import month, count\n",
    "\n",
    "# CallDate를 날짜 형식으로 변환 (이미 변환되었는지 확인 필요)\n",
    "df = df.withColumn(\"CallDate\", to_date(\"CallDate\", \"MM/dd/yyyy\"))\n",
    "\n",
    "# 2018년 데이터 필터링\n",
    "calls_2018 = df.filter(year(df[\"CallDate\"]) == 2018)\n",
    "\n",
    "# 월별 신고 전화 수 계산\n",
    "calls_by_month = calls_2018.groupBy(month(\"CallDate\").alias(\"Month\")) \\\n",
    "    .agg(count(\"*\").alias(\"TotalCalls\")) \\\n",
    "    .orderBy(\"TotalCalls\", ascending=False)\n",
    "\n",
    "# 결과 확인\n",
    "calls_by_month.show(5)  # 가장 많은 신고 전화가 있었던 달 5개 출력\n",
    "\n",
    "\n"
   ]
  },
  {
   "cell_type": "code",
   "execution_count": 35,
   "id": "2afb348a",
   "metadata": {},
   "outputs": [
    {
     "name": "stderr",
     "output_type": "stream",
     "text": [
      "\r",
      "[Stage 44:>                                                         (0 + 2) / 2]\r",
      "\r",
      "[Stage 44:=============================>                            (1 + 1) / 2]\r"
     ]
    },
    {
     "name": "stdout",
     "output_type": "stream",
     "text": [
      "+--------------------+----------+\n",
      "|        Neighborhood|TotalCalls|\n",
      "+--------------------+----------+\n",
      "|          Tenderloin|      1393|\n",
      "|     South of Market|      1053|\n",
      "|             Mission|       913|\n",
      "|Financial Distric...|       772|\n",
      "|Bayview Hunters P...|       522|\n",
      "|    Western Addition|       352|\n",
      "|     Sunset/Parkside|       346|\n",
      "|            Nob Hill|       295|\n",
      "|        Hayes Valley|       291|\n",
      "|      Outer Richmond|       262|\n",
      "+--------------------+----------+\n",
      "only showing top 10 rows\n",
      "\n"
     ]
    },
    {
     "name": "stderr",
     "output_type": "stream",
     "text": [
      "\r",
      "[Stage 45:==================================================>   (187 + 2) / 200]\r",
      "\r",
      "                                                                                \r"
     ]
    }
   ],
   "source": [
    "#2018년도에 가장 많은 신고가 들어온 샌프란시스코 지역은 어디인가?\n",
    "\n",
    "from pyspark.sql.functions import count\n",
    "\n",
    "# 2018년 데이터 필터링\n",
    "calls_2018 = df.filter(year(df[\"CallDate\"]) == 2018)\n",
    "\n",
    "# 지역(Neighborhood)별 신고 건수 계산\n",
    "calls_by_neighborhood = calls_2018.groupBy(\"Neighborhood\") \\\n",
    "    .agg(count(\"*\").alias(\"TotalCalls\")) \\\n",
    "    .orderBy(\"TotalCalls\", ascending=False)\n",
    "\n",
    "# 가장 많은 신고가 들어온 지역 10개 출력\n",
    "calls_by_neighborhood.show(10)\n",
    "\n",
    "\n"
   ]
  },
  {
   "cell_type": "code",
   "execution_count": 18,
   "id": "0ff41c19",
   "metadata": {},
   "outputs": [
    {
     "name": "stderr",
     "output_type": "stream",
     "text": [
      "\r",
      "[Stage 26:>                                                         (0 + 2) / 2]\r"
     ]
    },
    {
     "name": "stdout",
     "output_type": "stream",
     "text": [
      "+--------------------+------------------+\n",
      "|        Neighborhood|  AvgResponseDelay|\n",
      "+--------------------+------------------+\n",
      "|           Chinatown|6.1903140979057625|\n",
      "|            Presidio| 5.829227041449275|\n",
      "|     Treasure Island| 5.453703712499999|\n",
      "|        McLaren Park| 4.744047642857142|\n",
      "|Bayview Hunters P...|4.6205619568773955|\n",
      "|    Presidio Heights| 4.594131472394366|\n",
      "|        Inner Sunset| 4.438095199935065|\n",
      "|      Inner Richmond| 4.364728682713178|\n",
      "|Financial Distric...| 4.344084618290155|\n",
      "|      Haight Ashbury| 4.266428599285713|\n",
      "+--------------------+------------------+\n",
      "only showing top 10 rows\n",
      "\n"
     ]
    },
    {
     "name": "stderr",
     "output_type": "stream",
     "text": [
      "\r",
      "[Stage 27:==========================================>           (158 + 3) / 200]\r",
      "\r",
      "                                                                                \r"
     ]
    }
   ],
   "source": [
    "#2018년도 가장 응답시간이 늦었던 지역은 어디일까?\n",
    "from pyspark.sql.functions import avg\n",
    "\n",
    "# 2018년 데이터 필터링\n",
    "calls_2018 = df.filter(year(df[\"CallDate\"]) == 2018)\n",
    "\n",
    "# 지역(Neighborhood)별 평균 응답 시간 계산\n",
    "slowest_response = calls_2018.groupBy(\"Neighborhood\") \\\n",
    "    .agg(avg(\"Delay\").alias(\"AvgResponseDelay\")) \\\n",
    "    .orderBy(\"AvgResponseDelay\", ascending=False)\n",
    "\n",
    "# 가장 응답 시간이 늦었던 지역 출력\n",
    "slowest_response.show(10)\n",
    "\n"
   ]
  },
  {
   "cell_type": "code",
   "execution_count": 36,
   "id": "df282876",
   "metadata": {},
   "outputs": [
    {
     "name": "stdout",
     "output_type": "stream",
     "text": [
      "+-------------+----------+\n",
      "|         City|TotalCalls|\n",
      "+-------------+----------+\n",
      "|San Francisco|      9967|\n",
      "|     Presidio|        63|\n",
      "|Treasure Isla|        58|\n",
      "|         null|        19|\n",
      "|  Yerba Buena|        10|\n",
      "|Hunters Point|         9|\n",
      "|   Fort Mason|         8|\n",
      "|     Brisbane|         1|\n",
      "|    Daly City|         1|\n",
      "+-------------+----------+\n",
      "\n"
     ]
    },
    {
     "name": "stderr",
     "output_type": "stream",
     "text": [
      "\r",
      "[Stage 47:============================================>         (165 + 2) / 200]\r",
      "\r",
      "                                                                                \r"
     ]
    }
   ],
   "source": [
    "#2018년에 어떤 주에서 가장 신고가 많았는가??\n",
    "from pyspark.sql.functions import count\n",
    "\n",
    "# 2018년 데이터 필터링\n",
    "calls_2018 = df.filter(year(df[\"CallDate\"]) == 2018)\n",
    "\n",
    "# 주(City)별 신고 건수 계산\n",
    "calls_by_state = calls_2018.groupBy(\"City\") \\\n",
    "    .agg(count(\"*\").alias(\"TotalCalls\")) \\\n",
    "    .orderBy(\"TotalCalls\", ascending=False)\n",
    "\n",
    "# 신고가 가장 많았던 주(City) 출력\n",
    "calls_by_state.show(10)\n",
    "\n",
    "\n"
   ]
  },
  {
   "cell_type": "code",
   "execution_count": 37,
   "id": "57200363",
   "metadata": {},
   "outputs": [
    {
     "name": "stdout",
     "output_type": "stream",
     "text": [
      "+--------------------+\n",
      "|         Correlation|\n",
      "+--------------------+\n",
      "|0.013593185456683806|\n",
      "+--------------------+\n",
      "\n"
     ]
    }
   ],
   "source": [
    "#지역, 우편번호, 신고 숫자 간에 상관관계가 있는가?\n",
    "\n",
    "from pyspark.sql.functions import corr\n",
    "\n",
    "# Zipcode와 Delay 간의 상관관계 계산\n",
    "zipcode_correlation = df.select(corr(\"Zipcode\", \"Delay\").alias(\"Correlation\"))\n",
    "\n",
    "# 결과 출력\n",
    "zipcode_correlation.show()\n"
   ]
  },
  {
   "cell_type": "markdown",
   "id": "7333d9fa",
   "metadata": {},
   "source": [
    "gpt한테 물어봄 _ 결과는 상관계수(Correlation Coefficient)로 반환\n",
    "1에 가까울수록 강한 양의 상관관계.\n",
    "-1에 가까울수록 강한 음의 상관관계.\n",
    "0에 가까울수록 상관관계 없음.\n",
    "\n",
    "코드 상세 설명\n",
    "corr(\"Zipcode\", \"Delay\"):\n",
    "\n",
    "corr는 **상관계수(Correlation Coefficient)**를 계산하는 PySpark의 함수입니다.\n",
    "\"Zipcode\": 우편번호(지역) 열.\n",
    "\"Delay\": 신고 지연 시간 열.\n",
    "이 함수는 두 열 간의 상관계수를 계산합니다.\n",
    "결과값은 -1에서 1 사이의 실수로 반환됩니다:\n",
    "\n",
    "1: 강한 양의 상관관계 (두 값이 함께 증가).\n",
    "0: 상관관계 없음.\n",
    "-1: 강한 음의 상관관계 (한 값이 증가하면 다른 값이 감소).\n",
    ".select(corr(...).alias(\"Correlation\")):\n",
    "\n",
    "corr로 계산된 상관계수 값을 새 컬럼 Correlation에 저장합니다.\n",
    ".alias(\"Correlation\"): 계산된 상관계수에 별칭을 부여하여 DataFrame 컬럼 이름으로 사용.\n",
    ".show():\n",
    "\n",
    "DataFrame의 결과를 출력합니다.\n",
    "계산된 상관계수를 화면에 표시합니다."
   ]
  },
  {
   "cell_type": "code",
   "execution_count": 20,
   "id": "5cb5330e",
   "metadata": {},
   "outputs": [
    {
     "name": "stderr",
     "output_type": "stream",
     "text": [
      "                                                                                \r"
     ]
    }
   ],
   "source": [
    "# 데이터를 Parquet 파일로 저장\n",
    "df.write.format(\"parquet\").save(\"data/sf_fire_calls.parquet\")\n"
   ]
  },
  {
   "cell_type": "code",
   "execution_count": 21,
   "id": "7f935dc1",
   "metadata": {},
   "outputs": [],
   "source": [
    "spark.stop()"
   ]
  },
  {
   "cell_type": "code",
   "execution_count": 38,
   "id": "4eb3d0e7",
   "metadata": {},
   "outputs": [],
   "source": [
    "#시각화..??"
   ]
  },
  {
   "cell_type": "code",
   "execution_count": 40,
   "id": "0255431b",
   "metadata": {},
   "outputs": [
    {
     "name": "stdout",
     "output_type": "stream",
     "text": [
      "Collecting pandas\n",
      "  Downloading pandas-2.0.3-cp38-cp38-manylinux_2_17_x86_64.manylinux2014_x86_64.whl.metadata (18 kB)\n",
      "Requirement already satisfied: python-dateutil>=2.8.2 in /home/ubuntu/anaconda3/envs/spark_start/lib/python3.8/site-packages (from pandas) (2.9.0.post0)\n",
      "Collecting pytz>=2020.1 (from pandas)\n",
      "  Downloading pytz-2024.2-py2.py3-none-any.whl.metadata (22 kB)\n",
      "Collecting tzdata>=2022.1 (from pandas)\n",
      "  Downloading tzdata-2024.2-py2.py3-none-any.whl.metadata (1.4 kB)\n",
      "Requirement already satisfied: numpy>=1.20.3 in /home/ubuntu/anaconda3/envs/spark_start/lib/python3.8/site-packages (from pandas) (1.24.4)\n",
      "Requirement already satisfied: six>=1.5 in /home/ubuntu/anaconda3/envs/spark_start/lib/python3.8/site-packages (from python-dateutil>=2.8.2->pandas) (1.16.0)\n",
      "Downloading pandas-2.0.3-cp38-cp38-manylinux_2_17_x86_64.manylinux2014_x86_64.whl (12.4 MB)\n",
      "\u001b[2K   \u001b[90m━━━━━━━━━━━━━━━━━━━━━━━━━━━━━━━━━━━━━━━━\u001b[0m \u001b[32m12.4/12.4 MB\u001b[0m \u001b[31m176.3 MB/s\u001b[0m eta \u001b[36m0:00:00\u001b[0m\n",
      "\u001b[?25hDownloading pytz-2024.2-py2.py3-none-any.whl (508 kB)\n",
      "Downloading tzdata-2024.2-py2.py3-none-any.whl (346 kB)\n",
      "Installing collected packages: pytz, tzdata, pandas\n",
      "Successfully installed pandas-2.0.3 pytz-2024.2 tzdata-2024.2\n",
      "Note: you may need to restart the kernel to use updated packages.\n"
     ]
    }
   ],
   "source": [
    "pip install pandas\n"
   ]
  },
  {
   "cell_type": "code",
   "execution_count": 41,
   "id": "1892d764",
   "metadata": {},
   "outputs": [
    {
     "name": "stdout",
     "output_type": "stream",
     "text": [
      "Requirement already satisfied: matplotlib in /home/ubuntu/anaconda3/envs/spark_start/lib/python3.8/site-packages (3.7.5)\n",
      "Requirement already satisfied: contourpy>=1.0.1 in /home/ubuntu/anaconda3/envs/spark_start/lib/python3.8/site-packages (from matplotlib) (1.1.1)\n",
      "Requirement already satisfied: cycler>=0.10 in /home/ubuntu/anaconda3/envs/spark_start/lib/python3.8/site-packages (from matplotlib) (0.12.1)\n",
      "Requirement already satisfied: fonttools>=4.22.0 in /home/ubuntu/anaconda3/envs/spark_start/lib/python3.8/site-packages (from matplotlib) (4.55.2)\n",
      "Requirement already satisfied: kiwisolver>=1.0.1 in /home/ubuntu/anaconda3/envs/spark_start/lib/python3.8/site-packages (from matplotlib) (1.4.7)\n",
      "Requirement already satisfied: numpy<2,>=1.20 in /home/ubuntu/anaconda3/envs/spark_start/lib/python3.8/site-packages (from matplotlib) (1.24.4)\n",
      "Requirement already satisfied: packaging>=20.0 in /home/ubuntu/anaconda3/envs/spark_start/lib/python3.8/site-packages (from matplotlib) (24.2)\n",
      "Requirement already satisfied: pillow>=6.2.0 in /home/ubuntu/anaconda3/envs/spark_start/lib/python3.8/site-packages (from matplotlib) (10.4.0)\n",
      "Requirement already satisfied: pyparsing>=2.3.1 in /home/ubuntu/anaconda3/envs/spark_start/lib/python3.8/site-packages (from matplotlib) (3.1.4)\n",
      "Requirement already satisfied: python-dateutil>=2.7 in /home/ubuntu/anaconda3/envs/spark_start/lib/python3.8/site-packages (from matplotlib) (2.9.0.post0)\n",
      "Requirement already satisfied: importlib-resources>=3.2.0 in /home/ubuntu/anaconda3/envs/spark_start/lib/python3.8/site-packages (from matplotlib) (6.4.5)\n",
      "Requirement already satisfied: zipp>=3.1.0 in /home/ubuntu/anaconda3/envs/spark_start/lib/python3.8/site-packages (from importlib-resources>=3.2.0->matplotlib) (3.20.2)\n",
      "Requirement already satisfied: six>=1.5 in /home/ubuntu/anaconda3/envs/spark_start/lib/python3.8/site-packages (from python-dateutil>=2.7->matplotlib) (1.16.0)\n",
      "Note: you may need to restart the kernel to use updated packages.\n"
     ]
    }
   ],
   "source": [
    "pip install matplotlib\n"
   ]
  },
  {
   "cell_type": "code",
   "execution_count": 43,
   "id": "9bd79488",
   "metadata": {},
   "outputs": [
    {
     "data": {
      "image/png": "[encoded data removed]",
      "text/plain": [
       "<Figure size 1000x600 with 1 Axes>"
      ]
     },
     "metadata": {},
     "output_type": "display_data"
    }
   ],
   "source": [
    "import matplotlib.pyplot as plt\n",
    "\n",
    "# PySpark 데이터프레임을 Pandas로 변환\n",
    "most_common_call_pandas = most_common_call.toPandas()\n",
    "\n",
    "\n",
    "# Top 10 신고 유형만 선택\n",
    "top_10_calls = most_common_call.limit(10).toPandas()\n",
    "\n",
    "# 신고 유형(CallType)별 빈도수 시각화\n",
    "plt.figure(figsize=(10, 6))\n",
    "plt.barh(top_10_calls[\"CallType\"], top_10_calls[\"count\"], color=\"skyblue\")\n",
    "plt.xlabel(\"Number of Calls\", fontsize=12)\n",
    "plt.ylabel(\"Call Type\", fontsize=12)\n",
    "plt.title(\"Top 10 Most Common Call Types\", fontsize=14)\n",
    "plt.gca().invert_yaxis()  # 막대 그래프를 위에서 아래로 정렬\n",
    "plt.tight_layout()\n",
    "plt.show()\n",
    "\n"
   ]
  },
  {
   "cell_type": "code",
   "execution_count": null,
   "id": "8518b335",
   "metadata": {},
   "outputs": [],
   "source": []
  }
 ],
 "metadata": {
  "kernelspec": {
   "display_name": "Python (spark_start)",
   "language": "python",
   "name": "spark_start"
  },
  "language_info": {
   "codemirror_mode": {
    "name": "ipython",
    "version": 3
   },
   "file_extension": ".py",
   "mimetype": "text/x-python",
   "name": "python",
   "nbconvert_exporter": "python",
   "pygments_lexer": "ipython3",
   "version": "3.8.20"
  }
 },
 "nbformat": 4,
 "nbformat_minor": 5
}
