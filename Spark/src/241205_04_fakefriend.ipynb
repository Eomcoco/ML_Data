{
 "cells": [
  {
   "cell_type": "code",
   "execution_count": 1,
   "id": "0c852453",
   "metadata": {},
   "outputs": [
    {
     "name": "stderr",
     "output_type": "stream",
     "text": [
      "24/12/05 14:57:12 WARN NativeCodeLoader: Unable to load native-hadoop library for your platform... using builtin-java classes where applicable\n",
      "Using Spark's default log4j profile: org/apache/spark/log4j-defaults.properties\n",
      "Setting default log level to \"WARN\".\n",
      "To adjust logging level use sc.setLogLevel(newLevel). For SparkR, use setLogLevel(newLevel).\n"
     ]
    }
   ],
   "source": [
    "from pyspark import SparkConf, SparkContext\n",
    "# 스파크 환경 설정 객체 생성\n",
    "conf = SparkConf().setMaster(\"local\").setAppName(\"241205_04_fakefriend\")\n",
    "spark = SparkContext(conf=conf).getOrCreate()"
   ]
  },
  {
   "cell_type": "code",
   "execution_count": 2,
   "id": "7ce9c7c0",
   "metadata": {},
   "outputs": [
    {
     "data": {
      "text/plain": [
       "file:////home/lab12/src/data/fakefriends.csv MapPartitionsRDD[1] at textFile at NativeMethodAccessorImpl.java:0"
      ]
     },
     "execution_count": 2,
     "metadata": {},
     "output_type": "execute_result"
    }
   ],
   "source": [
    "import os\n",
    "directory = os.path.join(os.getcwd(),\"data\")\n",
    "filename = \"fakefriends.csv\"\n",
    "filepath = os.path.join(directory, filename)\n",
    "lines = spark.textFile(\"file:///\"+filepath.replace(\"\\\\\",\"/\"))\n",
    "lines"
   ]
  },
  {
   "cell_type": "code",
   "execution_count": 3,
   "id": "cd8606af",
   "metadata": {},
   "outputs": [
    {
     "name": "stderr",
     "output_type": "stream",
     "text": [
      "                                                                                \r"
     ]
    },
    {
     "data": {
      "text/plain": [
       "['0,Will,33,385',\n",
       " '1,Jean-Luc,26,2',\n",
       " '2,Hugh,55,221',\n",
       " '3,Deanna,40,465',\n",
       " '4,Quark,68,21',\n",
       " '5,Weyoun,59,318',\n",
       " '6,Gowron,37,220',\n",
       " '7,Will,54,307',\n",
       " '8,Jadzia,38,380',\n",
       " '9,Hugh,27,181']"
      ]
     },
     "execution_count": 3,
     "metadata": {},
     "output_type": "execute_result"
    }
   ],
   "source": [
    "lines.take(10)"
   ]
  },
  {
   "cell_type": "code",
   "execution_count": null,
   "id": "3661ae02",
   "metadata": {},
   "outputs": [],
   "source": [
    "#평균 친구수를 구하기 \n",
    "#데이터에서 친구 수 (네번째 열)을 추출하고 이를 기반으로 평균을 계산"
   ]
  },
  {
   "cell_type": "code",
   "execution_count": 5,
   "id": "3b799a41",
   "metadata": {},
   "outputs": [],
   "source": [
    "fields = lines.map(lambda line: line.split(\",\"))"
   ]
  },
  {
   "cell_type": "code",
   "execution_count": 6,
   "id": "e89fa6ea",
   "metadata": {},
   "outputs": [],
   "source": [
    "friend_counts = fields.map(lambda x: int(x[3]))"
   ]
  },
  {
   "cell_type": "code",
   "execution_count": 9,
   "id": "bafbc930",
   "metadata": {},
   "outputs": [],
   "source": [
    "#합계와 개수 계산\n",
    "total_friends = friend_counts.reduce(lambda x, y: x + y)\n",
    "total_count = friend_counts.count()"
   ]
  },
  {
   "cell_type": "code",
   "execution_count": 12,
   "id": "df9ec3f6",
   "metadata": {},
   "outputs": [
    {
     "data": {
      "text/plain": [
       "248"
      ]
     },
     "execution_count": 12,
     "metadata": {},
     "output_type": "execute_result"
    }
   ],
   "source": [
    "average_friends = int(total_friends / total_count)\n",
    "average_friends\n",
    "#사람을 소수점으로 자를 수 없어서 정수 형태로 값을 출력함.. 사사오입은 안됨 ㅇㅁㅇ"
   ]
  },
  {
   "cell_type": "code",
   "execution_count": null,
   "id": "9e09710c",
   "metadata": {},
   "outputs": [],
   "source": []
  },
  {
   "cell_type": "code",
   "execution_count": null,
   "id": "1bf69f77",
   "metadata": {},
   "outputs": [],
   "source": [
    "#친구가 가장 많은 인싸 녀석을 찾기"
   ]
  },
  {
   "cell_type": "code",
   "execution_count": 13,
   "id": "7640e6c0",
   "metadata": {},
   "outputs": [],
   "source": [
    "max_friends_record = fields.reduce(lambda x, y: x if int(x[3]) > int(y[3]) else y)"
   ]
  },
  {
   "cell_type": "code",
   "execution_count": 19,
   "id": "488bfac4",
   "metadata": {},
   "outputs": [
    {
     "data": {
      "text/plain": [
       "['353', 'Julian', '64', '499']"
      ]
     },
     "execution_count": 19,
     "metadata": {},
     "output_type": "execute_result"
    }
   ],
   "source": [
    "max_friends_record"
   ]
  },
  {
   "cell_type": "code",
   "execution_count": 20,
   "id": "6b9428b9",
   "metadata": {},
   "outputs": [
    {
     "name": "stdout",
     "output_type": "stream",
     "text": [
      "가장 친구가 많은 사람: ID=106, 이름=Beverly, 나이=18, 친구 수=499\n",
      "가장 친구가 많은 사람: ID=278, 이름=Data, 나이=44, 친구 수=499\n",
      "가장 친구가 많은 사람: ID=353, 이름=Julian, 나이=64, 친구 수=499\n"
     ]
    }
   ],
   "source": [
    "# 1. 데이터 분리\n",
    "fields = lines.map(lambda line: line.split(\",\"))\n",
    "\n",
    "# 2. 최대 친구 수 계산\n",
    "max_friends = fields.map(lambda x: int(x[3])).max()\n",
    "\n",
    "# 3. 최대 친구 수를 가진 모든 사람 찾기\n",
    "most_popular = fields.filter(lambda x: int(x[3]) == max_friends).collect()\n",
    "\n",
    "# 4. 결과 출력\n",
    "for record in most_popular:\n",
    "    print(f\"가장 친구가 많은 사람: ID={record[0]}, 이름={record[1]}, 나이={record[2]}, 친구 수={record[3]}\")\n"
   ]
  },
  {
   "cell_type": "code",
   "execution_count": null,
   "id": "08a6c623",
   "metadata": {},
   "outputs": [],
   "source": [
    "#동점 일 경우랑 같이 비교.. 헷갈리네"
   ]
  },
  {
   "cell_type": "code",
   "execution_count": null,
   "id": "5bb4db73",
   "metadata": {},
   "outputs": [],
   "source": [
    "#친구가 100명 이상인 사람들 찾아보기"
   ]
  },
  {
   "cell_type": "code",
   "execution_count": 23,
   "id": "7b7d8635",
   "metadata": {},
   "outputs": [
    {
     "data": {
      "text/plain": [
       "[['0', 'Will', '33', '385'],\n",
       " ['2', 'Hugh', '55', '221'],\n",
       " ['3', 'Deanna', '40', '465'],\n",
       " ['5', 'Weyoun', '59', '318'],\n",
       " ['6', 'Gowron', '37', '220'],\n",
       " ['7', 'Will', '54', '307'],\n",
       " ['8', 'Jadzia', '38', '380'],\n",
       " ['9', 'Hugh', '27', '181'],\n",
       " ['10', 'Odo', '53', '191'],\n",
       " ['11', 'Ben', '57', '372'],\n",
       " ['12', 'Keiko', '54', '253'],\n",
       " ['13', 'Jean-Luc', '56', '444'],\n",
       " ['16', 'Weyoun', '22', '323'],\n",
       " ['18', 'Jean-Luc', '45', '455'],\n",
       " ['19', 'Geordi', '60', '246'],\n",
       " ['20', 'Odo', '67', '220'],\n",
       " ['21', 'Miles', '19', '268'],\n",
       " ['23', 'Keiko', '51', '271'],\n",
       " ['25', 'Ben', '21', '445'],\n",
       " ['26', 'Julian', '22', '100'],\n",
       " ['27', 'Leeta', '42', '363'],\n",
       " ['28', 'Martok', '49', '476'],\n",
       " ['29', 'Nog', '48', '364'],\n",
       " ['30', 'Keiko', '50', '175'],\n",
       " ['31', 'Miles', '39', '161'],\n",
       " ['32', 'Nog', '26', '281'],\n",
       " ['33', 'Dukat', '53', '197'],\n",
       " ['34', 'Jean-Luc', '43', '249'],\n",
       " ['35', 'Beverly', '27', '305'],\n",
       " ['39', 'Morn', '31', '192'],\n",
       " ['40', 'Odo', '52', '413'],\n",
       " ['41', 'Hugh', '67', '167'],\n",
       " ['43', 'Guinan', '58', '345'],\n",
       " ['44', 'Nerys', '35', '244'],\n",
       " ['49', 'Ezri', '40', '254'],\n",
       " ['50', 'Quark', '51', '283'],\n",
       " ['51', 'Lwaxana', '36', '212'],\n",
       " ['52', 'Beverly', '19', '269'],\n",
       " ['55', 'Keiko', '41', '278'],\n",
       " ['56', 'Gowron', '44', '194'],\n",
       " ['57', 'Odo', '57', '294'],\n",
       " ['58', 'Hugh', '59', '158'],\n",
       " ['59', 'Morn', '59', '284'],\n",
       " ['60', 'Geordi', '20', '100'],\n",
       " ['61', 'Kasidy', '62', '442'],\n",
       " ['65', 'Guinan', '52', '169'],\n",
       " ['66', 'Geordi', '21', '477'],\n",
       " ['67', 'Jadzia', '48', '135'],\n",
       " ['69', 'Jean-Luc', '30', '204'],\n",
       " ['70', 'Brunt', '52', '393'],\n",
       " ['71', 'Geordi', '45', '184'],\n",
       " ['72', 'Kasidy', '22', '179'],\n",
       " ['73', 'Brunt', '20', '384'],\n",
       " ['74', 'Leeta', '65', '208'],\n",
       " ['75', 'Morn', '40', '459'],\n",
       " ['76', 'Will', '62', '201'],\n",
       " ['77', 'Weyoun', '40', '407'],\n",
       " ['78', 'Data', '61', '337'],\n",
       " ['79', 'Leeta', '58', '348'],\n",
       " ['80', 'Dukat', '67', '445'],\n",
       " ['81', 'Jadzia', '54', '440'],\n",
       " ['82', 'Hugh', '57', '465'],\n",
       " ['83', 'Geordi', '32', '308'],\n",
       " ['84', 'Ben', '28', '311'],\n",
       " ['85', 'Quark', '66', '383'],\n",
       " ['86', 'Hugh', '55', '257'],\n",
       " ['87', 'Ezri', '31', '481'],\n",
       " ['88', 'Ben', '66', '188'],\n",
       " ['89', 'Worf', '24', '492'],\n",
       " ['90', 'Kasidy', '33', '471'],\n",
       " ['94', 'Morn', '62', '133'],\n",
       " ['95', 'Odo', '29', '173'],\n",
       " ['96', 'Ezri', '25', '233'],\n",
       " ['97', 'Nerys', '69', '361'],\n",
       " ['98', 'Will', '44', '178'],\n",
       " ['99', 'Keiko', '69', '491'],\n",
       " ['100', 'Jean-Luc', '61', '460'],\n",
       " ['101', 'Morn', '67', '123'],\n",
       " ['104', 'Dukat', '32', '142'],\n",
       " ['105', 'Morn', '50', '417'],\n",
       " ['106', 'Beverly', '18', '499'],\n",
       " ['107', 'Will', '64', '419'],\n",
       " ['108', 'Leeta', '25', '274'],\n",
       " ['109', 'Quark', '53', '417'],\n",
       " ['110', 'Nog', '64', '137'],\n",
       " ['113', 'Quark', '41', '244'],\n",
       " ['114', 'Worf', '33', '275'],\n",
       " ['115', 'Dukat', '18', '397'],\n",
       " ['117', 'Rom', '52', '487'],\n",
       " ['118', 'Ben', '28', '304'],\n",
       " ['119', 'Worf', '29', '344'],\n",
       " ['120', 'Jean-Luc', '68', '264'],\n",
       " ['121', 'Deanna', '35', '355'],\n",
       " ['122', 'Data', '45', '400'],\n",
       " ['123', 'Jadzia', '45', '439'],\n",
       " ['124', 'Data', '47', '429'],\n",
       " ['125', 'Rom', '66', '284'],\n",
       " ['127', 'Miles', '40', '284'],\n",
       " ['128', 'Julian', '34', '221'],\n",
       " ['129', 'Kasidy', '45', '252'],\n",
       " ['130', 'Gowron', '67', '350'],\n",
       " ['131', 'Hugh', '65', '309'],\n",
       " ['132', 'Odo', '46', '462'],\n",
       " ['133', 'Quark', '19', '265'],\n",
       " ['134', 'Ben', '45', '340'],\n",
       " ['135', 'Rom', '42', '427'],\n",
       " ['136', 'Will', '19', '335'],\n",
       " ['138', 'Dukat', '32', '384'],\n",
       " ['139', 'Nog', '36', '193'],\n",
       " ['140', 'Elim', '64', '234'],\n",
       " ['141', 'Miles', '36', '424'],\n",
       " ['142', 'Guinan', '59', '335'],\n",
       " ['143', 'Data', '60', '124'],\n",
       " ['145', 'Leeta', '45', '470'],\n",
       " ['146', 'Nerys', '58', '174'],\n",
       " ['147', 'Quark', '61', '373'],\n",
       " ['148', 'Nerys', '39', '248'],\n",
       " ['149', 'Beverly', '49', '340'],\n",
       " ['150', 'Nerys', '55', '313'],\n",
       " ['151', 'Keiko', '54', '441'],\n",
       " ['152', 'Kasidy', '54', '235'],\n",
       " ['153', 'Morn', '63', '342'],\n",
       " ['154', 'Geordi', '40', '389'],\n",
       " ['155', 'Beverly', '50', '126'],\n",
       " ['156', 'Deanna', '44', '360'],\n",
       " ['157', 'Dukat', '34', '319'],\n",
       " ['158', 'Odo', '31', '340'],\n",
       " ['159', 'Kasidy', '67', '438'],\n",
       " ['160', 'Beverly', '58', '112'],\n",
       " ['161', 'Odo', '39', '207'],\n",
       " ['163', 'Nerys', '67', '204'],\n",
       " ['164', 'Will', '31', '172'],\n",
       " ['165', 'Leeta', '26', '282'],\n",
       " ['168', 'Martok', '68', '112'],\n",
       " ['170', 'Jean-Luc', '68', '490'],\n",
       " ['171', 'Weyoun', '29', '126'],\n",
       " ['172', 'Kasidy', '55', '204'],\n",
       " ['173', 'Leeta', '23', '129'],\n",
       " ['175', 'Will', '38', '459'],\n",
       " ['176', 'Worf', '55', '474'],\n",
       " ['177', 'Brunt', '67', '316'],\n",
       " ['178', 'Kasidy', '26', '381'],\n",
       " ['179', 'Elim', '37', '426'],\n",
       " ['180', 'Kasidy', '30', '108'],\n",
       " ['181', 'Rom', '43', '404'],\n",
       " ['182', 'Weyoun', '26', '145'],\n",
       " ['183', 'Ben', '47', '488'],\n",
       " ['185', 'Weyoun', '48', '287'],\n",
       " ['186', 'Miles', '31', '109'],\n",
       " ['187', 'Nerys', '47', '225'],\n",
       " ['188', 'Keiko', '54', '369'],\n",
       " ['190', 'Geordi', '60', '294'],\n",
       " ['191', 'Nog', '40', '349'],\n",
       " ['192', 'Jadzia', '45', '497'],\n",
       " ['193', 'Nerys', '60', '125'],\n",
       " ['195', 'Ben', '30', '376'],\n",
       " ['196', 'Data', '38', '173'],\n",
       " ['198', 'Brunt', '48', '381'],\n",
       " ['199', 'Hugh', '38', '180'],\n",
       " ['200', 'Kasidy', '21', '472'],\n",
       " ['201', 'Ezri', '23', '174'],\n",
       " ['202', 'Lwaxana', '63', '469'],\n",
       " ['203', 'Ezri', '46', '125'],\n",
       " ['204', 'Deanna', '64', '164'],\n",
       " ['205', 'Morn', '69', '236'],\n",
       " ['206', 'Will', '21', '491'],\n",
       " ['207', 'Lwaxana', '41', '206'],\n",
       " ['208', 'Nog', '37', '271'],\n",
       " ['209', 'Brunt', '27', '174'],\n",
       " ['210', 'Data', '33', '245'],\n",
       " ['212', 'Geordi', '55', '284'],\n",
       " ['213', 'Worf', '28', '312'],\n",
       " ['214', 'Miles', '32', '182'],\n",
       " ['216', 'Brunt', '34', '116'],\n",
       " ['217', 'Keiko', '29', '260'],\n",
       " ['218', 'Gowron', '66', '350'],\n",
       " ['219', 'Lwaxana', '26', '345'],\n",
       " ['220', 'Jean-Luc', '41', '394'],\n",
       " ['221', 'Dukat', '27', '150'],\n",
       " ['222', 'Rom', '34', '346'],\n",
       " ['223', 'Odo', '40', '406'],\n",
       " ['224', 'Keiko', '44', '277'],\n",
       " ['225', 'Elim', '19', '106'],\n",
       " ['226', 'Lwaxana', '37', '207'],\n",
       " ['227', 'Ezri', '40', '198'],\n",
       " ['228', 'Martok', '26', '293'],\n",
       " ['229', 'Gowron', '24', '150'],\n",
       " ['230', 'Beverly', '54', '397'],\n",
       " ['232', 'Worf', '68', '481'],\n",
       " ['236', 'Brunt', '62', '442'],\n",
       " ['237', 'Nerys', '61', '469'],\n",
       " ['238', 'Deanna', '25', '305'],\n",
       " ['239', 'Nog', '48', '345'],\n",
       " ['240', 'Deanna', '46', '154'],\n",
       " ['241', 'Quark', '45', '332'],\n",
       " ['242', 'Data', '25', '101'],\n",
       " ['244', 'Dukat', '21', '471'],\n",
       " ['245', 'Jean-Luc', '28', '174'],\n",
       " ['246', 'Leeta', '41', '260'],\n",
       " ['247', 'Ezri', '52', '338'],\n",
       " ['248', 'Dukat', '21', '138'],\n",
       " ['250', 'Hugh', '36', '342'],\n",
       " ['252', 'Will', '36', '174'],\n",
       " ['253', 'Leeta', '69', '116'],\n",
       " ['255', 'Deanna', '60', '324'],\n",
       " ['256', 'Worf', '32', '412'],\n",
       " ['257', 'Data', '51', '161'],\n",
       " ['258', 'Worf', '68', '217'],\n",
       " ['261', 'Jadzia', '40', '172'],\n",
       " ['262', 'Will', '51', '334'],\n",
       " ['264', 'Julian', '29', '228'],\n",
       " ['265', 'Gowron', '27', '471'],\n",
       " ['266', 'Jean-Luc', '66', '496'],\n",
       " ['267', 'Dukat', '49', '106'],\n",
       " ['268', 'Ezri', '26', '298'],\n",
       " ['269', 'Beverly', '55', '289'],\n",
       " ['270', 'Data', '44', '353'],\n",
       " ['271', 'Morn', '25', '446'],\n",
       " ['272', 'Quark', '29', '367'],\n",
       " ['273', 'Data', '51', '493'],\n",
       " ['274', 'Julian', '64', '244'],\n",
       " ['276', 'Dukat', '54', '462'],\n",
       " ['277', 'Hugh', '46', '300'],\n",
       " ['278', 'Data', '44', '499'],\n",
       " ['279', 'Beverly', '23', '133'],\n",
       " ['280', 'Nerys', '26', '492'],\n",
       " ['282', 'Geordi', '32', '404'],\n",
       " ['283', 'Dukat', '65', '443'],\n",
       " ['284', 'Nog', '26', '269'],\n",
       " ['285', 'Data', '43', '101'],\n",
       " ['286', 'Lwaxana', '30', '384'],\n",
       " ['287', 'Beverly', '64', '396'],\n",
       " ['288', 'Hugh', '56', '354'],\n",
       " ['289', 'Ezri', '30', '221'],\n",
       " ['290', 'Beverly', '62', '290'],\n",
       " ['291', 'Dukat', '23', '373'],\n",
       " ['292', 'Nog', '63', '380'],\n",
       " ['294', 'Leeta', '38', '410'],\n",
       " ['296', 'Data', '38', '454'],\n",
       " ['297', 'Ben', '45', '395'],\n",
       " ['298', 'Guinan', '57', '207'],\n",
       " ['299', 'Rom', '57', '311'],\n",
       " ['300', 'Beverly', '49', '147'],\n",
       " ['301', 'Weyoun', '28', '108'],\n",
       " ['302', 'Beverly', '37', '263'],\n",
       " ['303', 'Deanna', '46', '319'],\n",
       " ['304', 'Will', '19', '404'],\n",
       " ['305', 'Quark', '29', '182'],\n",
       " ['306', 'Beverly', '23', '323'],\n",
       " ['307', 'Keiko', '41', '340'],\n",
       " ['309', 'Geordi', '67', '153'],\n",
       " ['310', 'Odo', '68', '189'],\n",
       " ['312', 'Jadzia', '61', '421'],\n",
       " ['313', 'Dukat', '59', '169'],\n",
       " ['314', 'Geordi', '36', '168'],\n",
       " ['315', 'Weyoun', '25', '208'],\n",
       " ['316', 'Hugh', '64', '391'],\n",
       " ['317', 'Guinan', '59', '439'],\n",
       " ['318', 'Deanna', '35', '251'],\n",
       " ['319', 'Leeta', '30', '476'],\n",
       " ['320', 'Worf', '62', '450'],\n",
       " ['323', 'Nog', '29', '236'],\n",
       " ['324', 'Miles', '56', '343'],\n",
       " ['325', 'Keiko', '51', '492'],\n",
       " ['326', 'Beverly', '46', '407'],\n",
       " ['330', 'Ezri', '33', '356'],\n",
       " ['332', 'Julian', '55', '362'],\n",
       " ['333', 'Ben', '29', '207'],\n",
       " ['335', 'Odo', '27', '337'],\n",
       " ['338', 'Will', '28', '180'],\n",
       " ['339', 'Morn', '66', '305'],\n",
       " ['340', 'Nerys', '57', '275'],\n",
       " ['341', 'Data', '18', '326'],\n",
       " ['342', 'Guinan', '46', '151'],\n",
       " ['343', 'Odo', '26', '254'],\n",
       " ['344', 'Data', '30', '487'],\n",
       " ['345', 'Ezri', '31', '394'],\n",
       " ['346', 'Hugh', '29', '329'],\n",
       " ['348', 'Weyoun', '33', '460'],\n",
       " ['349', 'Kasidy', '20', '277'],\n",
       " ['350', 'Nog', '55', '464'],\n",
       " ['353', 'Julian', '64', '499'],\n",
       " ['355', 'Keiko', '46', '352'],\n",
       " ['356', 'Weyoun', '67', '149'],\n",
       " ['358', 'Will', '52', '276'],\n",
       " ['359', 'Nog', '54', '442'],\n",
       " ['361', 'Worf', '68', '206'],\n",
       " ['362', 'Ezri', '39', '120'],\n",
       " ['363', 'Dukat', '41', '397'],\n",
       " ['364', 'Lwaxana', '54', '115'],\n",
       " ['365', 'Brunt', '65', '430'],\n",
       " ['366', 'Keiko', '19', '119'],\n",
       " ['367', 'Data', '39', '106'],\n",
       " ['368', 'Elim', '26', '383'],\n",
       " ['369', 'Quark', '48', '266'],\n",
       " ['371', 'Guinan', '31', '435'],\n",
       " ['372', 'Brunt', '62', '273'],\n",
       " ['373', 'Quark', '19', '272'],\n",
       " ['374', 'Nog', '68', '293'],\n",
       " ['375', 'Hugh', '66', '201'],\n",
       " ['376', 'Gowron', '23', '392'],\n",
       " ['377', 'Beverly', '18', '418'],\n",
       " ['379', 'Data', '60', '304'],\n",
       " ['382', 'Worf', '66', '240'],\n",
       " ['383', 'Data', '69', '148'],\n",
       " ['384', 'Martok', '67', '355'],\n",
       " ['385', 'Beverly', '57', '436'],\n",
       " ['386', 'Data', '35', '428'],\n",
       " ['387', 'Will', '43', '335'],\n",
       " ['388', 'Nog', '30', '184'],\n",
       " ['390', 'Martok', '22', '266'],\n",
       " ['391', 'Ben', '64', '309'],\n",
       " ['392', 'Data', '64', '343'],\n",
       " ['393', 'Quark', '50', '436'],\n",
       " ['394', 'Keiko', '23', '230'],\n",
       " ['397', 'Quark', '69', '470'],\n",
       " ['398', 'Lwaxana', '26', '124'],\n",
       " ['399', 'Beverly', '24', '401'],\n",
       " ['400', 'Data', '29', '128'],\n",
       " ['401', 'Jean-Luc', '42', '467'],\n",
       " ['403', 'Weyoun', '21', '224'],\n",
       " ['405', 'Nog', '56', '371'],\n",
       " ['406', 'Ben', '57', '121'],\n",
       " ['408', 'Dukat', '62', '496'],\n",
       " ['409', 'Nog', '19', '267'],\n",
       " ['410', 'Odo', '35', '299'],\n",
       " ['412', 'Jadzia', '53', '451'],\n",
       " ['413', 'Hugh', '45', '147'],\n",
       " ['414', 'Martok', '56', '313'],\n",
       " ['416', 'Nerys', '33', '294'],\n",
       " ['417', 'Julian', '37', '106'],\n",
       " ['418', 'Guinan', '32', '212'],\n",
       " ['419', 'Kasidy', '55', '176'],\n",
       " ['420', 'Jadzia', '26', '391'],\n",
       " ['421', 'Will', '40', '261'],\n",
       " ['422', 'Ben', '67', '292'],\n",
       " ['423', 'Will', '44', '388'],\n",
       " ['424', 'Keiko', '55', '470'],\n",
       " ['425', 'Quark', '33', '243'],\n",
       " ['427', 'Brunt', '28', '258'],\n",
       " ['428', 'Lwaxana', '68', '423'],\n",
       " ['429', 'Jean-Luc', '63', '345'],\n",
       " ['430', 'Geordi', '36', '493'],\n",
       " ['431', 'Quark', '36', '343'],\n",
       " ['433', 'Ezri', '38', '203'],\n",
       " ['434', 'Deanna', '57', '289'],\n",
       " ['435', 'Guinan', '42', '275'],\n",
       " ['436', 'Geordi', '57', '229'],\n",
       " ['437', 'Morn', '59', '221'],\n",
       " ['439', 'Data', '18', '417'],\n",
       " ['440', 'Elim', '48', '394'],\n",
       " ['441', 'Jadzia', '38', '143'],\n",
       " ['442', 'Nog', '46', '105'],\n",
       " ['443', 'Geordi', '64', '175'],\n",
       " ['444', 'Keiko', '18', '472'],\n",
       " ['445', 'Guinan', '40', '286'],\n",
       " ['448', 'Nerys', '48', '439'],\n",
       " ['449', 'Data', '52', '419'],\n",
       " ['450', 'Weyoun', '37', '234'],\n",
       " ['453', 'Julian', '44', '337'],\n",
       " ['454', 'Weyoun', '52', '456'],\n",
       " ['455', 'Elim', '33', '463'],\n",
       " ['456', 'Ezri', '37', '471'],\n",
       " ['458', 'Elim', '44', '335'],\n",
       " ['460', 'Hugh', '47', '400'],\n",
       " ['461', 'Geordi', '41', '236'],\n",
       " ['462', 'Nerys', '23', '287'],\n",
       " ['463', 'Keiko', '40', '220'],\n",
       " ['464', 'Beverly', '25', '485'],\n",
       " ['465', 'Morn', '53', '126'],\n",
       " ['466', 'Brunt', '33', '228'],\n",
       " ['467', 'Weyoun', '42', '194'],\n",
       " ['468', 'Ezri', '46', '227'],\n",
       " ['469', 'Brunt', '55', '271'],\n",
       " ['470', 'Deanna', '38', '160'],\n",
       " ['471', 'Brunt', '52', '273'],\n",
       " ['472', 'Nog', '27', '154'],\n",
       " ['475', 'Ben', '52', '446'],\n",
       " ['476', 'Jean-Luc', '28', '378'],\n",
       " ['477', 'Gowron', '50', '119'],\n",
       " ['479', 'Kasidy', '44', '320'],\n",
       " ['480', 'Geordi', '43', '428'],\n",
       " ['482', 'Ben', '48', '146'],\n",
       " ['484', 'Leeta', '22', '478'],\n",
       " ['485', 'Rom', '47', '356'],\n",
       " ['487', 'Brunt', '69', '431'],\n",
       " ['488', 'Nog', '61', '103'],\n",
       " ['489', 'Odo', '33', '410'],\n",
       " ['490', 'Nerys', '65', '101'],\n",
       " ['493', 'Hugh', '23', '357'],\n",
       " ['494', 'Kasidy', '18', '194'],\n",
       " ['495', 'Data', '46', '155'],\n",
       " ['496', 'Gowron', '39', '275'],\n",
       " ['497', 'Lwaxana', '34', '423']]"
      ]
     },
     "execution_count": 23,
     "metadata": {},
     "output_type": "execute_result"
    }
   ],
   "source": [
    "friends_above_100 = fields.filter(lambda x: int(x[3]) >= 100)\n",
    "friends_above_100.collect()"
   ]
  },
  {
   "cell_type": "code",
   "execution_count": null,
   "id": "931a2b44",
   "metadata": {},
   "outputs": [],
   "source": [
    "#collect 방식은 데이터가 많아지면 출력된 내용이 깔끔하지 않거나 드라이버 메모리에 부담이 될 수 있다."
   ]
  },
  {
   "cell_type": "code",
   "execution_count": 24,
   "id": "83216d05",
   "metadata": {},
   "outputs": [
    {
     "data": {
      "text/plain": [
       "394"
      ]
     },
     "execution_count": 24,
     "metadata": {},
     "output_type": "execute_result"
    }
   ],
   "source": [
    "count_above_100 = friends_above_100.count()\n",
    "count_above_100"
   ]
  },
  {
   "cell_type": "code",
   "execution_count": null,
   "id": "c9666b4b",
   "metadata": {},
   "outputs": [],
   "source": [
    "# 30~39세 나이대 사람들의 친구 평균수를 구해보자!"
   ]
  },
  {
   "cell_type": "code",
   "execution_count": 25,
   "id": "04b9110b",
   "metadata": {},
   "outputs": [],
   "source": [
    "age_30_to_39 = fields.filter(lambda x: 30 <= int(x[2]) <= 39)\n",
    "#x[2]는 문자열 형태의 나이이므로, 이를 정수(int)로 변환하여 비교합니다. -> 이해 완료!"
   ]
  },
  {
   "cell_type": "code",
   "execution_count": 31,
   "id": "fbc9e371",
   "metadata": {},
   "outputs": [
    {
     "data": {
      "text/plain": [
       "97"
      ]
     },
     "execution_count": 31,
     "metadata": {},
     "output_type": "execute_result"
    }
   ],
   "source": [
    "friend_counts = age_30_to_39.map(lambda x: int(x[3]))\n",
    "total_friends = friend_counts.reduce(lambda x, y: x + y)\n",
    "total_count = friend_counts.count()\n",
    "total_count"
   ]
  },
  {
   "cell_type": "code",
   "execution_count": 33,
   "id": "07e64bcc",
   "metadata": {},
   "outputs": [
    {
     "data": {
      "text/plain": [
       "235"
      ]
     },
     "execution_count": 33,
     "metadata": {},
     "output_type": "execute_result"
    }
   ],
   "source": [
    "average_friends = int(total_friends / total_count)\n",
    "average_friends"
   ]
  },
  {
   "cell_type": "code",
   "execution_count": null,
   "id": "d4eb9975",
   "metadata": {},
   "outputs": [],
   "source": [
    "#235명?!?!?! 평균이하.."
   ]
  },
  {
   "cell_type": "code",
   "execution_count": 34,
   "id": "3ad46915",
   "metadata": {},
   "outputs": [],
   "source": [
    "spark.stop()"
   ]
  },
  {
   "cell_type": "code",
   "execution_count": null,
   "id": "d4743fcc",
   "metadata": {},
   "outputs": [],
   "source": []
  }
 ],
 "metadata": {
  "kernelspec": {
   "display_name": "Python (spark_start)",
   "language": "python",
   "name": "spark_start"
  },
  "language_info": {
   "codemirror_mode": {
    "name": "ipython",
    "version": 3
   },
   "file_extension": ".py",
   "mimetype": "text/x-python",
   "name": "python",
   "nbconvert_exporter": "python",
   "pygments_lexer": "ipython3",
   "version": "3.8.20"
  }
 },
 "nbformat": 4,
 "nbformat_minor": 5
}
